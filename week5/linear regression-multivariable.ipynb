{
 "cells": [
  {
   "cell_type": "code",
   "execution_count": 2,
   "metadata": {},
   "outputs": [],
   "source": [
    "import numpy as np\n",
    "import matplotlib.pyplot as plt\n"
   ]
  },
  {
   "cell_type": "code",
   "execution_count": 3,
   "metadata": {},
   "outputs": [
    {
     "name": "stdout",
     "output_type": "stream",
     "text": [
      "(2, 7)\n",
      "[[1.  1.  1.5]\n",
      " [1.  2.  2.5]\n",
      " [1.  3.  3.5]\n",
      " [1.  4.  4.5]\n",
      " [1.  5.  5.5]\n",
      " [1.  6.  6.5]\n",
      " [1.  7.  7.5]]\n",
      "[[1]\n",
      " [1]\n",
      " [2]]\n",
      "[[ 5.]\n",
      " [ 8.]\n",
      " [11.]\n",
      " [14.]\n",
      " [17.]\n",
      " [20.]\n",
      " [23.]]\n"
     ]
    }
   ],
   "source": [
    "X = np.array([[1,2,3,4,5,6,7],[1.5,2.5,3.5,4.5,5.5,6.5,7.5]])\n",
    "Y = np.array([[2,4,6,8,10,12,14]])\n",
    "print(X.shape)\n",
    "one = np.ones((X.shape[1], 1))\n",
    "X = np.array(X).T\n",
    "X = np.concatenate((one,X),axis=1)\n",
    "Y = np.array(Y).T\n",
    "\n",
    "# test \n",
    "print(X)\n",
    "W = np.array([[1,1,2]]).T\n",
    "print(W)\n",
    "c = np.dot(X,W)\n",
    "print(c)"
   ]
  },
  {
   "cell_type": "code",
   "execution_count": 4,
   "metadata": {},
   "outputs": [
    {
     "name": "stdout",
     "output_type": "stream",
     "text": [
      "[1.  3.  3.5]\n",
      "[[1]\n",
      " [1]\n",
      " [2]]\n",
      "[11.]\n"
     ]
    }
   ],
   "source": [
    "# step 1: initialize and forward propagate  \n",
    "# y = w_1 * x + w_0\n",
    "def f(x):\n",
    "    return np.dot(x,W) \n",
    "print(X[2])\n",
    "print(W)\n",
    "print(f(X[2])) \n",
    "#print(len(X))"
   ]
  },
  {
   "cell_type": "code",
   "execution_count": 5,
   "metadata": {},
   "outputs": [
    {
     "name": "stdout",
     "output_type": "stream",
     "text": [
      "[20.]\n"
     ]
    }
   ],
   "source": [
    "# step 2: loss function \n",
    "def loss():\n",
    "    sum = 0\n",
    "    for i in range(len(X)):\n",
    "        sum += (f(X[i])-Y[i])**2\n",
    "    return sum/(2*len(X)) \n",
    "print(loss())"
   ]
  },
  {
   "cell_type": "code",
   "execution_count": 6,
   "metadata": {},
   "outputs": [
    {
     "name": "stdout",
     "output_type": "stream",
     "text": [
      "[28.]\n",
      "[6.]\n"
     ]
    }
   ],
   "source": [
    "# step 3: Differentiation\n",
    "def derivate(k):\n",
    "    sum = 0\n",
    "    for i in range(len(X)):\n",
    "        sum += 2*(f(X[i])-Y[i])*X[i][k]\n",
    "    return sum/(2*len(X))\n",
    "\n",
    "print(derivate(1))\n",
    "print(derivate(0))"
   ]
  },
  {
   "cell_type": "code",
   "execution_count": 9,
   "metadata": {},
   "outputs": [
    {
     "name": "stdout",
     "output_type": "stream",
     "text": [
      "0 :  [519.625]\n",
      "1 :  [187.87304052]\n",
      "2 :  [67.98154851]\n",
      "3 :  [24.65452143]\n",
      "4 :  [8.99693778]\n",
      "5 :  [3.33858773]\n",
      "6 :  [1.29368419]\n",
      "7 :  [0.55452384]\n",
      "8 :  [0.2871691]\n",
      "9 :  [0.19027266]\n",
      "10 :  [0.1549495]\n",
      "11 :  [0.14186143]\n",
      "W:\n",
      "[[ 0.24127331]\n",
      " [-0.06458249]\n",
      " [ 1.84405594]]\n"
     ]
    }
   ],
   "source": [
    "# step 4: update weight \n",
    "epoch = 50\n",
    "learning_rate = 0.01\n",
    "epsilon = 0.01\n",
    "W = np.array([[1,3.5,5]]).T\n",
    "for iter in range(epoch):\n",
    "    before_loss = loss()\n",
    "    print(iter,': ',before_loss) \n",
    "    for k in range(len(W)):\n",
    "        W[k] = W[k] - learning_rate*derivate(k)\n",
    "    if before_loss-loss() < epsilon:\n",
    "        break \n",
    "# print result \n",
    "print('W:')\n",
    "print(W)\n",
    "    "
   ]
  },
  {
   "cell_type": "code",
   "execution_count": null,
   "metadata": {},
   "outputs": [],
   "source": []
  }
 ],
 "metadata": {
  "kernelspec": {
   "display_name": "Python 3",
   "language": "python",
   "name": "python3"
  },
  "language_info": {
   "codemirror_mode": {
    "name": "ipython",
    "version": 3
   },
   "file_extension": ".py",
   "mimetype": "text/x-python",
   "name": "python",
   "nbconvert_exporter": "python",
   "pygments_lexer": "ipython3",
   "version": "3.7.5"
  }
 },
 "nbformat": 4,
 "nbformat_minor": 2
}
