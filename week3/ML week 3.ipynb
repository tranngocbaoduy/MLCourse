{
 "cells": [
  {
   "cell_type": "code",
   "execution_count": 25,
   "metadata": {},
   "outputs": [],
   "source": [
    "import random\n",
    "import numpy as np\n",
    "import matplotlib.pyplot as plt "
   ]
  },
  {
   "cell_type": "code",
   "execution_count": null,
   "metadata": {},
   "outputs": [],
   "source": []
  },
  {
   "cell_type": "code",
   "execution_count": 30,
   "metadata": {},
   "outputs": [
    {
     "data": {
      "image/png": "[encoded data removed]",
      "text/plain": [
       "<Figure size 432x288 with 1 Axes>"
      ]
     },
     "metadata": {
      "needs_background": "light"
     },
     "output_type": "display_data"
    },
    {
     "name": "stdout",
     "output_type": "stream",
     "text": [
      "0.9680515009698583 0.9672447913857167\n",
      "[1, 2, 3, 4, 5, 6, 7, 8] [2, 4.1, 6.3, 10.2, 2, 1, 14.1, 3]\n"
     ]
    }
   ],
   "source": [
    "X = [1,2,3,4,5,6,7,8]\n",
    "y = [2,4.1,6.3,10.2,2,1,14.1,3]\n",
    "w = [0,0]\n",
    "def forward(x):\n",
    "    return w[0] + w[1]*x\n",
    "\n",
    "def loss(x, y_true):\n",
    "    y_pred = forward(x)\n",
    "    return y_pred - y_true\n",
    "\n",
    "def derative(x,y):\n",
    "    return loss(x, y)/(6*2)\n",
    "\n",
    "epoch = 300\n",
    "for i in range(epoch):\n",
    "    for index in range(len(X)):\n",
    "        w[0] -= 0.01*derative(X[index],y[index])\n",
    "        w[1] -= 0.01*derative(X[index],y[index])\n",
    "        if i % 20 == 0: \n",
    "            y_pre = []\n",
    "            for item in X:\n",
    "                y_pre.append(forward(item)) \n",
    "                \n",
    "            plt.plot(X,y_pre,'r-') \n",
    "        \n",
    "    \n",
    "plt.scatter(X,y)\n",
    "plt.plot(X,y_pre,'r-') \n",
    "plt.show()       \n",
    "print(w[0],w[1])\n",
    "print(X,y)"
   ]
  },
  {
   "cell_type": "code",
   "execution_count": 35,
   "metadata": {},
   "outputs": [
    {
     "name": "stdout",
     "output_type": "stream",
     "text": [
      "[0.02, 0.0198, 0]\n",
      "[0.060404, 0.09979991999999999, 0]\n",
      "[0.1198059624, 0.276223748328, 0]\n",
      "[0.20955895284287998, 0.6316455904818048, 0]\n",
      "[0.2808810837903609, 0.9846901386718355, 0]\n",
      "[0.33999086463214717, 1.335802236872046, 0]\n",
      "[0.38408479940478246, 1.6413732048464087, 0]\n",
      "0.4684748457997716 1.971909093989821\n",
      "[1, 2, 3, 4, 5, 6, 7] [2, 4.1, 6.3, 10.2, 10.5, 12.1, 14.1]\n",
      "[3, 2, 2, 3, 4, 4, 5] [2, 4.1, 6.3, 10.2, 10.5, 12.1, 14.1]\n",
      "predict 2.4403839397895926\n"
     ]
    },
    {
     "data": {
      "image/png": "[encoded data removed]",
      "text/plain": [
       "<Figure size 432x288 with 1 Axes>"
      ]
     },
     "metadata": {
      "needs_background": "light"
     },
     "output_type": "display_data"
    }
   ],
   "source": [
    "X1 = [1,2,3,4,5,6,7]\n",
    "X2 = [3,2,2,3,4,4,5]\n",
    "\n",
    "y = [2, 4.1, 6.3, 10.2, 10.5, 12.1, 14.1]\n",
    "w = [0,0,0]\n",
    "def forward(x1,x2):\n",
    "    return w[0] + w[1]*x1 + w[2]*x2\n",
    "\n",
    "def loss(x1,x2, y_true):\n",
    "    y_pred = forward(x1,x2)\n",
    "    return ((y_pred - y_true)**2) / 12\n",
    "\n",
    "def derative(x1,x2,y_true):\n",
    "    y_pred = forward(x1,x2)\n",
    "    return (y_pred - y_true)\n",
    "\n",
    "epoch =10\n",
    "for i in range(epoch):\n",
    "    for index in range(len(X1)):\n",
    "        w[0] -= 0.01*derative(X1[index],X2[index],y[index])\n",
    "        w[1] -= 0.01*derative(X1[index],X2[index],y[index])*X1[index]\n",
    "        if i % 10 == 0: \n",
    "            y_pre = []\n",
    "            for index in range(len(X1)):\n",
    "                y_pre.append(forward(X1[index],X2[index]))\n",
    "        \n",
    "            print(w)\n",
    "#     plt.plot(X,y_pre,'r-') \n",
    "        \n",
    "print(w[0],w[1])\n",
    "print(X1,y)\n",
    "print(X2,y)\n",
    "print('predict',forward(1,3))\n",
    "# Vì là dữ liệu nhiều chiều nên không thể quy chiếu về 2 chiều để vẽ được\n",
    "plt.scatter(X1,y)\n",
    "plt.scatter(X2,y)\n",
    "plt.show()"
   ]
  },
  {
   "cell_type": "code",
   "execution_count": null,
   "metadata": {},
   "outputs": [],
   "source": []
  },
  {
   "cell_type": "code",
   "execution_count": null,
   "metadata": {},
   "outputs": [],
   "source": []
  },
  {
   "cell_type": "code",
   "execution_count": null,
   "metadata": {},
   "outputs": [],
   "source": []
  }
 ],
 "metadata": {
  "kernelspec": {
   "display_name": "Python 3",
   "language": "python",
   "name": "python3"
  },
  "language_info": {
   "codemirror_mode": {
    "name": "ipython",
    "version": 3
   },
   "file_extension": ".py",
   "mimetype": "text/x-python",
   "name": "python",
   "nbconvert_exporter": "python",
   "pygments_lexer": "ipython3",
   "version": "3.7.5"
  }
 },
 "nbformat": 4,
 "nbformat_minor": 2
}
