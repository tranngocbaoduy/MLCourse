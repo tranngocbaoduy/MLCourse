{
 "cells": [
  {
   "cell_type": "code",
   "execution_count": 46,
   "metadata": {},
   "outputs": [],
   "source": []
  },
  {
   "cell_type": "markdown",
   "metadata": {},
   "source": [
    "# 1 biến "
   ]
  },
  {
   "cell_type": "code",
   "execution_count": 110,
   "metadata": {},
   "outputs": [],
   "source": [
    "import numpy as np\n",
    "import pandas as pd\n",
    "import matplotlib.pyplot as plt\n",
    "\n",
    "\n",
    "class LogisticModel:\n",
    "    def __init__(self,X, y, y_pred=None,num_iters=100,lr=0.001):\n",
    "        self.X = X\n",
    "        self.y = y\n",
    "        self.weight = np.zeros(X.shape[-1]).reshape(-1,1)\n",
    "        self.lr = lr\n",
    "        self.num_iters = num_iters\n",
    "        self.loss = np.zeros((num_iters,1))\n",
    "        self.y_predict = np.zeros((X.shape[0],1))\n",
    "\n",
    "    # hàm sigmoid\n",
    "    def sigmoid(self,x):\n",
    "        return 1 / (1 + np.exp(-x))\n",
    "\n",
    "    def forward(self):\n",
    "        return self.sigmoid(np.dot(self.X, self.weight))\n",
    "\n",
    "    # đạo hàm theo w0\n",
    "    def derative_0(self):\n",
    "        return np.sum(self.forward()-self.y) \n",
    "\n",
    "    # đạo hàm theo w1\n",
    "    def derative_1(self):\n",
    "        return np.sum(np.dot(self.X[:,1].reshape(-1),self.forward()-self.y))\n",
    " \n",
    "    # hàm gradient_descend cập nhật giá trị dữ liệu cho w \n",
    "    def gradient_descend(self):\n",
    "\n",
    "        for i in range(1, self.num_iters):  \n",
    "            # cập nhật losss\n",
    "            self.loss[i] = -np.sum(np.multiply(self.y, np.log(self.forward())) + np.multiply(1-y, np.log(1-self.forward())))\n",
    "            # cập nhật weight\n",
    "            self.weight[0] -= self.lr * self.derative_0()\n",
    "            self.weight[1] -= self.lr * self.derative_1() \n",
    " \n",
    "        # Vẽ đường phân cách.  \n",
    "        print(self.weight)  \n",
    "        xx = np.linspace(-1, 3, 300)\n",
    "        threshold = -self.weight[0]/self.weight[1]\n",
    "        yy = self.sigmoid(self.weight[0] + self.weight[1]*xx)\n",
    "        plt.axis([-2, 5, -1, 2])\n",
    "        plt.plot(xx, yy, 'g-', linewidth = 2)\n",
    "        plt.plot(threshold, .5, 'y^', markersize = 8)\n",
    "        plt.show()\n"
   ]
  },
  {
   "cell_type": "code",
   "execution_count": 111,
   "metadata": {},
   "outputs": [
    {
     "name": "stdout",
     "output_type": "stream",
     "text": [
      "    mức lương (triệu)  kinh nghiệm (năm)  cho vay\n",
      "0                1.00               10.0      1.0\n",
      "1                2.00                5.0      1.0\n",
      "2                1.80                6.0      1.0\n",
      "3                1.00                7.0      1.0\n",
      "4                2.00                8.0      1.0\n",
      "5                0.50                9.0      1.0\n",
      "6                3.00                4.0      1.0\n",
      "7                2.50                5.0      1.0\n",
      "8                1.00                8.0      1.0\n",
      "9                2.50                4.0      1.0\n",
      "10               0.10                8.0      0.0\n",
      "11               0.15                7.0      0.0\n",
      "12               1.00                4.0      0.0\n",
      "13               0.80                5.0      0.0\n",
      "14               2.00                7.0      1.0\n",
      "15               1.00                4.0      0.0\n",
      "16               1.50                7.0      1.0\n",
      "17               1.30                6.0      1.0\n",
      "18               0.20                7.0      0.0\n",
      "19               0.15                8.0      0.0\n"
     ]
    },
    {
     "ename": "TypeError",
     "evalue": "'str' object is not callable",
     "output_type": "error",
     "traceback": [
      "\u001b[0;31m----------------------------------------------------------\u001b[0m",
      "\u001b[0;31mTypeError\u001b[0m                Traceback (most recent call last)",
      "\u001b[0;32m<ipython-input-111-4912f734ca73>\u001b[0m in \u001b[0;36m<module>\u001b[0;34m\u001b[0m\n\u001b[1;32m     24\u001b[0m     \u001b[0mtablle\u001b[0m\u001b[0;34m(\u001b[0m\u001b[0mdata\u001b[0m\u001b[0;34m[\u001b[0m\u001b[0;34m:\u001b[0m\u001b[0;34m,\u001b[0m \u001b[0;36m0\u001b[0m\u001b[0;34m]\u001b[0m\u001b[0;34m,\u001b[0m\u001b[0mdata\u001b[0m\u001b[0;34m[\u001b[0m\u001b[0;34m:\u001b[0m\u001b[0;34m,\u001b[0m \u001b[0;36m1\u001b[0m\u001b[0;34m]\u001b[0m\u001b[0;34m,\u001b[0m\u001b[0mdata\u001b[0m\u001b[0;34m[\u001b[0m\u001b[0;34m:\u001b[0m\u001b[0;34m,\u001b[0m \u001b[0;36m2\u001b[0m\u001b[0;34m]\u001b[0m\u001b[0;34m)\u001b[0m\u001b[0;34m\u001b[0m\u001b[0;34m\u001b[0m\u001b[0m\n\u001b[1;32m     25\u001b[0m     \u001b[0mplt\u001b[0m\u001b[0;34m.\u001b[0m\u001b[0mlegend\u001b[0m\u001b[0;34m(\u001b[0m\u001b[0mloc\u001b[0m\u001b[0;34m=\u001b[0m\u001b[0;36m1\u001b[0m\u001b[0;34m)\u001b[0m\u001b[0;34m\u001b[0m\u001b[0;34m\u001b[0m\u001b[0m\n\u001b[0;32m---> 26\u001b[0;31m     \u001b[0mplt\u001b[0m\u001b[0;34m.\u001b[0m\u001b[0mylabel\u001b[0m\u001b[0;34m(\u001b[0m\u001b[0;34m'cho vay ?'\u001b[0m\u001b[0;34m)\u001b[0m\u001b[0;34m\u001b[0m\u001b[0;34m\u001b[0m\u001b[0m\n\u001b[0m\u001b[1;32m     27\u001b[0m     \u001b[0mplt\u001b[0m\u001b[0;34m.\u001b[0m\u001b[0mxlabel\u001b[0m\u001b[0;34m(\u001b[0m\u001b[0;34m'kinh nghiệm (năm)'\u001b[0m\u001b[0;34m)\u001b[0m\u001b[0;34m\u001b[0m\u001b[0;34m\u001b[0m\u001b[0m\n\u001b[1;32m     28\u001b[0m \u001b[0;34m\u001b[0m\u001b[0m\n",
      "\u001b[0;31mTypeError\u001b[0m: 'str' object is not callable"
     ]
    },
    {
     "data": {
      "image/png": "[encoded data removed]",
      "text/plain": [
       "<Figure size 432x288 with 1 Axes>"
      ]
     },
     "metadata": {
      "needs_background": "light"
     },
     "output_type": "display_data"
    }
   ],
   "source": [
    "\n",
    "def tablle(x,x1,y): \n",
    "    data = dict()   \n",
    "    data['mức lương (triệu)'] = x1\n",
    "    data['kinh nghiệm (năm)'] = x\n",
    "    data['cho vay'] = y\n",
    "    df = pd.DataFrame(data)\n",
    "    \n",
    "    \n",
    "    print(df.head(20))\n",
    "if __name__ == '__main__': \n",
    "    # Load data từ file csv: tiền lương và mức kinh nghiệm quyết định có được vay hay không\n",
    "    data = pd.read_csv('logistic.csv').values\n",
    "    N, d = data.shape\n",
    "    # dư liệu tiền lương và kinh nghiệm \n",
    "    x = data[:, 1].reshape(-1, 1)\n",
    "    # dữ liệu cho vay hay không 0 là không cho, 1 là cho vay \n",
    "    y = data[:, 2].reshape(-1, 1)\n",
    "\n",
    "    x_cho_vay = x[y[:,0]==1]\n",
    "    x_tu_choi = x[y[:,0]==0] \n",
    "    # Vẽ data bằng scatter  \n",
    "    plt.scatter(x_cho_vay[:, 0], y_cho_vay, c='red', edgecolors='none', s=30, label='cho vay')\n",
    "    plt.scatter(x_tu_choi[:, 0], y_tu_choi, c='blue', edgecolors='none', s=30, label='từ chối')\n",
    "    tablle(data[:, 0],data[:, 1],data[:, 2])\n",
    "    plt.legend(loc=1)\n",
    "    plt.ylabel('cho vay ?')\n",
    "    plt.xlabel('kinh nghiệm (năm)')\n",
    " \n",
    "    # thêm 1 cột giá trị 1 vào đằng trước để nhân với w0 tiện tính toán thay vì phải tính bằng tay\n",
    "    # ta tính bằng vector\n",
    "    x = np.hstack((np.ones((N, 1)), x))\n",
    "\n",
    "    # thực hiện model với lr là 0.01 và số vòng 10000\n",
    "    model = LogisticModel(X=x,y=y,lr=0.01,num_iters = 10000)\n",
    "    model.gradient_descend()\n",
    "\n"
   ]
  },
  {
   "cell_type": "markdown",
   "metadata": {},
   "source": [
    "# 2 biến "
   ]
  },
  {
   "cell_type": "code",
   "execution_count": 112,
   "metadata": {},
   "outputs": [],
   "source": [
    "import numpy as np\n",
    "import pandas as pd\n",
    "import matplotlib.pyplot as plt\n",
    "\n",
    "\n",
    "class LogisticModel:\n",
    "    def __init__(self,X, y, y_pred=None,num_iters=100,lr=0.001):\n",
    "        self.X = X\n",
    "        self.y = y\n",
    "        self.weight = np.zeros(X.shape[-1]).reshape(-1,1)\n",
    "        self.lr = lr\n",
    "        self.num_iters = num_iters\n",
    "        self.loss = np.zeros((num_iters,1))\n",
    "        self.y_predict = np.zeros((X.shape[0],1))\n",
    "\n",
    "    # hàm sigmoid\n",
    "    def sigmoid(self,x):\n",
    "        return 1 / (1 + np.exp(-x))\n",
    "\n",
    "    def forward(self):\n",
    "        return self.sigmoid(np.dot(self.X, self.weight))\n",
    "\n",
    "    # đạo hàm theo w0\n",
    "    def derative_0(self):\n",
    "        return np.sum(self.forward()-self.y) \n",
    "\n",
    "    # đạo hàm theo w1\n",
    "    def derative_1(self):\n",
    "        return np.sum(np.dot(self.X[:,1].reshape(-1),self.forward()-self.y))\n",
    "\n",
    "    # đạo hàm theo w2\n",
    "    def derative_2(self):\n",
    "        return np.sum(np.dot(self.X[:,2].reshape(-1),self.forward()-self.y)) \n",
    "\n",
    "    # hàm gradient_descend cập nhật giá trị dữ liệu cho w \n",
    "    def gradient_descend(self):\n",
    "\n",
    "        for i in range(1, self.num_iters):  \n",
    "            # cập nhật losss\n",
    "            self.loss[i] = -np.sum(np.multiply(self.y, np.log(self.forward())) +\n",
    "                                   np.multiply(1-y, np.log(1-self.forward())))\n",
    "            # cập nhật weight\n",
    "            self.weight[0] -= self.lr * self.derative_0()\n",
    "            self.weight[1] -= self.lr * self.derative_1()\n",
    "            self.weight[2] -= self.lr * self.derative_2()\n",
    " \n",
    "        # Vẽ đường phân cách.  \n",
    "        print(self.weight)\n",
    "        t = 0.5 \n",
    "        plt.plot((4, 10),(-(self.weight[0]+4*self.weight[1]+ np.log(1/t-1))/self.weight[2], -(self.weight[0] + 10*self.weight[1]+ np.log(1/t-1))/self.weight[2]), 'g')\n",
    "        plt.show()\n",
    "        print(self.loss)\n",
    "        plt.plot(np.linspace(start=1,stop=10000,num=9999),self.loss[1:],'r-') \n",
    "        plt.show()\n"
   ]
  },
  {
   "cell_type": "code",
   "execution_count": 115,
   "metadata": {},
   "outputs": [
    {
     "name": "stdout",
     "output_type": "stream",
     "text": [
      "[[-20.0207961 ]\n",
      " [  2.05141189]\n",
      " [  9.84250364]]\n"
     ]
    },
    {
     "data": {
      "image/png": "[encoded data removed]",
      "text/plain": [
       "<Figure size 432x288 with 1 Axes>"
      ]
     },
     "metadata": {
      "needs_background": "light"
     },
     "output_type": "display_data"
    },
    {
     "name": "stdout",
     "output_type": "stream",
     "text": [
      "[[ 0.        ]\n",
      " [17.32867951]\n",
      " [19.02575762]\n",
      " ...\n",
      " [ 1.31870241]\n",
      " [ 1.31864529]\n",
      " [ 1.31858817]]\n"
     ]
    },
    {
     "data": {
      "image/png": "[encoded data removed]",
      "text/plain": [
       "<Figure size 432x288 with 1 Axes>"
      ]
     },
     "metadata": {
      "needs_background": "light"
     },
     "output_type": "display_data"
    }
   ],
   "source": [
    "\n",
    "if __name__ == '__main__': \n",
    "    # Load data từ file csv: tiền lương và mức kinh nghiệm quyết định có được vay hay không\n",
    "    data = pd.read_csv('logistic.csv').values\n",
    "    N, d = data.shape\n",
    "    # dư liệu tiền lương và kinh nghiệm \n",
    "    x = data[:, 0:d-1].reshape(-1, d-1)\n",
    "    # dữ liệu cho vay hay không 0 là không cho, 1 là cho vay \n",
    "    y = data[:, 2].reshape(-1, 1)\n",
    "\n",
    "    # Vẽ data bằng scatter\n",
    "    # tách x được vay, và không được vay để vẽ hình  \n",
    "    x_cho_vay = x[y[:,0]==1]\n",
    "    x_tu_choi = x[y[:,0]==0]\n",
    "\n",
    "    plt.scatter(x_cho_vay[:, 0], x_cho_vay[:, 1], c='red', edgecolors='none', s=30, label='cho vay')\n",
    "    plt.scatter(x_tu_choi[:, 0], x_tu_choi[:, 1], c='blue', edgecolors='none', s=30, label='từ chối')\n",
    "    plt.legend(loc=1)\n",
    "#     plt.xlabel('mức lương (triệu)')\n",
    "#     plt.ylabel('kinh nghiệm (năm)')\n",
    " \n",
    "    # thêm 1 cột giá trị 1 vào đằng trước để nhân với w0 tiện tính toán thay vì phải tính bằng tay\n",
    "    # ta tính bằng vector\n",
    "    x = np.hstack((np.ones((N, 1)), x))\n",
    "\n",
    "    # thực hiện model với lr là 0.01 và số vòng 10000\n",
    "    model = LogisticModel(X=x,y=y,lr=0.01,num_iters = 10000)\n",
    "    model.gradient_descend()\n",
    "\n"
   ]
  },
  {
   "cell_type": "code",
   "execution_count": 114,
   "metadata": {},
   "outputs": [
    {
     "data": {
      "text/plain": [
       "[<matplotlib.lines.Line2D at 0x1177c5710>]"
      ]
     },
     "execution_count": 114,
     "metadata": {},
     "output_type": "execute_result"
    },
    {
     "data": {
      "image/png": "[encoded data removed]",
      "text/plain": [
       "<Figure size 432x288 with 1 Axes>"
      ]
     },
     "metadata": {
      "needs_background": "light"
     },
     "output_type": "display_data"
    }
   ],
   "source": [
    "\n",
    " \n",
    "x = np.linspace(-2,3,50)\n",
    "y = -x + 2\n",
    "plt.grid()\n",
    "plt.plot(x,y)\n"
   ]
  },
  {
   "cell_type": "code",
   "execution_count": null,
   "metadata": {},
   "outputs": [],
   "source": []
  },
  {
   "cell_type": "code",
   "execution_count": null,
   "metadata": {},
   "outputs": [],
   "source": []
  },
  {
   "cell_type": "code",
   "execution_count": null,
   "metadata": {},
   "outputs": [],
   "source": []
  },
  {
   "cell_type": "code",
   "execution_count": null,
   "metadata": {},
   "outputs": [],
   "source": []
  },
  {
   "cell_type": "code",
   "execution_count": null,
   "metadata": {},
   "outputs": [],
   "source": []
  }
 ],
 "metadata": {
  "kernelspec": {
   "display_name": "Python 3",
   "language": "python",
   "name": "python3"
  },
  "language_info": {
   "codemirror_mode": {
    "name": "ipython",
    "version": 3
   },
   "file_extension": ".py",
   "mimetype": "text/x-python",
   "name": "python",
   "nbconvert_exporter": "python",
   "pygments_lexer": "ipython3",
   "version": "3.7.5"
  }
 },
 "nbformat": 4,
 "nbformat_minor": 2
}
