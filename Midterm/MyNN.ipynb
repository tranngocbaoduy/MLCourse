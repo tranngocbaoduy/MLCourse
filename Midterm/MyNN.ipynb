{
 "cells": [
  {
   "cell_type": "code",
   "execution_count": 2,
   "metadata": {},
   "outputs": [],
   "source": [
    "\n",
    "# Thêm thư viện\n",
    "import numpy as np\n",
    "import pandas as pd\n",
    "import matplotlib.pyplot as plt\n",
    "from PIL import Image\n"
   ]
  },
  {
   "cell_type": "code",
   "execution_count": 47,
   "metadata": {},
   "outputs": [],
   "source": [
    "# định nghĩa hàm activation\n",
    "\n",
    "# Hàm sigmoid\n",
    "def sigmoid(x):\n",
    "    return 1/(1+np.exp(-x)) \n",
    "\n",
    "# Đạo hàm hàm sigmoid\n",
    "def sigmoid_derivative(x):\n",
    "    return x*(1-x) \n"
   ]
  },
  {
   "cell_type": "code",
   "execution_count": 66,
   "metadata": {},
   "outputs": [],
   "source": [
    "\n",
    "class MyNeuralNetwork:\n",
    "    def __init__(self, layers, X, y, y_predict=None, lr =0.1, num_iters=100):\n",
    "        self.X = X\n",
    "        self.y = y\n",
    "        self.y_predict = y_predict\n",
    "        self.lr = lr\n",
    "        self.layers = layers\n",
    "        self.num_iters = num_iters\n",
    "        self.weight = []\n",
    "        self.bias = []\n",
    "\n",
    "          # Khởi tạo các tham số ở mỗi layer\n",
    "        for i in range(0, len(layers)-1):\n",
    "            _w = np.random.randn(layers[i], layers[i+1])\n",
    "            _b = np.zeros((layers[i+1], 1))\n",
    "            self.weight.append(_w/layers[i])\n",
    "            self.bias.append(_b) \n",
    "\n",
    "    def forward(self, x):\n",
    "        y_pred = [x] \n",
    "        next_layer = x\n",
    "        # forward từ x cho đến layer cuối cùng\n",
    "        for i in range(0, len(self.layers) - 1):\n",
    "            next_layer = sigmoid(np.dot(next_layer, self.weight[i]) + (self.bias[i].T))\n",
    "            y_pred.append(next_layer)\n",
    "        return y_pred\n",
    "            \n",
    "    def backward(self, x, y_true, y_pred):\n",
    "        y_true = y_true.reshape(-1, 1)\n",
    "        dA = [-(y_true/y_pred[-1] - (1-y_true)/(1-y_pred[-1]))]\n",
    "        dW = []\n",
    "        db = []\n",
    "        # backward từ layer cuối cùng về ngược layer đầu tiên\n",
    "        # chúng ta đang dùng activate function là hàm sigmoid   \n",
    "        for i in reversed(range(0,len(self.layers)-1)): \n",
    "            _w = np.dot((y_pred[i]).T, dA[-1] * sigmoid_derivative(y_pred[i+1]))\n",
    "            _b = (np.sum(dA[-1] * sigmoid_derivative(y_pred[i+1]), 0)).reshape(-1,1)\n",
    "            _A = np.dot(dA[-1] * sigmoid_derivative(y_pred[i+1]), self.weight[i].T)\n",
    "            \n",
    "            \n",
    "            dW.append(_w)\n",
    "            db.append(_b)\n",
    "            dA.append(_A)\n",
    "        \n",
    "        # Đảo ngược dW, db\n",
    "        dW = dW[::-1]\n",
    "        db = db[::-1] \n",
    "        \n",
    "        return dW, db\n",
    "    \n",
    "    def fit_each_epoch(self, x, y):\n",
    "        y_pred = self.forward(x)\n",
    "        dW, db = self.backward(x, y, y_pred) \n",
    "        # print(dW,db)\n",
    "        # Gradient descent\n",
    "        for i in range(0, len(self.layers)-1):\n",
    "            self.weight[i] = self.weight[i] - self.lr * dW[i]\n",
    "            self.bias[i] = self.bias[i] - self.lr * db[i]\n",
    "\n",
    "    def train(self, epochs=20, verbose=10):\n",
    "        for epoch in range(0, epochs):\n",
    "            self.fit_each_epoch(self.X, self.y)\n",
    "            if epoch % verbose == 0:\n",
    "                loss = self.calculate_loss(self.X, self.y)\n",
    "                print(\"Epoch {}, loss {}\".format(epoch, loss))\n",
    "    \n",
    "      \n",
    "    # Dự đoán\n",
    "    def predict(self, X):\n",
    "        for i in range(0, len(self.layers) - 1):\n",
    "            X = sigmoid(np.dot(X, self.weight[i]) + (self.bias[i].T))\n",
    "        return X\n",
    "\n",
    "    def draw(self):\n",
    "        # t = 0.4\n",
    "        y_predict = self.forward(X)[-1]\n",
    "        plt.plot(y_predict)\n",
    "        t = 0.5\n",
    "#         print(self.weight)\n",
    "#         plt.plot((4, 10),(-(self.weight[-1][0]+4*self.weight[-1][1]+ np.log(1/t-1))/self.weight[-1][2], -(self.weight[-1][0] + 10*self.weight[-1][1]+ np.log(1/t-1))/self.weight[-1][2]), 'g')\n",
    "        plt.show() \n",
    "\n",
    "\t# Tính loss function\n",
    "    def calculate_loss(self, X, y):\n",
    "        y_predict = self.predict(X)\n",
    "        #return np.sum((y_predict-y)**2)/2\n",
    "        return -(np.sum(y*np.log(y_predict) + (1-y)*np.log(1-y_predict))) \n",
    "      "
   ]
  },
  {
   "cell_type": "code",
   "execution_count": 67,
   "metadata": {},
   "outputs": [],
   "source": [
    "# img = Image('Derative L:W.png')\n",
    "# plt.figure(figsize=(10,5))\n",
    "# plt.title(\"Derative L:W\")\n",
    "# plt.imshow(img) "
   ]
  },
  {
   "cell_type": "code",
   "execution_count": 3,
   "metadata": {},
   "outputs": [],
   "source": [
    "  \n",
    "if __name__ == '__main__':\n",
    "    # Dataset bài 2\n",
    "    data = pd.read_csv('dataset.csv').values\n",
    "    N, d = data.shape\n",
    "    X = data[:, 0:d-1].reshape(-1, d-1)\n",
    "    y = data[:, 2].reshape(-1, 1)  "
   ]
  },
  {
   "cell_type": "code",
   "execution_count": null,
   "metadata": {},
   "outputs": [],
   "source": []
  },
  {
   "cell_type": "code",
   "execution_count": 69,
   "metadata": {},
   "outputs": [
    {
     "name": "stdout",
     "output_type": "stream",
     "text": [
      "Epoch 0, loss 19.319003075888517\n",
      "Epoch 10000, loss 18.758051828001918\n",
      "Epoch 20000, loss 0.08008891815818307\n",
      "Epoch 30000, loss 0.022561293060204754\n"
     ]
    }
   ],
   "source": [
    "p = MyNeuralNetwork(layers = [X.shape[1], 3, 8, 10, 2, 1], X = X, y= y, lr = 0.01, num_iters=10000)\n",
    "p.train(30001, 10000)"
   ]
  },
  {
   "cell_type": "code",
   "execution_count": null,
   "metadata": {},
   "outputs": [],
   "source": []
  },
  {
   "cell_type": "code",
   "execution_count": 70,
   "metadata": {},
   "outputs": [
    {
     "data": {
      "image/png": "[encoded data removed]",
      "text/plain": [
       "<Figure size 432x288 with 1 Axes>"
      ]
     },
     "metadata": {
      "needs_background": "light"
     },
     "output_type": "display_data"
    }
   ],
   "source": [
    "# Vẽ data bằng scatter\n",
    "x_cho_vay = X[y[:,0]==1]\n",
    "x_tu_choi = X[y[:,0]==0]\n",
    "\n",
    "plt.scatter(x_cho_vay[:, 0], x_cho_vay[:, 1], c='red', edgecolors='none', s=30, label='cho vay')\n",
    "plt.scatter(x_tu_choi[:, 0], x_tu_choi[:, 1], c='blue', edgecolors='none', s=30, label='từ chối')\n",
    "plt.legend(loc=1)\n",
    "plt.xlabel('mức lương (triệu)')\n",
    "plt.ylabel('kinh nghiệm (năm)')\n",
    "p.draw()"
   ]
  },
  {
   "cell_type": "code",
   "execution_count": null,
   "metadata": {},
   "outputs": [],
   "source": []
  },
  {
   "cell_type": "code",
   "execution_count": null,
   "metadata": {},
   "outputs": [],
   "source": []
  }
 ],
 "metadata": {
  "kernelspec": {
   "display_name": "Python 3",
   "language": "python",
   "name": "python3"
  },
  "language_info": {
   "codemirror_mode": {
    "name": "ipython",
    "version": 3
   },
   "file_extension": ".py",
   "mimetype": "text/x-python",
   "name": "python",
   "nbconvert_exporter": "python",
   "pygments_lexer": "ipython3",
   "version": "3.7.5"
  }
 },
 "nbformat": 4,
 "nbformat_minor": 2
}
