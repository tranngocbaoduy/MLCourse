{
 "cells": [
  {
   "cell_type": "code",
   "execution_count": 51,
   "metadata": {},
   "outputs": [
    {
     "name": "stdout",
     "output_type": "stream",
     "text": [
      "01/22/2020 (555.0, 28.0, 17.0)\n",
      "01/23/2020 (653.0, 30.0, 18.0)\n",
      "01/24/2020 (941.0, 36.0, 26.0)\n",
      "01/25/2020 (1438.0, 39.0, 42.0)\n",
      "01/26/2020 (2118.0, 52.0, 56.0)\n",
      "01/27/2020 (2927.0, 61.0, 82.0)\n",
      "01/28/2020 (5578.0, 107.0, 131.0)\n",
      "01/29/2020 (6165.0, 126.0, 133.0)\n",
      "01/30/2020 (8235.0, 143.0, 171.0)\n",
      "01/31/2020 (9925.0, 222.0, 213.0)\n",
      "02/01/2020 (12038.0, 284.0, 259.0)\n",
      "02/02/2020 (16787.0, 472.0, 362.0)\n",
      "02/03/2020 (19881.0, 623.0, 426.0)\n",
      "02/04/2020 (23892.0, 852.0, 492.0)\n",
      "02/05/2020 (27636.0, 1124.0, 564.0)\n",
      "02/06/2020 (30818.0, 1487.0, 634.0)\n",
      "02/07/2020 (34392.0, 2011.0, 719.0)\n",
      "02/08/2020 (37121.0, 2616.0, 806.0)\n",
      "02/09/2020 (40151.0, 3244.0, 906.0)\n",
      "02/10/2020 (42763.0, 3946.0, 1013.0)\n",
      "02/11/2020 (44803.0, 4683.0, 1113.0)\n",
      "02/12/2020 (45222.0, 5150.0, 1118.0)\n",
      "02/13/2020 (60370.0, 6295.0, 1371.0)\n",
      "02/14/2020 (66887.0, 8058.0, 1523.0)\n",
      "02/15/2020 (69032.0, 9395.0, 1666.0)\n",
      "02/16/2020 (71226.0, 10865.0, 1770.0)\n",
      "02/17/2020 (73260.0, 12583.0, 1868.0)\n",
      "02/18/2020 (75138.0, 14352.0, 2007.0)\n",
      "02/19/2020 (75641.0, 16121.0, 2122.0)\n",
      "02/20/2020 (76199.0, 18177.0, 2247.0)\n",
      "02/21/2020 (76843.0, 18890.0, 2251.0)\n",
      "02/22/2020 (78599.0, 22886.0, 2458.0)\n",
      "02/23/2020 (78985.0, 23394.0, 2469.0)\n",
      "02/24/2020 (79570.0, 25227.0, 2629.0)\n",
      "02/25/2020 (80415.0, 27905.0, 2708.0)\n",
      "02/26/2020 (81397.0, 30384.0, 2770.0)\n",
      "02/27/2020 (82756.0, 33277.0, 2814.0)\n",
      "02/28/2020 (84124.0, 36711.0, 2872.0)\n",
      "02/29/2020 (86013.0, 39782.0, 2941.0)\n",
      "03/01/2020 (88371.0, 42716.0, 2996.0)\n",
      "03/02/2020 (90309.0, 45602.0, 3085.0)\n",
      "03/03/2020 (92844.0, 48229.0, 3160.0)\n",
      "03/04/2020 (95124.0, 51171.0, 3254.0)\n",
      "03/05/2020 (97886.0, 53797.0, 3348.0)\n",
      "03/06/2020 (101800.0, 55866.0, 3460.0)\n",
      "03/07/2020 (105836.0, 58359.0, 3558.0)\n"
     ]
    }
   ],
   "source": [
    "import random\n",
    "import numpy as np\n",
    "import matplotlib.pyplot as plt\n",
    "import pandas as pd \n",
    "from sklearn.preprocessing import LabelEncoder\n",
    "import time\n",
    "import tabletext\n",
    "\n",
    "COLUMN_NEED_CAL = [5,6,7]\n",
    "# hàm đọc file và lấy ra cột dữ liệu cần\n",
    "def read_file(path): \n",
    "    \n",
    "    data = pd.read_csv(path).values  \n",
    "    y =  data[:, 1].reshape(-1,1)\n",
    "    confirmed_col =  data[:, 5].reshape(-1,1)\n",
    "    dead_col = data[:, 6].reshape(-1,1)\n",
    "    recover_col = data[:, 7].reshape(-1,1)\n",
    "    datas = dict()\n",
    "    for index in range(len(y)):  \n",
    "        value = y[index][0]\n",
    "        if value not in datas:\n",
    "            datas[value] = (confirmed_col[index][0], recover_col[index][0], dead_col[index][0])\n",
    "        else:\n",
    "            confirm, recover, dead = datas[value]\n",
    "            confirm += confirmed_col[index][0]\n",
    "            recover += recover_col[index][0]\n",
    "            dead += dead_col[index][0]\n",
    "            datas[value] = (confirm, recover, dead)\n",
    "            \n",
    "    for key, value in datas.items():\n",
    "        print(key, value)\n",
    "    return datas\n",
    "  \n",
    "if __name__ == '__main__':\n",
    "    # đọc dữ liệu tập train lấy ra cột mong muốn để train \n",
    "    # ngày khảo sát: (người nhiễm, người khỏi bệnh, người chết)\n",
    "    data = read_file('covid_19_data.csv')  "
   ]
  },
  {
   "cell_type": "code",
   "execution_count": 134,
   "metadata": {},
   "outputs": [],
   "source": [
    "from sklearn import preprocessing\n",
    "# lấy tất cả cách ngày chuyển sang số \n",
    "\n",
    "\n",
    "def handle_data(data):\n",
    "    mlb = LabelEncoder().fit(list(data.keys()))\n",
    "    print('Tổng số ngày trong khảo sát là',len(mlb.classes_),'ngày\\n',mlb.classes_)\n",
    "    num_day = mlb.transform(list(data.keys()))\n",
    "    confirm = []\n",
    "    recover = []\n",
    "    dead = []\n",
    "    for key, item in data.items(): \n",
    "        confirm.append(item[0])\n",
    "        recover.append(item[1])\n",
    "        dead.append(item[2]) \n",
    "    show(num_day,confirm,'r',xlabel='day',ylabel='comfirmed')\n",
    "    tablle(mlb.classes_,confirm)\n",
    "      \n",
    "    fig, axs = plt.subplots(1, 3, figsize=(27, 9), sharey=True)\n",
    "    axs[0].scatter(num_day, confirm,color='r') \n",
    "    axs[1].bar(num_day, recover,color='green')\n",
    "    axs[2].bar(num_day, dead,color='black')\n",
    "    fig.suptitle('nCov 19 People')\n",
    "    \n",
    "    X = np.hstack((np.ones((len(num_day), 1)), np.array(num_day,dtype=float).reshape(-1,1)))  \n",
    "    y = np.array(confirm,dtype=int).reshape(-1, 1)  \n",
    "    return X, y\n",
    "#     show(num_day,recover,'g',xlabel='day',ylabel='covered')\n",
    "#     show(num_day,dead,'black',xlabel='day',ylabel='dead')\n",
    "    \n",
    "def show(x,y,color,xlabel,ylabel):\n",
    "    plt.xlabel(xlabel)\n",
    "    plt.ylabel(ylabel)\n",
    "    plt.scatter(x,y,c=color)\n",
    "    plt.show()\n",
    "     \n",
    "def tablle(x,y): \n",
    "    data = dict()  \n",
    "    data['date'] = x\n",
    "    data['people confirmed'] = y\n",
    "    df = pd.DataFrame(data)\n",
    "    \n",
    "    \n",
    "    print(df.head(10))\n",
    "\n"
   ]
  },
  {
   "cell_type": "code",
   "execution_count": 135,
   "metadata": {},
   "outputs": [],
   "source": [
    "\n",
    "class LinearModel():\n",
    "    \n",
    "    def __init__(self, X=None, y=None, normalize=True):\n",
    "        self.X_init = np.array(X)\n",
    "        self.y_init = np.array(y)\n",
    "        self.X = X\n",
    "        self.y = y\n",
    "        self.size = X.shape[-1]\n",
    "        self.weight = np.zeros(X.shape[-1]).reshape(-1,1)\n",
    "        self.mean = np.mean(self.X[:, 1:], axis=0)\n",
    "        self.std = np.std(self.X[:, 1:], axis=0) \n",
    "        if normalize:\n",
    "            self.feature_normalization() \n",
    "        \n",
    "    # chuẩn hoá về khoảng [-1,1]\n",
    "    def feature_normalization(self):      \n",
    "        self.X[:, 1:] = (self.X[:, 1:] - np.mean(self.X[:, 1:], axis=0)) / np.std(self.X[:, 1:], axis=0) \n",
    "\n",
    "    def forward(self): \n",
    "        return np.dot(self.X, self.weight)\n",
    "    \n",
    "    def loss(self):\n",
    "        return np.sum(((self.forward() - self.y)**2)/ (self.size)*2)\n",
    "    \n",
    "    def derative_w0(self):\n",
    "        return np.sum(self.forward() - self.y)\n",
    "    \n",
    "    def derative_w1(self): \n",
    "        return np.sum(np.multiply((self.forward() - self.y), self.X[:,1].reshape(-1,1)))\n",
    "    \n",
    "    def gradient_descend(self): \n",
    "        old_loss = 0\n",
    "        count = 0\n",
    "        while True: \n",
    "            count+=1\n",
    "            self.weight[0] =  self.weight[0] - 0.01 * self.derative_w0() \n",
    "            self.weight[1] =  self.weight[1] - 0.01 * self.derative_w1() \n",
    "            new_loss = self.loss() \n",
    "            if abs(new_loss - old_loss) < 10e+5: \n",
    "                break \n",
    "            old_loss = new_loss \n",
    "            print(new_loss)\n",
    "\n",
    "        print(\"Final loss is:\",old_loss)  \n",
    "        for index in range(len(X[:,1])):\n",
    "            if index == 0:\n",
    "                break\n",
    "            plt.scatter(X[:,index],y.T[0])\n",
    "        plt.show()\n",
    "    \n",
    "    def predict(self):  \n",
    "        y_pred = np.dot(X, self.weight)\n",
    "        return y_pred  \n",
    "    \n",
    "    def predict_by_day(self, day):  \n",
    "        day = np.array(day,dtype=float) \n",
    "        day[:,1:] = (day[:,1:]-self.mean) / self.std \n",
    "        y_pred = np.dot(day, self.weight)\n",
    "        return y_pred  "
   ]
  },
  {
   "cell_type": "code",
   "execution_count": 136,
   "metadata": {},
   "outputs": [
    {
     "name": "stdout",
     "output_type": "stream",
     "text": [
      "Tổng số ngày trong khảo sát là 46 ngày\n",
      " ['01/22/2020' '01/23/2020' '01/24/2020' '01/25/2020' '01/26/2020'\n",
      " '01/27/2020' '01/28/2020' '01/29/2020' '01/30/2020' '01/31/2020'\n",
      " '02/01/2020' '02/02/2020' '02/03/2020' '02/04/2020' '02/05/2020'\n",
      " '02/06/2020' '02/07/2020' '02/08/2020' '02/09/2020' '02/10/2020'\n",
      " '02/11/2020' '02/12/2020' '02/13/2020' '02/14/2020' '02/15/2020'\n",
      " '02/16/2020' '02/17/2020' '02/18/2020' '02/19/2020' '02/20/2020'\n",
      " '02/21/2020' '02/22/2020' '02/23/2020' '02/24/2020' '02/25/2020'\n",
      " '02/26/2020' '02/27/2020' '02/28/2020' '02/29/2020' '03/01/2020'\n",
      " '03/02/2020' '03/03/2020' '03/04/2020' '03/05/2020' '03/06/2020'\n",
      " '03/07/2020']\n"
     ]
    },
    {
     "data": {
      "image/png": "[encoded data removed]",
      "text/plain": [
       "<Figure size 432x288 with 1 Axes>"
      ]
     },
     "metadata": {
      "needs_background": "light"
     },
     "output_type": "display_data"
    },
    {
     "name": "stdout",
     "output_type": "stream",
     "text": [
      "         date  people confirmed\n",
      "0  01/22/2020             555.0\n",
      "1  01/23/2020             653.0\n",
      "2  01/24/2020             941.0\n",
      "3  01/25/2020            1438.0\n",
      "4  01/26/2020            2118.0\n",
      "5  01/27/2020            2927.0\n",
      "6  01/28/2020            5578.0\n",
      "7  01/29/2020            6165.0\n",
      "8  01/30/2020            8235.0\n",
      "9  01/31/2020            9925.0\n",
      "\n",
      "\n",
      "X shape: (46, 2) y shape: (46, 1)\n"
     ]
    },
    {
     "data": {
      "text/plain": [
       "(46, 2)"
      ]
     },
     "execution_count": 136,
     "metadata": {},
     "output_type": "execute_result"
    },
    {
     "data": {
      "image/png": "[encoded data removed]",
      "text/plain": [
       "<Figure size 1944x648 with 3 Axes>"
      ]
     },
     "metadata": {
      "needs_background": "light"
     },
     "output_type": "display_data"
    }
   ],
   "source": [
    "X_true, y_true= handle_data(data)\n",
    "print(\"\\n\\nX shape:\",X_true.shape,\"y shape:\",y_true.shape)\n",
    "X= np.copy(X_true)\n",
    "y= np.copy(y_true)\n",
    "# model = LinearModel(X,y)  \n",
    "X_true.shape"
   ]
  },
  {
   "cell_type": "code",
   "execution_count": 137,
   "metadata": {},
   "outputs": [
    {
     "name": "stdout",
     "output_type": "stream",
     "text": [
      "1835249837.1354268\n",
      "Final loss is: 1835249837.1354268\n"
     ]
    },
    {
     "data": {
      "text/plain": [
       "array([[51797.04257933],\n",
       "       [33785.76412525]])"
      ]
     },
     "execution_count": 137,
     "metadata": {},
     "output_type": "execute_result"
    }
   ],
   "source": [
    "# train model\n",
    "model.gradient_descend()  \n",
    "model.weight"
   ]
  },
  {
   "cell_type": "code",
   "execution_count": 133,
   "metadata": {},
   "outputs": [
    {
     "data": {
      "image/png": "[encoded data removed]",
      "text/plain": [
       "<Figure size 432x288 with 1 Axes>"
      ]
     },
     "metadata": {
      "needs_background": "light"
     },
     "output_type": "display_data"
    },
    {
     "name": "stdout",
     "output_type": "stream",
     "text": [
      "Ngày thứ 1\n",
      "\tDữ liệu thật có:  653 ca nhiễm. Trung bình 1 ngày sẽ có 653\n",
      "\tDự đoán sẽ có: -2918 ca nhiễm. Trung bình 1 ngày sẽ có -2918\n",
      "Ngày thứ 2\n",
      "\tDữ liệu thật có:  941 ca nhiễm. Trung bình 1 ngày sẽ có 470\n",
      "\tDự đoán sẽ có: -373 ca nhiễm. Trung bình 1 ngày sẽ có -186\n",
      "Ngày thứ 3\n",
      "\tDữ liệu thật có:  1438 ca nhiễm. Trung bình 1 ngày sẽ có 479\n",
      "\tDự đoán sẽ có: 2171 ca nhiễm. Trung bình 1 ngày sẽ có 723\n",
      "Ngày thứ 4\n",
      "\tDữ liệu thật có:  2118 ca nhiễm. Trung bình 1 ngày sẽ có 529\n",
      "\tDự đoán sẽ có: 4716 ca nhiễm. Trung bình 1 ngày sẽ có 1179\n",
      "Ngày thứ 5\n",
      "\tDữ liệu thật có:  2927 ca nhiễm. Trung bình 1 ngày sẽ có 585\n",
      "\tDự đoán sẽ có: 7261 ca nhiễm. Trung bình 1 ngày sẽ có 1452\n",
      "Ngày thứ 6\n",
      "\tDữ liệu thật có:  5578 ca nhiễm. Trung bình 1 ngày sẽ có 929\n",
      "\tDự đoán sẽ có: 9806 ca nhiễm. Trung bình 1 ngày sẽ có 1634\n",
      "Ngày thứ 7\n",
      "\tDữ liệu thật có:  6165 ca nhiễm. Trung bình 1 ngày sẽ có 880\n",
      "\tDự đoán sẽ có: 12351 ca nhiễm. Trung bình 1 ngày sẽ có 1764\n",
      "Ngày thứ 8\n",
      "\tDữ liệu thật có:  8235 ca nhiễm. Trung bình 1 ngày sẽ có 1029\n",
      "\tDự đoán sẽ có: 14896 ca nhiễm. Trung bình 1 ngày sẽ có 1862\n",
      "Ngày thứ 9\n",
      "\tDữ liệu thật có:  9925 ca nhiễm. Trung bình 1 ngày sẽ có 1102\n",
      "\tDự đoán sẽ có: 17441 ca nhiễm. Trung bình 1 ngày sẽ có 1937\n",
      "Ngày thứ 10\n",
      "\tDữ liệu thật có:  12038 ca nhiễm. Trung bình 1 ngày sẽ có 1203\n",
      "\tDự đoán sẽ có: 19985 ca nhiễm. Trung bình 1 ngày sẽ có 1998\n",
      "Ngày thứ 11\n",
      "\tDữ liệu thật có:  16787 ca nhiễm. Trung bình 1 ngày sẽ có 1526\n",
      "\tDự đoán sẽ có: 22530 ca nhiễm. Trung bình 1 ngày sẽ có 2048\n",
      "Ngày thứ 12\n",
      "\tDữ liệu thật có:  19881 ca nhiễm. Trung bình 1 ngày sẽ có 1656\n",
      "\tDự đoán sẽ có: 25075 ca nhiễm. Trung bình 1 ngày sẽ có 2089\n",
      "Ngày thứ 13\n",
      "\tDữ liệu thật có:  23892 ca nhiễm. Trung bình 1 ngày sẽ có 1837\n",
      "\tDự đoán sẽ có: 27620 ca nhiễm. Trung bình 1 ngày sẽ có 2124\n",
      "Ngày thứ 14\n",
      "\tDữ liệu thật có:  27636 ca nhiễm. Trung bình 1 ngày sẽ có 1974\n",
      "\tDự đoán sẽ có: 30165 ca nhiễm. Trung bình 1 ngày sẽ có 2154\n",
      "Ngày thứ 15\n",
      "\tDữ liệu thật có:  30818 ca nhiễm. Trung bình 1 ngày sẽ có 2054\n",
      "\tDự đoán sẽ có: 32710 ca nhiễm. Trung bình 1 ngày sẽ có 2180\n",
      "Ngày thứ 16\n",
      "\tDữ liệu thật có:  34392 ca nhiễm. Trung bình 1 ngày sẽ có 2149\n",
      "\tDự đoán sẽ có: 35255 ca nhiễm. Trung bình 1 ngày sẽ có 2203\n",
      "Ngày thứ 17\n",
      "\tDữ liệu thật có:  37121 ca nhiễm. Trung bình 1 ngày sẽ có 2183\n",
      "\tDự đoán sẽ có: 37800 ca nhiễm. Trung bình 1 ngày sẽ có 2223\n",
      "Ngày thứ 18\n",
      "\tDữ liệu thật có:  40151 ca nhiễm. Trung bình 1 ngày sẽ có 2230\n",
      "\tDự đoán sẽ có: 40345 ca nhiễm. Trung bình 1 ngày sẽ có 2241\n",
      "Ngày thứ 19\n",
      "\tDữ liệu thật có:  42763 ca nhiễm. Trung bình 1 ngày sẽ có 2250\n",
      "\tDự đoán sẽ có: 42889 ca nhiễm. Trung bình 1 ngày sẽ có 2257\n",
      "Ngày thứ 20\n",
      "\tDữ liệu thật có:  44803 ca nhiễm. Trung bình 1 ngày sẽ có 2240\n",
      "\tDự đoán sẽ có: 45434 ca nhiễm. Trung bình 1 ngày sẽ có 2271\n",
      "Ngày thứ 21\n",
      "\tDữ liệu thật có:  45222 ca nhiễm. Trung bình 1 ngày sẽ có 2153\n",
      "\tDự đoán sẽ có: 47979 ca nhiễm. Trung bình 1 ngày sẽ có 2284\n",
      "Ngày thứ 22\n",
      "\tDữ liệu thật có:  60370 ca nhiễm. Trung bình 1 ngày sẽ có 2744\n",
      "\tDự đoán sẽ có: 50524 ca nhiễm. Trung bình 1 ngày sẽ có 2296\n",
      "Ngày thứ 23\n",
      "\tDữ liệu thật có:  66887 ca nhiễm. Trung bình 1 ngày sẽ có 2908\n",
      "\tDự đoán sẽ có: 53069 ca nhiễm. Trung bình 1 ngày sẽ có 2307\n",
      "Ngày thứ 24\n",
      "\tDữ liệu thật có:  69032 ca nhiễm. Trung bình 1 ngày sẽ có 2876\n",
      "\tDự đoán sẽ có: 55614 ca nhiễm. Trung bình 1 ngày sẽ có 2317\n",
      "Ngày thứ 25\n",
      "\tDữ liệu thật có:  71226 ca nhiễm. Trung bình 1 ngày sẽ có 2849\n",
      "\tDự đoán sẽ có: 58159 ca nhiễm. Trung bình 1 ngày sẽ có 2326\n",
      "Ngày thứ 26\n",
      "\tDữ liệu thật có:  73260 ca nhiễm. Trung bình 1 ngày sẽ có 2817\n",
      "\tDự đoán sẽ có: 60704 ca nhiễm. Trung bình 1 ngày sẽ có 2334\n",
      "Ngày thứ 27\n",
      "\tDữ liệu thật có:  75138 ca nhiễm. Trung bình 1 ngày sẽ có 2782\n",
      "\tDự đoán sẽ có: 63249 ca nhiễm. Trung bình 1 ngày sẽ có 2342\n",
      "Ngày thứ 28\n",
      "\tDữ liệu thật có:  75641 ca nhiễm. Trung bình 1 ngày sẽ có 2701\n",
      "\tDự đoán sẽ có: 65793 ca nhiễm. Trung bình 1 ngày sẽ có 2349\n",
      "Ngày thứ 29\n",
      "\tDữ liệu thật có:  76199 ca nhiễm. Trung bình 1 ngày sẽ có 2627\n",
      "\tDự đoán sẽ có: 68338 ca nhiễm. Trung bình 1 ngày sẽ có 2356\n",
      "Ngày thứ 30\n",
      "\tDữ liệu thật có:  76843 ca nhiễm. Trung bình 1 ngày sẽ có 2561\n",
      "\tDự đoán sẽ có: 70883 ca nhiễm. Trung bình 1 ngày sẽ có 2362\n",
      "Ngày thứ 31\n",
      "\tDữ liệu thật có:  78599 ca nhiễm. Trung bình 1 ngày sẽ có 2535\n",
      "\tDự đoán sẽ có: 73428 ca nhiễm. Trung bình 1 ngày sẽ có 2368\n",
      "Ngày thứ 32\n",
      "\tDữ liệu thật có:  78985 ca nhiễm. Trung bình 1 ngày sẽ có 2468\n",
      "\tDự đoán sẽ có: 75973 ca nhiễm. Trung bình 1 ngày sẽ có 2374\n",
      "Ngày thứ 33\n",
      "\tDữ liệu thật có:  79570 ca nhiễm. Trung bình 1 ngày sẽ có 2411\n",
      "\tDự đoán sẽ có: 78518 ca nhiễm. Trung bình 1 ngày sẽ có 2379\n",
      "Ngày thứ 34\n",
      "\tDữ liệu thật có:  80415 ca nhiễm. Trung bình 1 ngày sẽ có 2365\n",
      "\tDự đoán sẽ có: 81063 ca nhiễm. Trung bình 1 ngày sẽ có 2384\n",
      "Ngày thứ 35\n",
      "\tDữ liệu thật có:  81397 ca nhiễm. Trung bình 1 ngày sẽ có 2325\n",
      "\tDự đoán sẽ có: 83608 ca nhiễm. Trung bình 1 ngày sẽ có 2388\n",
      "Ngày thứ 36\n",
      "\tDữ liệu thật có:  82756 ca nhiễm. Trung bình 1 ngày sẽ có 2298\n",
      "\tDự đoán sẽ có: 86153 ca nhiễm. Trung bình 1 ngày sẽ có 2393\n",
      "Ngày thứ 37\n",
      "\tDữ liệu thật có:  84124 ca nhiễm. Trung bình 1 ngày sẽ có 2273\n",
      "\tDự đoán sẽ có: 88697 ca nhiễm. Trung bình 1 ngày sẽ có 2397\n",
      "Ngày thứ 38\n",
      "\tDữ liệu thật có:  86013 ca nhiễm. Trung bình 1 ngày sẽ có 2263\n",
      "\tDự đoán sẽ có: 91242 ca nhiễm. Trung bình 1 ngày sẽ có 2401\n",
      "Ngày thứ 39\n",
      "\tDữ liệu thật có:  88371 ca nhiễm. Trung bình 1 ngày sẽ có 2265\n",
      "\tDự đoán sẽ có: 93787 ca nhiễm. Trung bình 1 ngày sẽ có 2404\n",
      "Ngày thứ 40\n",
      "\tDữ liệu thật có:  90309 ca nhiễm. Trung bình 1 ngày sẽ có 2257\n",
      "\tDự đoán sẽ có: 96332 ca nhiễm. Trung bình 1 ngày sẽ có 2408\n",
      "Ngày thứ 41\n",
      "\tDữ liệu thật có:  92844 ca nhiễm. Trung bình 1 ngày sẽ có 2264\n",
      "\tDự đoán sẽ có: 98877 ca nhiễm. Trung bình 1 ngày sẽ có 2411\n",
      "Ngày thứ 42\n",
      "\tDữ liệu thật có:  95124 ca nhiễm. Trung bình 1 ngày sẽ có 2264\n",
      "\tDự đoán sẽ có: 101422 ca nhiễm. Trung bình 1 ngày sẽ có 2414\n",
      "Ngày thứ 43\n",
      "\tDữ liệu thật có:  97886 ca nhiễm. Trung bình 1 ngày sẽ có 2276\n",
      "\tDự đoán sẽ có: 103967 ca nhiễm. Trung bình 1 ngày sẽ có 2417\n",
      "Ngày thứ 44\n",
      "\tDữ liệu thật có:  101800 ca nhiễm. Trung bình 1 ngày sẽ có 2313\n",
      "\tDự đoán sẽ có: 106512 ca nhiễm. Trung bình 1 ngày sẽ có 2420\n",
      "Ngày thứ 45\n",
      "\tDự đoán sẽ có: 109057 ca nhiễm. Trung bình 1 ngày sẽ có 2423\n",
      "Ngày thứ 46\n",
      "\tDự đoán sẽ có: 111601 ca nhiễm. Trung bình 1 ngày sẽ có 2426\n",
      "Ngày thứ 47\n",
      "\tDự đoán sẽ có: 114146 ca nhiễm. Trung bình 1 ngày sẽ có 2428\n",
      "Ngày thứ 48\n",
      "\tDự đoán sẽ có: 116691 ca nhiễm. Trung bình 1 ngày sẽ có 2431\n",
      "Ngày thứ 49\n",
      "\tDự đoán sẽ có: 119236 ca nhiễm. Trung bình 1 ngày sẽ có 2433\n",
      "Ngày thứ 50\n",
      "\tDự đoán sẽ có: 121781 ca nhiễm. Trung bình 1 ngày sẽ có 2435\n",
      "Ngày thứ 51\n",
      "\tDự đoán sẽ có: 124326 ca nhiễm. Trung bình 1 ngày sẽ có 2437\n",
      "Ngày thứ 52\n",
      "\tDự đoán sẽ có: 126871 ca nhiễm. Trung bình 1 ngày sẽ có 2439\n",
      "Ngày thứ 53\n",
      "\tDự đoán sẽ có: 129416 ca nhiễm. Trung bình 1 ngày sẽ có 2441\n",
      "Ngày thứ 54\n",
      "\tDự đoán sẽ có: 131961 ca nhiễm. Trung bình 1 ngày sẽ có 2443\n",
      "Ngày thứ 55\n",
      "\tDự đoán sẽ có: 134505 ca nhiễm. Trung bình 1 ngày sẽ có 2445\n",
      "Ngày thứ 56\n",
      "\tDự đoán sẽ có: 137050 ca nhiễm. Trung bình 1 ngày sẽ có 2447\n",
      "Ngày thứ 57\n",
      "\tDự đoán sẽ có: 139595 ca nhiễm. Trung bình 1 ngày sẽ có 2449\n",
      "Ngày thứ 58\n",
      "\tDự đoán sẽ có: 142140 ca nhiễm. Trung bình 1 ngày sẽ có 2450\n",
      "Ngày thứ 59\n",
      "\tDự đoán sẽ có: 144685 ca nhiễm. Trung bình 1 ngày sẽ có 2452\n"
     ]
    }
   ],
   "source": [
    "# show\n",
    "plt.scatter(X_true[:,1],y_true,c='g')\n",
    "plt.plot(X_true[:,1],model.predict(),c='red')\n",
    "plt.xlabel('num day')\n",
    "plt.ylabel('confirmed') \n",
    "plt.show() \n",
    "\n",
    "DAY = 60\n",
    "predict = []\n",
    "for item in range(1,DAY):\n",
    "    day = item\n",
    "    day = [[1,item]]\n",
    "    print('Ngày thứ',day[0][1])\n",
    "    if item < 45:\n",
    "        real = y_true[item][0]\n",
    "        print('\\tDữ liệu thật có: ',real, 'ca nhiễm. Trung bình 1 ngày sẽ có',int(real/item))\n",
    "    pre = model.predict_by_day(day)\n",
    "    predict.append(pre[0][0])\n",
    "    print('\\tDự đoán sẽ có:',int(model.predict_by_day(day)),'ca nhiễm. Trung bình 1 ngày sẽ có',int(pre/item))"
   ]
  },
  {
   "cell_type": "code",
   "execution_count": 159,
   "metadata": {},
   "outputs": [
    {
     "data": {
      "text/plain": [
       "Text(0.5, 0.98, 'nCov 19 People')"
      ]
     },
     "execution_count": 159,
     "metadata": {},
     "output_type": "execute_result"
    },
    {
     "data": {
      "image/png": "[encoded data removed]",
      "text/plain": [
       "<Figure size 720x360 with 1 Axes>"
      ]
     },
     "metadata": {
      "needs_background": "light"
     },
     "output_type": "display_data"
    }
   ],
   "source": [
    "num_day = np.asarray(np.linspace(start=1,stop=DAY,num=DAY-1)) \n",
    "predict = np.array(predict) \n",
    "fig, axs = plt.subplots(1, figsize=(10,5), sharey=True) \n",
    "x = np.linspace(-2,40,10)\n",
    "y = 1*x+0\n",
    "\n",
    "axs.plot(x, y,color='green') \n",
    "axs.scatter(num_day[:46], y_true.T[0],color='r')  \n",
    "axs.set_xlabel('day')\n",
    "axs.set_ylabel('people confirmed')\n",
    "fig.suptitle('nCov 19 People')"
   ]
  },
  {
   "cell_type": "code",
   "execution_count": null,
   "metadata": {},
   "outputs": [],
   "source": [
    "Deep Learning => neural network, cnn, ... \n",
    "Machine Learning => neural network, ..\n",
    "AI => rewards \n",
    "Reforcement Learning => rewards by time"
   ]
  },
  {
   "cell_type": "code",
   "execution_count": 222,
   "metadata": {},
   "outputs": [
    {
     "data": {
      "image/png": "[encoded data removed]",
      "text/plain": [
       "<Figure size 432x288 with 1 Axes>"
      ]
     },
     "metadata": {
      "needs_background": "light"
     },
     "output_type": "display_data"
    }
   ],
   "source": [
    "x = np.linspace(-5,5.5,102)\n",
    "y = 10*x**2 -4*x \n",
    "\n",
    "plt.plot(x,y,'g')\n",
    "plt.grid()\n",
    "plt.show()"
   ]
  },
  {
   "cell_type": "code",
   "execution_count": null,
   "metadata": {},
   "outputs": [],
   "source": []
  }
 ],
 "metadata": {
  "kernelspec": {
   "display_name": "Python 3",
   "language": "python",
   "name": "python3"
  },
  "language_info": {
   "codemirror_mode": {
    "name": "ipython",
    "version": 3
   },
   "file_extension": ".py",
   "mimetype": "text/x-python",
   "name": "python",
   "nbconvert_exporter": "python",
   "pygments_lexer": "ipython3",
   "version": "3.7.5"
  }
 },
 "nbformat": 4,
 "nbformat_minor": 2
}
