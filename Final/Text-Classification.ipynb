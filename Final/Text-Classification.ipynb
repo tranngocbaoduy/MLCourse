{
  "nbformat": 4,
  "nbformat_minor": 0,
  "metadata": {
    "colab": {
      "name": "NLP_PROBLEM 1",
      "provenance": [],
      "collapsed_sections": [],
      "toc_visible": true
    },
    "kernelspec": {
      "name": "python3",
      "display_name": "Python 3"
    },
    "accelerator": "GPU",
    "widgets": {
      "application/vnd.jupyter.widget-state+json": {
        "8ff050d20fdd4dbd8379998205e325ba": {
          "model_module": "@jupyter-widgets/controls",
          "model_name": "HBoxModel",
          "state": {
            "_view_name": "HBoxView",
            "_dom_classes": [],
            "_model_name": "HBoxModel",
            "_view_module": "@jupyter-widgets/controls",
            "_model_module_version": "1.5.0",
            "_view_count": null,
            "_view_module_version": "1.5.0",
            "box_style": "",
            "layout": "IPY_MODEL_b18ea62950b3401da09a6e72ccc87ec7",
            "_model_module": "@jupyter-widgets/controls",
            "children": [
              "IPY_MODEL_577da9b3fa6245c19206cd48774b0c0e",
              "IPY_MODEL_2608c23780c2427da2065f8bbec2751b"
            ]
          }
        },
        "b18ea62950b3401da09a6e72ccc87ec7": {
          "model_module": "@jupyter-widgets/base",
          "model_name": "LayoutModel",
          "state": {
            "_view_name": "LayoutView",
            "grid_template_rows": null,
            "right": null,
            "justify_content": null,
            "_view_module": "@jupyter-widgets/base",
            "overflow": null,
            "_model_module_version": "1.2.0",
            "_view_count": null,
            "flex_flow": null,
            "width": null,
            "min_width": null,
            "border": null,
            "align_items": null,
            "bottom": null,
            "_model_module": "@jupyter-widgets/base",
            "top": null,
            "grid_column": null,
            "overflow_y": null,
            "overflow_x": null,
            "grid_auto_flow": null,
            "grid_area": null,
            "grid_template_columns": null,
            "flex": null,
            "_model_name": "LayoutModel",
            "justify_items": null,
            "grid_row": null,
            "max_height": null,
            "align_content": null,
            "visibility": null,
            "align_self": null,
            "height": null,
            "min_height": null,
            "padding": null,
            "grid_auto_rows": null,
            "grid_gap": null,
            "max_width": null,
            "order": null,
            "_view_module_version": "1.2.0",
            "grid_template_areas": null,
            "object_position": null,
            "object_fit": null,
            "grid_auto_columns": null,
            "margin": null,
            "display": null,
            "left": null
          }
        },
        "577da9b3fa6245c19206cd48774b0c0e": {
          "model_module": "@jupyter-widgets/controls",
          "model_name": "IntProgressModel",
          "state": {
            "_view_name": "ProgressView",
            "style": "IPY_MODEL_c2608dda955345c9ab7e93e40af94a75",
            "_dom_classes": [],
            "description": "build dataset: 100%",
            "_model_name": "IntProgressModel",
            "bar_style": "success",
            "max": 16215,
            "_view_module": "@jupyter-widgets/controls",
            "_model_module_version": "1.5.0",
            "value": 16215,
            "_view_count": null,
            "_view_module_version": "1.5.0",
            "orientation": "horizontal",
            "min": 0,
            "description_tooltip": null,
            "_model_module": "@jupyter-widgets/controls",
            "layout": "IPY_MODEL_28aedaf671ae43c393e91b90ae671259"
          }
        },
        "2608c23780c2427da2065f8bbec2751b": {
          "model_module": "@jupyter-widgets/controls",
          "model_name": "HTMLModel",
          "state": {
            "_view_name": "HTMLView",
            "style": "IPY_MODEL_15a5868d97fb4624b05f74d608bd8175",
            "_dom_classes": [],
            "description": "",
            "_model_name": "HTMLModel",
            "placeholder": "​",
            "_view_module": "@jupyter-widgets/controls",
            "_model_module_version": "1.5.0",
            "value": " 16215/16215 [05:02&lt;00:00, 53.62it/s]",
            "_view_count": null,
            "_view_module_version": "1.5.0",
            "description_tooltip": null,
            "_model_module": "@jupyter-widgets/controls",
            "layout": "IPY_MODEL_bae71fe5d8a443a5a0348d5eda5e9340"
          }
        },
        "c2608dda955345c9ab7e93e40af94a75": {
          "model_module": "@jupyter-widgets/controls",
          "model_name": "ProgressStyleModel",
          "state": {
            "_view_name": "StyleView",
            "_model_name": "ProgressStyleModel",
            "description_width": "initial",
            "_view_module": "@jupyter-widgets/base",
            "_model_module_version": "1.5.0",
            "_view_count": null,
            "_view_module_version": "1.2.0",
            "bar_color": null,
            "_model_module": "@jupyter-widgets/controls"
          }
        },
        "28aedaf671ae43c393e91b90ae671259": {
          "model_module": "@jupyter-widgets/base",
          "model_name": "LayoutModel",
          "state": {
            "_view_name": "LayoutView",
            "grid_template_rows": null,
            "right": null,
            "justify_content": null,
            "_view_module": "@jupyter-widgets/base",
            "overflow": null,
            "_model_module_version": "1.2.0",
            "_view_count": null,
            "flex_flow": null,
            "width": null,
            "min_width": null,
            "border": null,
            "align_items": null,
            "bottom": null,
            "_model_module": "@jupyter-widgets/base",
            "top": null,
            "grid_column": null,
            "overflow_y": null,
            "overflow_x": null,
            "grid_auto_flow": null,
            "grid_area": null,
            "grid_template_columns": null,
            "flex": null,
            "_model_name": "LayoutModel",
            "justify_items": null,
            "grid_row": null,
            "max_height": null,
            "align_content": null,
            "visibility": null,
            "align_self": null,
            "height": null,
            "min_height": null,
            "padding": null,
            "grid_auto_rows": null,
            "grid_gap": null,
            "max_width": null,
            "order": null,
            "_view_module_version": "1.2.0",
            "grid_template_areas": null,
            "object_position": null,
            "object_fit": null,
            "grid_auto_columns": null,
            "margin": null,
            "display": null,
            "left": null
          }
        },
        "15a5868d97fb4624b05f74d608bd8175": {
          "model_module": "@jupyter-widgets/controls",
          "model_name": "DescriptionStyleModel",
          "state": {
            "_view_name": "StyleView",
            "_model_name": "DescriptionStyleModel",
            "description_width": "",
            "_view_module": "@jupyter-widgets/base",
            "_model_module_version": "1.5.0",
            "_view_count": null,
            "_view_module_version": "1.2.0",
            "_model_module": "@jupyter-widgets/controls"
          }
        },
        "bae71fe5d8a443a5a0348d5eda5e9340": {
          "model_module": "@jupyter-widgets/base",
          "model_name": "LayoutModel",
          "state": {
            "_view_name": "LayoutView",
            "grid_template_rows": null,
            "right": null,
            "justify_content": null,
            "_view_module": "@jupyter-widgets/base",
            "overflow": null,
            "_model_module_version": "1.2.0",
            "_view_count": null,
            "flex_flow": null,
            "width": null,
            "min_width": null,
            "border": null,
            "align_items": null,
            "bottom": null,
            "_model_module": "@jupyter-widgets/base",
            "top": null,
            "grid_column": null,
            "overflow_y": null,
            "overflow_x": null,
            "grid_auto_flow": null,
            "grid_area": null,
            "grid_template_columns": null,
            "flex": null,
            "_model_name": "LayoutModel",
            "justify_items": null,
            "grid_row": null,
            "max_height": null,
            "align_content": null,
            "visibility": null,
            "align_self": null,
            "height": null,
            "min_height": null,
            "padding": null,
            "grid_auto_rows": null,
            "grid_gap": null,
            "max_width": null,
            "order": null,
            "_view_module_version": "1.2.0",
            "grid_template_areas": null,
            "object_position": null,
            "object_fit": null,
            "grid_auto_columns": null,
            "margin": null,
            "display": null,
            "left": null
          }
        }
      }
    }
  },
  "cells": [
    {
      "cell_type": "code",
      "metadata": {
        "id": "EENbkvwrIEXf",
        "colab_type": "code",
        "colab": {}
      },
      "source": [
        ""
      ],
      "execution_count": 0,
      "outputs": []
    },
    {
      "cell_type": "code",
      "metadata": {
        "id": "SJJ3kls6IHRU",
        "colab_type": "code",
        "colab": {}
      },
      "source": [
        ""
      ],
      "execution_count": 0,
      "outputs": []
    },
    {
      "cell_type": "code",
      "metadata": {
        "id": "2XlGxrS0IMPq",
        "colab_type": "code",
        "outputId": "73e929d1-de76-4254-a50d-cf096a3159f1",
        "colab": {
          "base_uri": "https://localhost:8080/",
          "height": 34
        }
      },
      "source": [
        "from google.colab import drive\n",
        "drive.mount('/content/drive')"
      ],
      "execution_count": 1,
      "outputs": [
        {
          "output_type": "stream",
          "text": [
            "Drive already mounted at /content/drive; to attempt to forcibly remount, call drive.mount(\"/content/drive\", force_remount=True).\n"
          ],
          "name": "stdout"
        }
      ]
    },
    {
      "cell_type": "code",
      "metadata": {
        "id": "1ibJY_S0IMlR",
        "colab_type": "code",
        "outputId": "6cc331f0-dc8c-421d-b516-d6f9382035c9",
        "colab": {
          "base_uri": "https://localhost:8080/",
          "height": 34
        }
      },
      "source": [
        "%cd /content/drive/My Drive/ML_CUONG/NLP"
      ],
      "execution_count": 2,
      "outputs": [
        {
          "output_type": "stream",
          "text": [
            "/content/drive/My Drive/ML_CUONG/NLP\n"
          ],
          "name": "stdout"
        }
      ]
    },
    {
      "cell_type": "code",
      "metadata": {
        "id": "ir_MFa7xGHmq",
        "colab_type": "code",
        "colab": {}
      },
      "source": [
        ""
      ],
      "execution_count": 0,
      "outputs": []
    },
    {
      "cell_type": "code",
      "metadata": {
        "id": "i5B-PSWMJtAj",
        "colab_type": "code",
        "outputId": "03b9bb42-64af-4d77-c5b1-ce780fe5913b",
        "colab": {
          "base_uri": "https://localhost:8080/",
          "height": 212
        }
      },
      "source": [
        "# import thư viện\n",
        "!pip install pyvi\n",
        "!pip install tqdm\n",
        "import json\n",
        "import random\n",
        "import os\n",
        "import glob\n",
        "from random import randint \n",
        "from gensim import corpora, matutils\n",
        "import pickle as cPickle   \n",
        "from pyvi import ViTokenizer \n",
        "from tqdm import trange, tqdm_notebook\n",
        "import numpy as np\n",
        "from past.builtins import xrange\n",
        "from sklearn.preprocessing import MultiLabelBinarizer,LabelEncoder"
      ],
      "execution_count": 93,
      "outputs": [
        {
          "output_type": "stream",
          "text": [
            "Requirement already satisfied: pyvi in /usr/local/lib/python3.6/dist-packages (0.0.9.7)\n",
            "Requirement already satisfied: scikit-learn in /usr/local/lib/python3.6/dist-packages (from pyvi) (0.22.2.post1)\n",
            "Requirement already satisfied: sklearn-crfsuite in /usr/local/lib/python3.6/dist-packages (from pyvi) (0.3.6)\n",
            "Requirement already satisfied: scipy>=0.17.0 in /usr/local/lib/python3.6/dist-packages (from scikit-learn->pyvi) (1.4.1)\n",
            "Requirement already satisfied: numpy>=1.11.0 in /usr/local/lib/python3.6/dist-packages (from scikit-learn->pyvi) (1.18.3)\n",
            "Requirement already satisfied: joblib>=0.11 in /usr/local/lib/python3.6/dist-packages (from scikit-learn->pyvi) (0.14.1)\n",
            "Requirement already satisfied: tabulate in /usr/local/lib/python3.6/dist-packages (from sklearn-crfsuite->pyvi) (0.8.7)\n",
            "Requirement already satisfied: python-crfsuite>=0.8.3 in /usr/local/lib/python3.6/dist-packages (from sklearn-crfsuite->pyvi) (0.9.7)\n",
            "Requirement already satisfied: tqdm>=2.0 in /usr/local/lib/python3.6/dist-packages (from sklearn-crfsuite->pyvi) (4.38.0)\n",
            "Requirement already satisfied: six in /usr/local/lib/python3.6/dist-packages (from sklearn-crfsuite->pyvi) (1.12.0)\n",
            "Requirement already satisfied: tqdm in /usr/local/lib/python3.6/dist-packages (4.38.0)\n"
          ],
          "name": "stdout"
        }
      ]
    },
    {
      "cell_type": "code",
      "metadata": {
        "id": "_8DnDSI8I0T9",
        "colab_type": "code",
        "colab": {}
      },
      "source": [
        "# tạo class đọc file \n",
        "class FileReader(object):\n",
        "    def __init__(self, file_path, encoder = None):\n",
        "        self.file_path = file_path\n",
        "        self.encoder = encoder if encoder != None else 'utf-16le'\n",
        "\n",
        "    def read(self):\n",
        "        with open(self.file_path,'rb') as f:\n",
        "            s = f.read() \n",
        "        return s\n",
        "\n",
        "    def content(self):\n",
        "        s = self.read() \n",
        "        return s.decode(self.encoder)\n",
        "\n",
        "    def read_json(self):\n",
        "        with open(self.file_path) as f:\n",
        "            s = json.load(f)\n",
        "        return s\n",
        "        \n",
        "    def read_stopwords(self):\n",
        "        with open(self.file_path, 'r') as f:\n",
        "            stopwords = set([w.strip().replace(' ', '_') for w in f.readlines()])\n",
        "        return stopwords\n",
        "\n",
        "    def load_dictionary(self):\n",
        "        return corpora.Dictionary.load_from_text(self.file_path)\n"
      ],
      "execution_count": 0,
      "outputs": []
    },
    {
      "cell_type": "code",
      "metadata": {
        "id": "aMf7sNgLKBf_",
        "colab_type": "code",
        "colab": {}
      },
      "source": [
        "DATA_TRAIN_PATH = '/content/drive/My Drive/ML_CUONG/NLP/dataset/TRAIN_FULL' \n",
        "DATA_TRAIN_JSON = '/content/drive/My Drive/ML_CUONG/NLP/dataset/json/train.json'\n",
        "\n",
        "STOP_WORDS = '/content/drive/My Drive/NLP/nlp_me/stopwords-nlp-vi.txt'\n",
        "SPECIAL_CHARACTER = '0123456789%@$.,=+-!;/()*\"&^:#|\\n\\t\\''\n",
        "DICTIONARY_PATH = '/content/drive/My Drive/ML_CUONG/NLP/dataset/json/dictionary_IR.txt'"
      ],
      "execution_count": 0,
      "outputs": []
    },
    {
      "cell_type": "code",
      "metadata": {
        "id": "RfDEyVVcd9va",
        "colab_type": "code",
        "colab": {}
      },
      "source": [
        ""
      ],
      "execution_count": 0,
      "outputs": []
    },
    {
      "cell_type": "code",
      "metadata": {
        "id": "RrtX0PDGJj0X",
        "colab_type": "code",
        "colab": {}
      },
      "source": [
        "# tạo class load dữ liệu từ thư mục cho trước theo format Main Directory/Country/Aspect/... .txt\n",
        "class DataLoader(object):\n",
        "    def __init__(self, dataPath):\n",
        "        self.dataPath = dataPath\n",
        "\n",
        "    def __get_files(self):  \n",
        "        folders = [self.dataPath +'/'+ folder + '/' for folder in os.listdir(self.dataPath)]\n",
        "        print(folders)\n",
        "        for item in folders:\n",
        "            print(item)\n",
        "        class_titles = os.listdir(self.dataPath)\n",
        "        files = {}\n",
        "        for folder, title in zip(folders, class_titles):\n",
        "            if folder.split('/')[-2] == '.DS_Store':\n",
        "                continue\n",
        "            files[title] = [folder + f for f in os.listdir(folder)]\n",
        "        self.files = files\n",
        "        print(self.files) \n",
        " \n",
        "    def get_json(self):\n",
        "        self.__get_files()\n",
        "        data = []\n",
        "        for topic in self.files:\n",
        "            print(topic)\n",
        "            for index in tqdm_notebook(xrange(len(self.files[topic])), desc='build dictionary'):  \n",
        "                # rand = randint(1000,1200)\n",
        "                # i = 0\n",
        "                file = self.files[topic][index]\n",
        "                paths = glob.glob(file+\"/*.txt\")\n",
        "                if file.split('/')[-2] == 'Chau_au':\n",
        "                    paths = glob.glob(file+\"/*/*.txt\") \n",
        "                for index, path in enumerate(paths): \n",
        "                    try:\n",
        "                      content = FileReader(file_path=path).content() \n",
        "                    except:\n",
        "                      continue\n",
        "                    data.append({\n",
        "                        'category': '.'.join([path.split('/')[-2]]),\n",
        "                        'content': content\n",
        "                    }) \n",
        "                    \n",
        "                    # if i == rand:\n",
        "                    #     break\n",
        "                    # else:\n",
        "                    #     i += 1  \n",
        "        return data\n",
        "\n",
        "class FileStore(object):\n",
        "    def __init__(self, file_path, data = None):\n",
        "        self.file_path = file_path\n",
        "        self.data = data\n",
        "\n",
        "    def store_json(self):\n",
        "        print(\"Save: \",self.file_path)\n",
        "        with open(self.file_path, 'w') as outfile:\n",
        "            json.dump(self.data, outfile)\n",
        "\n",
        "    # store dictionary: https://radimrehurek.com/gensim/corpora/dictionary.html#gensim.corpora.dictionary.Dictionary.filter_extremes\n",
        "    # dict_word là mãng chữa các đoạn text đã được segmentation [[cá, con, ăn],[con, mèo],[con, chó, chạy, qua]]\n",
        "    # len của dictionary sẽ là 7 \n",
        "    # no_above là tần suất xuất hiện trên số phần trăm ví dụ: no_above = 0.5 là tần suất xuất hiện không được trên (phải dưới) của tổng số tài liệu 50%\n",
        "    # no_below là số lần xuất hiện không được dưới ... ví dụ no_below = 2 là số lần xuất hiện trong từng tài liệu không được dưới 2\n",
        "    def store_dictionary(self, dict_words):\n",
        "        dictionary = corpora.Dictionary(dict_words)\n",
        "        dictionary.filter_extremes(no_below=50, no_above=0.3) \n",
        "        dictionary.save_as_text(self.file_path)\n",
        " \n",
        "\n",
        "    def save_pickle(self,  obj):\n",
        "        outfile = open(self.file_path, 'wb')\n",
        "        fastPickler = cPickle.Pickler(outfile, 4)\n",
        "        fastPickler.fast = 1\n",
        "        fastPickler.dump(obj)\n",
        "        outfile.close()\n",
        "\n"
      ],
      "execution_count": 0,
      "outputs": []
    },
    {
      "cell_type": "code",
      "metadata": {
        "id": "5vNaPaNKuSIj",
        "colab_type": "code",
        "outputId": "2da7b094-a44a-448d-e76b-6f729120ec76",
        "colab": {
          "base_uri": "https://localhost:8080/",
          "height": 34
        }
      },
      "source": [
        "# ví dụ về library \n",
        "corpus = [[\"máma\", \"mele\", \"maso\",'aa','aa'], [\"ema\",'aa', \"má\", \"maso\"],['maso','aa','aa','aa','aa','aa','aa','aa'], [\"ema\", \"má\", \"máma\"]]\n",
        "dct = corpora.Dictionary(corpus)\n",
        "dct.filter_extremes(no_below=3, no_above=0.76, keep_n=1000000)\n",
        "print(dct)\n",
        "\n",
        "# vì từ maso xuất hiện 3 lần (trên 2 lần) và chiểm 3 trên 4 tổng số tài liệu 3/4 = 0.75 lớn hơn 0.74 nên không tồn tài trong dictionary\n",
        "# vì từ máma xuất hiện 2 lần (= 2 lần) và chiếm 2 trên 4 tổng số tài liệu 2/4= 0.5 nhỏ hơn 0.74 nên vần còn trong dic \n",
        "# vì từ ema xuất hiện 2 lần (= 2 lần) và chiếm 2 trên 4 tổng số tài liệu 2/4= 0.5 nhỏ hơn 0.74 nên vần còn trong dic \n",
        "# vì từ aa xuất hiện 7 lần (trong 1 doc) nhưng 1 lần/1 doc (dưới 2 lần) nên không còn trong dic \n"
      ],
      "execution_count": 83,
      "outputs": [
        {
          "output_type": "stream",
          "text": [
            "Dictionary(2 unique tokens: ['aa', 'maso'])\n"
          ],
          "name": "stdout"
        }
      ]
    },
    {
      "cell_type": "code",
      "metadata": {
        "id": "i1bEkRV6J4Q9",
        "colab_type": "code",
        "colab": {}
      },
      "source": [
        "# # # # lấy đường dẫn thư mục làm label và nội dung làm dữ liệu theo format {category: '',content,''}\n",
        "# json_train = DataLoader(dataPath=DATA_TRAIN_PATH).get_json()\n",
        "\n",
        "# # # # lưu file train\n",
        "# FileStore(file_path=DATA_TRAIN_JSON, data=json_train).store_json()\n",
        "# print('Total data train: %d' %len(json_train))"
      ],
      "execution_count": 0,
      "outputs": []
    },
    {
      "cell_type": "code",
      "metadata": {
        "id": "16TjjpUmc_A4",
        "colab_type": "code",
        "outputId": "1896ba72-4c47-417e-8046-62b44e4e8290",
        "colab": {
          "base_uri": "https://localhost:8080/",
          "height": 34
        }
      },
      "source": [
        "# đọc file train\n",
        "train_loader = FileReader(file_path=DATA_TRAIN_JSON) \n",
        "data_train = train_loader.read_json()\n",
        "print('Total data train: %d' %len(data_train))\n",
        "random.shuffle(data_train)"
      ],
      "execution_count": 94,
      "outputs": [
        {
          "output_type": "stream",
          "text": [
            "Total data train: 16215\n"
          ],
          "name": "stdout"
        }
      ]
    },
    {
      "cell_type": "code",
      "metadata": {
        "id": "KGgHfOI2Pljx",
        "colab_type": "code",
        "colab": {}
      },
      "source": [
        ""
      ],
      "execution_count": 0,
      "outputs": []
    },
    {
      "cell_type": "code",
      "metadata": {
        "id": "luQv2x_glQ8b",
        "colab_type": "code",
        "colab": {}
      },
      "source": [
        "# xây dựng class NLP extends từ pyvi để extract feature \n",
        "class NLP(object):\n",
        "    def __init__(self, text = None):\n",
        "        self.text = text\n",
        "        self.__set_stopwords()\n",
        "\n",
        "    #đọc file stop_word đã chứa sẵn trong đường dẫn\n",
        "    def __set_stopwords(self):\n",
        "        self.stopwords = FileReader(STOP_WORDS).read_stopwords()\n",
        "\n",
        "    # vì trong câu sẽ xuất hiện rất nhiều từ vô nghĩa, sẽ làm noise dữ liệu cho nên phải segmentation trước khi train. Sử dụng ViTokenizer từ Pyvi \n",
        "    # để tokenize (đây là một model do người việt đã làm để segmentation tiếng việt)\n",
        "    def segmentation(self):\n",
        "        return ViTokenizer.tokenize(self.text)\n",
        "\n",
        "    # loại bỏ kí tự đặc biệt, lowercase và segmentation tiếng việt\n",
        "    def split_words(self):\n",
        "        text = self.segmentation()\n",
        "        try:\n",
        "            return [x.strip(SPECIAL_CHARACTER).lower() for x in text.split()]\n",
        "        except TypeError:\n",
        "            return []\n",
        "\n",
        "    # get feature trong câu gồm hai bước \n",
        "    # loại bỏ kí tự đặc biệt và loại bỏ stop_words - stop_word là những từ vô nghĩa không mang lại hiệu quả train \n",
        "    def get_words_feature(self):\n",
        "        split_words = self.split_words()\n",
        "        return [word for word in split_words if word.encode('utf-8') not in self.stopwords]\n"
      ],
      "execution_count": 0,
      "outputs": []
    },
    {
      "cell_type": "code",
      "metadata": {
        "id": "9nqRcDglJ4Tv",
        "colab_type": "code",
        "colab": {}
      },
      "source": [
        "# extract feature \n",
        "# build dictionary để chuyển embedding dữ liệu, chuyển về word2vec => bag of word\n",
        "from past.builtins import xrange\n",
        "class FeatureExtraction(object):\n",
        "    def __init__(self, data=None, build_dic=False):\n",
        "        self.data = data\n",
        "        self.build_dic = build_dic\n",
        "\n",
        "    # build từ điển gồm các từ xuất hiện trong văn bản sau khi đã preprocess dữ liệu \n",
        "    def __build_dictionary(self):\n",
        "        print('Building dictionary')\n",
        "        dict_words = []  \n",
        "        for i in tqdm_notebook(xrange(len(self.data)), desc='build dictionary'): \n",
        "          if self.data[i]['category'].split('.')[0] != 'My': \n",
        "            words = NLP(text = self.data[i]['content']).get_words_feature()\n",
        "            dict_words.append(words)  \n",
        "        FileStore(file_path=DICTIONARY_PATH).store_dictionary(dict_words)\n",
        "\n",
        "    # load từ điển đã xây dựng theo dữ liệu train\n",
        "    def __load_dictionary(self):\n",
        "        if os.path.exists(DICTIONARY_PATH) == False or self.build_dic == True: \n",
        "            print(\"Dictionary is not exist\")\n",
        "            self.__build_dictionary() \n",
        "            self.build_dic = False\n",
        "        \n",
        "        self.dictionary = FileReader(DICTIONARY_PATH).load_dictionary()\n",
        "    # extract feature từ từ điển đã tạo cùng với label\n",
        "    # x sẽ là word2vec, y là label\n",
        "    def __build_dataset(self):\n",
        "        self.features = []\n",
        "        self.labels = [] \n",
        "        for i in tqdm_notebook(xrange(len(self.data)), desc='build dataset'): \n",
        "            if self.data[i]['category'].split('.')[0] != 'My': \n",
        "              content = self.get_dense(self.data[i]['content'])\n",
        "              self.features.append(content)\n",
        "              self.labels.append(self.data[i]['category'])\n",
        "              # if str(self.data[i]['category'].split('.')[1]) == 'Chinh_tri_doi_ngoai' or str(self.data[i]['category'].split('.')[1]) == 'Chinh_tri_noi_bo':\n",
        "              #   self.labels.append(str(self.data[i]['category'].split('.')[0])+'.Chinh_tri')\n",
        "              # else:\n",
        "              #   self.labels.append(str(self.data[i]['category'].split('.')[0])+'.'+str(self.data[i]['category'].split('.')[1]))\n",
        "\n",
        "    def get_dense(self, text):\n",
        "        self.__load_dictionary()\n",
        "        words = NLP(text).get_words_feature()\n",
        "        # Bag of words\n",
        "        vec = self.dictionary.doc2bow(words)  \n",
        "        dense = list(matutils.corpus2dense([vec], num_terms=len(self.dictionary)).T[0])\n",
        "        return dense\n",
        "\n",
        "    def get_data_and_label(self):\n",
        "        print(\"** Start build dataset\")\n",
        "        self.__build_dataset()  \n",
        "        return self.features, self.labels\n",
        "\n"
      ],
      "execution_count": 0,
      "outputs": []
    },
    {
      "cell_type": "code",
      "metadata": {
        "id": "aB0WA4bcQgxb",
        "colab_type": "code",
        "colab": {}
      },
      "source": [
        ""
      ],
      "execution_count": 0,
      "outputs": []
    },
    {
      "cell_type": "code",
      "metadata": {
        "id": "v2nSrPCDtOrj",
        "colab_type": "code",
        "outputId": "df106be1-0215-4721-993f-7d1feb42102f",
        "colab": {
          "base_uri": "https://localhost:8080/",
          "height": 211,
          "referenced_widgets": [
            "8ff050d20fdd4dbd8379998205e325ba",
            "b18ea62950b3401da09a6e72ccc87ec7",
            "577da9b3fa6245c19206cd48774b0c0e",
            "2608c23780c2427da2065f8bbec2751b",
            "c2608dda955345c9ab7e93e40af94a75",
            "28aedaf671ae43c393e91b90ae671259",
            "15a5868d97fb4624b05f74d608bd8175",
            "bae71fe5d8a443a5a0348d5eda5e9340"
          ]
        }
      },
      "source": [
        " # build_dic là biến để biết build dictionary hay không ? \n",
        "# extract feature từ model của pyvi để build data set\n",
        "# print(data)\n",
        "features_train, labels_train = FeatureExtraction(data=data_train, build_dic=False).get_data_and_label() \n",
        "\n",
        "# a = FeatureExtraction(data=data_train, build_dic=False)\n",
        "# b = a.get_dense(\"MacBook Air là dòng laptop mỏng nhẹ lần đầu ra mắt vào năm 2007. Thiết kế được nâng cấp của MacBook Air năm 2010 nhanh chóng trở thành \\\"chuẩn mực\\\" mà mãi đến 5 năm sau các hãng laptop Windows mới đuổi kịp (khái niệm ultrabook).\")\n",
        "# FileReader(DICTIONARY_PATH).load_dictionary().num_docs\n"
      ],
      "execution_count": 96,
      "outputs": [
        {
          "output_type": "stream",
          "text": [
            "** Start build dataset\n"
          ],
          "name": "stdout"
        },
        {
          "output_type": "stream",
          "text": [
            "/usr/local/lib/python3.6/dist-packages/ipykernel_launcher.py:30: TqdmDeprecationWarning: This function will be removed in tqdm==5.0.0\n",
            "Please use `tqdm.notebook.tqdm` instead of `tqdm.tqdm_notebook`\n"
          ],
          "name": "stderr"
        },
        {
          "output_type": "display_data",
          "data": {
            "application/vnd.jupyter.widget-view+json": {
              "model_id": "8ff050d20fdd4dbd8379998205e325ba",
              "version_minor": 0,
              "version_major": 2
            },
            "text/plain": [
              "HBox(children=(IntProgress(value=0, description='build dataset', max=16215, style=ProgressStyle(description_wi…"
            ]
          },
          "metadata": {
            "tags": []
          }
        },
        {
          "output_type": "stream",
          "text": [
            "/usr/local/lib/python3.6/dist-packages/smart_open/smart_open_lib.py:253: UserWarning: This function is deprecated, use smart_open.open instead. See the migration notes for details: https://github.com/RaRe-Technologies/smart_open/blob/master/README.rst#migrating-to-the-new-open-function\n",
            "  'See the migration notes for details: %s' % _MIGRATION_NOTES_URL\n",
            "/usr/local/lib/python3.6/dist-packages/gensim/matutils.py:502: FutureWarning: arrays to stack must be passed as a \"sequence\" type such as list or tuple. Support for non-sequence iterables such as generators is deprecated as of NumPy 1.16 and will raise an error in the future.\n",
            "  result = np.column_stack(sparse2full(doc, num_terms) for doc in corpus)\n"
          ],
          "name": "stderr"
        },
        {
          "output_type": "stream",
          "text": [
            "\n"
          ],
          "name": "stdout"
        }
      ]
    },
    {
      "cell_type": "code",
      "metadata": {
        "id": "WRAKDyFSvXYJ",
        "colab_type": "code",
        "colab": {}
      },
      "source": [
        "# load data hơi lâu nên để hai biến giữ lại data ban dầu \n",
        "# a, b = np.array(features_train),np.array(labels_train) \n",
        "x, y = np.array(features_train),np.array(labels_train)\n",
        " "
      ],
      "execution_count": 0,
      "outputs": []
    },
    {
      "cell_type": "code",
      "metadata": {
        "id": "zG04HcsEnWr_",
        "colab_type": "code",
        "colab": {}
      },
      "source": [
        "from keras.utils import to_categorical\n",
        "\n",
        "# encode label \n",
        "mlb = LabelEncoder() \n",
        "k = mlb.fit_transform(y)\n",
        "# one hot encoding \n",
        "y = to_categorical(k)"
      ],
      "execution_count": 0,
      "outputs": []
    },
    {
      "cell_type": "code",
      "metadata": {
        "id": "9x6YDKfLLH9k",
        "colab_type": "code",
        "colab": {}
      },
      "source": [
        "from sklearn.manifold import TSNE\n",
        "import matplotlib.pyplot as plt\n",
        "X_draw = TSNE(n_components=2).fit_transform(x[:2000]) "
      ],
      "execution_count": 0,
      "outputs": []
    },
    {
      "cell_type": "code",
      "metadata": {
        "id": "nVSqUj5uLPG9",
        "colab_type": "code",
        "colab": {
          "base_uri": "https://localhost:8080/",
          "height": 282
        },
        "outputId": "5568ecc3-d1e0-49ce-c88d-cd52c106f8dc"
      },
      "source": [
        "plt.scatter(X_draw[:,0],X_draw[:,1],c=k[:2000])\n",
        "plt.legend()\n",
        "plt.grid(True)"
      ],
      "execution_count": 137,
      "outputs": [
        {
          "output_type": "stream",
          "text": [
            "No handles with labels found to put in legend.\n"
          ],
          "name": "stderr"
        },
        {
          "output_type": "display_data",
          "data": {
            "image/png": "[encoded data removed]",
            "text/plain": [
              "<Figure size 432x288 with 1 Axes>"
            ]
          },
          "metadata": {
            "tags": [],
            "needs_background": "light"
          }
        }
      ]
    },
    {
      "cell_type": "code",
      "metadata": {
        "id": "LBcfR1fZNkgc",
        "colab_type": "code",
        "colab": {}
      },
      "source": [
        ""
      ],
      "execution_count": 0,
      "outputs": []
    },
    {
      "cell_type": "code",
      "metadata": {
        "id": "YUqdzW-kNWTn",
        "colab_type": "code",
        "colab": {}
      },
      "source": [
        "from sklearn.decomposition import PCA\n",
        "from sklearn.decomposition import SparsePCA\n",
        "import matplotlib.pyplot as plt\n",
        "pca = PCA(n_components=2).fit(np.array(x))\n",
        "X_draw_PCA = pca.transform(x)"
      ],
      "execution_count": 0,
      "outputs": []
    },
    {
      "cell_type": "code",
      "metadata": {
        "id": "rGuVfBPaNuxY",
        "colab_type": "code",
        "colab": {
          "base_uri": "https://localhost:8080/",
          "height": 282
        },
        "outputId": "3901589d-5525-42ff-e31b-b3c9502c1f57"
      },
      "source": [
        "plt.scatter(X_draw_PCA[:,0],X_draw_PCA[:,1],c=k) "
      ],
      "execution_count": 133,
      "outputs": [
        {
          "output_type": "execute_result",
          "data": {
            "text/plain": [
              "<matplotlib.collections.PathCollection at 0x7f975d107cf8>"
            ]
          },
          "metadata": {
            "tags": []
          },
          "execution_count": 133
        },
        {
          "output_type": "display_data",
          "data": {
            "image/png": "[encoded data removed]",
            "text/plain": [
              "<Figure size 432x288 with 1 Axes>"
            ]
          },
          "metadata": {
            "tags": [],
            "needs_background": "light"
          }
        }
      ]
    },
    {
      "cell_type": "code",
      "metadata": {
        "id": "LwNLCQrgs1Ne",
        "colab_type": "code",
        "outputId": "1ea91095-219d-4755-b1c2-d2d17362734d",
        "colab": {
          "base_uri": "https://localhost:8080/",
          "height": 34
        }
      },
      "source": [
        "from sklearn.model_selection import train_test_split\n",
        "# chia tập train, test theo tỉ lệ 8:2  \n",
        "\n",
        "(x_train,x_test, y_train, y_test) = train_test_split(x, y, test_size=0.2, random_state=43)\n",
        "y_train.shape"
      ],
      "execution_count": 138,
      "outputs": [
        {
          "output_type": "execute_result",
          "data": {
            "text/plain": [
              "(12972, 5)"
            ]
          },
          "metadata": {
            "tags": []
          },
          "execution_count": 138
        }
      ]
    },
    {
      "cell_type": "code",
      "metadata": {
        "id": "bpYWTrJ_nX0W",
        "colab_type": "code",
        "outputId": "42c17d9a-7dc3-435c-e977-006fbb491a13",
        "colab": {
          "base_uri": "https://localhost:8080/",
          "height": 105
        }
      },
      "source": [
        "print('Shape features:',\"Total document\",y_train.shape[0] + y_test.shape[0],\"- Size matrix train (size dictionary)\",x_train.shape)\n",
        "print('Train set',y_train.shape[0],'docs') \n",
        "print('Test set',y_test.shape[0],'docs') \n",
        "print(\"Shape\",x.shape,y.shape)\n",
        "SIZE_TRAIN = x_train.shape[1]\n",
        "y_test[0]\n"
      ],
      "execution_count": 139,
      "outputs": [
        {
          "output_type": "stream",
          "text": [
            "Shape features: Total document 16215 - Size matrix train (size dictionary) (12972, 4397)\n",
            "Train set 12972 docs\n",
            "Test set 3243 docs\n",
            "Shape (16215, 4397) (16215, 5)\n"
          ],
          "name": "stdout"
        },
        {
          "output_type": "execute_result",
          "data": {
            "text/plain": [
              "array([1., 0., 0., 0., 0.], dtype=float32)"
            ]
          },
          "metadata": {
            "tags": []
          },
          "execution_count": 139
        }
      ]
    },
    {
      "cell_type": "code",
      "metadata": {
        "id": "1DpULt0o5G6N",
        "colab_type": "code",
        "outputId": "13c0bda2-9866-4657-a924-bd7b3294d768",
        "colab": {
          "base_uri": "https://localhost:8080/",
          "height": 123
        }
      },
      "source": [
        "print(\"- tổng số label:\")\n",
        "# loop over each of the possible class labels and show them\n",
        "for (i, label) in enumerate(mlb.classes_):\n",
        "\tprint(\"{}. {}\".format(i + 1, label)) "
      ],
      "execution_count": 140,
      "outputs": [
        {
          "output_type": "stream",
          "text": [
            "- tổng số label:\n",
            "1. Du_lich\n",
            "2. Giao_duc\n",
            "3. Khoa_hoc\n",
            "4. Phap_luat\n",
            "5. Thoi_su\n"
          ],
          "name": "stdout"
        }
      ]
    },
    {
      "cell_type": "code",
      "metadata": {
        "id": "yphev0C34tPB",
        "colab_type": "code",
        "colab": {}
      },
      "source": [
        "from keras.models import Sequential\n",
        "from keras.layers.normalization import BatchNormalization\n",
        "from keras.layers.convolutional import Conv2D\n",
        "from keras.layers.convolutional import MaxPooling2D\n",
        "from keras.layers.core import Activation\n",
        "from keras.layers.core import Flatten\n",
        "from keras.layers.core import Dropout\n",
        "from keras.layers.core import Dense\n",
        "from keras import backend as K\n",
        "from keras.optimizers import Adam, SGD \n",
        "from keras.layers import LeakyReLU\n",
        "from sklearn.metrics import classification_report\n",
        "# from tensorflow.python.keras.layers import Dense\n",
        "# from tensorflow.python.keras import Sequential\n",
        "\n",
        "# xây dựng mạng network\n",
        "class ModelNLP(object):\n",
        "  @staticmethod\n",
        "  def build(SIZE_TRAIN,num_classes, final_activation):\n",
        "    model = Sequential()\n",
        "    model.add(Dense(500, input_shape=(SIZE_TRAIN,), activation='tanh', kernel_initializer=\"uniform\")) \n",
        "    model.add(LeakyReLU(alpha=0.3))        \n",
        "    model.add(Dropout(rate=0.2)) \n",
        "    model.add(Dense(400))      \n",
        "    model.add(LeakyReLU(alpha=0.3))  \n",
        "    model.add(Dropout(rate=0.2)) \n",
        "    model.add(Dense(300))      \n",
        "    model.add(LeakyReLU(alpha=0.3))        \n",
        "    model.add(Dropout(rate=0.2))\n",
        "    model.add(Dense(200))      \n",
        "    model.add(Dense(num_classes, activation=final_activation))\n",
        "  \n",
        "    return model\n"
      ],
      "execution_count": 0,
      "outputs": []
    },
    {
      "cell_type": "code",
      "metadata": {
        "id": "Aq7TtH4QFikt",
        "colab_type": "code",
        "colab": {}
      },
      "source": [
        ""
      ],
      "execution_count": 0,
      "outputs": []
    },
    {
      "cell_type": "code",
      "metadata": {
        "id": "iNYM4Jp0CZBh",
        "colab_type": "code",
        "outputId": "d64351b0-d96a-400c-e4f1-7043969f151e",
        "colab": {
          "base_uri": "https://localhost:8080/",
          "height": 550
        }
      },
      "source": [
        "# !pip install tensorflow==1.14\n",
        "# khởi tạo model\n",
        "EPOCHS = 20\n",
        "INIT_LR = 1e-3\n",
        "BS = 32\n",
        "\n",
        "model = ModelNLP.build(SIZE_TRAIN=SIZE_TRAIN,num_classes=len(mlb.classes_),final_activation='softmax')\n",
        "opt = Adam(lr=INIT_LR, decay=INIT_LR / EPOCHS)\n",
        "sgd = SGD(lr=0.001); \n",
        "model.compile(loss='binary_crossentropy', optimizer=sgd, metrics=['accuracy'])\n",
        "model.summary()"
      ],
      "execution_count": 149,
      "outputs": [
        {
          "output_type": "stream",
          "text": [
            "Model: \"sequential_2\"\n",
            "_________________________________________________________________\n",
            "Layer (type)                 Output Shape              Param #   \n",
            "=================================================================\n",
            "dense_6 (Dense)              (None, 500)               2199000   \n",
            "_________________________________________________________________\n",
            "leaky_re_lu_4 (LeakyReLU)    (None, 500)               0         \n",
            "_________________________________________________________________\n",
            "dropout_4 (Dropout)          (None, 500)               0         \n",
            "_________________________________________________________________\n",
            "dense_7 (Dense)              (None, 400)               200400    \n",
            "_________________________________________________________________\n",
            "leaky_re_lu_5 (LeakyReLU)    (None, 400)               0         \n",
            "_________________________________________________________________\n",
            "dropout_5 (Dropout)          (None, 400)               0         \n",
            "_________________________________________________________________\n",
            "dense_8 (Dense)              (None, 300)               120300    \n",
            "_________________________________________________________________\n",
            "leaky_re_lu_6 (LeakyReLU)    (None, 300)               0         \n",
            "_________________________________________________________________\n",
            "dropout_6 (Dropout)          (None, 300)               0         \n",
            "_________________________________________________________________\n",
            "dense_9 (Dense)              (None, 200)               60200     \n",
            "_________________________________________________________________\n",
            "dense_10 (Dense)             (None, 5)                 1005      \n",
            "=================================================================\n",
            "Total params: 2,580,905\n",
            "Trainable params: 2,580,905\n",
            "Non-trainable params: 0\n",
            "_________________________________________________________________\n"
          ],
          "name": "stdout"
        }
      ]
    },
    {
      "cell_type": "code",
      "metadata": {
        "id": "ZQqiO7ou4tSD",
        "colab_type": "code",
        "outputId": "4a2dc19d-5412-47c6-dc1e-c579462d5bc5",
        "colab": {
          "base_uri": "https://localhost:8080/",
          "height": 1000
        }
      },
      "source": [
        "# training \n",
        "H = model.fit(x_train, y_train, validation_data= (x_test,y_test),epochs=100, verbose=1)"
      ],
      "execution_count": 150,
      "outputs": [
        {
          "output_type": "stream",
          "text": [
            "Train on 12972 samples, validate on 3243 samples\n",
            "Epoch 1/100\n",
            "12972/12972 [==============================] - 2s 144us/step - loss: 0.5045 - accuracy: 0.7980 - val_loss: 0.4809 - val_accuracy: 0.8000\n",
            "Epoch 2/100\n",
            "12972/12972 [==============================] - 2s 132us/step - loss: 0.4774 - accuracy: 0.7993 - val_loss: 0.4581 - val_accuracy: 0.8007\n",
            "Epoch 3/100\n",
            "12972/12972 [==============================] - 2s 133us/step - loss: 0.4553 - accuracy: 0.8030 - val_loss: 0.4376 - val_accuracy: 0.8051\n",
            "Epoch 4/100\n",
            "12972/12972 [==============================] - 2s 130us/step - loss: 0.4361 - accuracy: 0.8082 - val_loss: 0.4175 - val_accuracy: 0.8113\n",
            "Epoch 5/100\n",
            "12972/12972 [==============================] - 2s 130us/step - loss: 0.4170 - accuracy: 0.8164 - val_loss: 0.3974 - val_accuracy: 0.8214\n",
            "Epoch 6/100\n",
            "12972/12972 [==============================] - 2s 130us/step - loss: 0.3972 - accuracy: 0.8273 - val_loss: 0.3772 - val_accuracy: 0.8327\n",
            "Epoch 7/100\n",
            "12972/12972 [==============================] - 2s 132us/step - loss: 0.3782 - accuracy: 0.8376 - val_loss: 0.3571 - val_accuracy: 0.8468\n",
            "Epoch 8/100\n",
            "12972/12972 [==============================] - 2s 129us/step - loss: 0.3578 - accuracy: 0.8499 - val_loss: 0.3373 - val_accuracy: 0.8623\n",
            "Epoch 9/100\n",
            "12972/12972 [==============================] - 2s 130us/step - loss: 0.3402 - accuracy: 0.8600 - val_loss: 0.3187 - val_accuracy: 0.8746\n",
            "Epoch 10/100\n",
            "12972/12972 [==============================] - 2s 129us/step - loss: 0.3238 - accuracy: 0.8703 - val_loss: 0.3012 - val_accuracy: 0.8834\n",
            "Epoch 11/100\n",
            "12972/12972 [==============================] - 2s 132us/step - loss: 0.3067 - accuracy: 0.8794 - val_loss: 0.2852 - val_accuracy: 0.8899\n",
            "Epoch 12/100\n",
            "12972/12972 [==============================] - 2s 132us/step - loss: 0.2908 - accuracy: 0.8854 - val_loss: 0.2704 - val_accuracy: 0.8965\n",
            "Epoch 13/100\n",
            "12972/12972 [==============================] - 2s 129us/step - loss: 0.2758 - accuracy: 0.8919 - val_loss: 0.2572 - val_accuracy: 0.9014\n",
            "Epoch 14/100\n",
            "12972/12972 [==============================] - 2s 130us/step - loss: 0.2632 - accuracy: 0.8970 - val_loss: 0.2450 - val_accuracy: 0.9053\n",
            "Epoch 15/100\n",
            "12972/12972 [==============================] - 2s 129us/step - loss: 0.2514 - accuracy: 0.9010 - val_loss: 0.2341 - val_accuracy: 0.9070\n",
            "Epoch 16/100\n",
            "12972/12972 [==============================] - 2s 129us/step - loss: 0.2414 - accuracy: 0.9052 - val_loss: 0.2243 - val_accuracy: 0.9109\n",
            "Epoch 17/100\n",
            "12972/12972 [==============================] - 2s 129us/step - loss: 0.2313 - accuracy: 0.9092 - val_loss: 0.2154 - val_accuracy: 0.9140\n",
            "Epoch 18/100\n",
            "12972/12972 [==============================] - 2s 128us/step - loss: 0.2224 - accuracy: 0.9107 - val_loss: 0.2072 - val_accuracy: 0.9163\n",
            "Epoch 19/100\n",
            "12972/12972 [==============================] - 2s 131us/step - loss: 0.2136 - accuracy: 0.9140 - val_loss: 0.1998 - val_accuracy: 0.9190\n",
            "Epoch 20/100\n",
            "12972/12972 [==============================] - 2s 131us/step - loss: 0.2079 - accuracy: 0.9161 - val_loss: 0.1931 - val_accuracy: 0.9214\n",
            "Epoch 21/100\n",
            "12972/12972 [==============================] - 2s 128us/step - loss: 0.1995 - accuracy: 0.9199 - val_loss: 0.1869 - val_accuracy: 0.9233\n",
            "Epoch 22/100\n",
            "12972/12972 [==============================] - 2s 130us/step - loss: 0.1930 - accuracy: 0.9234 - val_loss: 0.1813 - val_accuracy: 0.9270\n",
            "Epoch 23/100\n",
            "12972/12972 [==============================] - 2s 130us/step - loss: 0.1866 - accuracy: 0.9264 - val_loss: 0.1761 - val_accuracy: 0.9313\n",
            "Epoch 24/100\n",
            "12972/12972 [==============================] - 2s 129us/step - loss: 0.1816 - accuracy: 0.9300 - val_loss: 0.1713 - val_accuracy: 0.9349\n",
            "Epoch 25/100\n",
            "12972/12972 [==============================] - 2s 129us/step - loss: 0.1754 - accuracy: 0.9333 - val_loss: 0.1670 - val_accuracy: 0.9375\n",
            "Epoch 26/100\n",
            "12972/12972 [==============================] - 2s 128us/step - loss: 0.1723 - accuracy: 0.9357 - val_loss: 0.1631 - val_accuracy: 0.9401\n",
            "Epoch 27/100\n",
            "12972/12972 [==============================] - 2s 126us/step - loss: 0.1676 - accuracy: 0.9378 - val_loss: 0.1594 - val_accuracy: 0.9428\n",
            "Epoch 28/100\n",
            "12972/12972 [==============================] - 2s 129us/step - loss: 0.1630 - accuracy: 0.9405 - val_loss: 0.1560 - val_accuracy: 0.9446\n",
            "Epoch 29/100\n",
            "12972/12972 [==============================] - 2s 128us/step - loss: 0.1574 - accuracy: 0.9435 - val_loss: 0.1528 - val_accuracy: 0.9453\n",
            "Epoch 30/100\n",
            "12972/12972 [==============================] - 2s 127us/step - loss: 0.1548 - accuracy: 0.9446 - val_loss: 0.1497 - val_accuracy: 0.9467\n",
            "Epoch 31/100\n",
            "12972/12972 [==============================] - 2s 129us/step - loss: 0.1523 - accuracy: 0.9457 - val_loss: 0.1470 - val_accuracy: 0.9475\n",
            "Epoch 32/100\n",
            "12972/12972 [==============================] - 2s 127us/step - loss: 0.1471 - accuracy: 0.9480 - val_loss: 0.1446 - val_accuracy: 0.9481\n",
            "Epoch 33/100\n",
            "12972/12972 [==============================] - 2s 128us/step - loss: 0.1444 - accuracy: 0.9487 - val_loss: 0.1421 - val_accuracy: 0.9499\n",
            "Epoch 34/100\n",
            "12972/12972 [==============================] - 2s 130us/step - loss: 0.1421 - accuracy: 0.9502 - val_loss: 0.1397 - val_accuracy: 0.9504\n",
            "Epoch 35/100\n",
            "12972/12972 [==============================] - 2s 133us/step - loss: 0.1402 - accuracy: 0.9505 - val_loss: 0.1377 - val_accuracy: 0.9508\n",
            "Epoch 36/100\n",
            "12972/12972 [==============================] - 2s 130us/step - loss: 0.1371 - accuracy: 0.9516 - val_loss: 0.1358 - val_accuracy: 0.9512\n",
            "Epoch 37/100\n",
            "12972/12972 [==============================] - 2s 135us/step - loss: 0.1345 - accuracy: 0.9527 - val_loss: 0.1339 - val_accuracy: 0.9516\n",
            "Epoch 38/100\n",
            "12972/12972 [==============================] - 2s 132us/step - loss: 0.1323 - accuracy: 0.9528 - val_loss: 0.1323 - val_accuracy: 0.9518\n",
            "Epoch 39/100\n",
            "12972/12972 [==============================] - 2s 133us/step - loss: 0.1294 - accuracy: 0.9542 - val_loss: 0.1306 - val_accuracy: 0.9521\n",
            "Epoch 40/100\n",
            "12972/12972 [==============================] - 2s 133us/step - loss: 0.1281 - accuracy: 0.9542 - val_loss: 0.1291 - val_accuracy: 0.9526\n",
            "Epoch 41/100\n",
            "12972/12972 [==============================] - 2s 132us/step - loss: 0.1254 - accuracy: 0.9557 - val_loss: 0.1276 - val_accuracy: 0.9533\n",
            "Epoch 42/100\n",
            "12972/12972 [==============================] - 2s 128us/step - loss: 0.1231 - accuracy: 0.9563 - val_loss: 0.1261 - val_accuracy: 0.9539\n",
            "Epoch 43/100\n",
            "12972/12972 [==============================] - 2s 129us/step - loss: 0.1214 - accuracy: 0.9565 - val_loss: 0.1248 - val_accuracy: 0.9542\n",
            "Epoch 44/100\n",
            "12972/12972 [==============================] - 2s 128us/step - loss: 0.1191 - accuracy: 0.9576 - val_loss: 0.1236 - val_accuracy: 0.9546\n",
            "Epoch 45/100\n",
            "12972/12972 [==============================] - 2s 129us/step - loss: 0.1182 - accuracy: 0.9581 - val_loss: 0.1223 - val_accuracy: 0.9551\n",
            "Epoch 46/100\n",
            "12972/12972 [==============================] - 2s 129us/step - loss: 0.1165 - accuracy: 0.9579 - val_loss: 0.1213 - val_accuracy: 0.9551\n",
            "Epoch 47/100\n",
            "12972/12972 [==============================] - 2s 128us/step - loss: 0.1144 - accuracy: 0.9586 - val_loss: 0.1201 - val_accuracy: 0.9558\n",
            "Epoch 48/100\n",
            "12972/12972 [==============================] - 2s 128us/step - loss: 0.1130 - accuracy: 0.9595 - val_loss: 0.1191 - val_accuracy: 0.9563\n",
            "Epoch 49/100\n",
            "12972/12972 [==============================] - 2s 128us/step - loss: 0.1112 - accuracy: 0.9601 - val_loss: 0.1179 - val_accuracy: 0.9565\n",
            "Epoch 50/100\n",
            "12972/12972 [==============================] - 2s 127us/step - loss: 0.1091 - accuracy: 0.9612 - val_loss: 0.1168 - val_accuracy: 0.9571\n",
            "Epoch 51/100\n",
            "12972/12972 [==============================] - 2s 128us/step - loss: 0.1085 - accuracy: 0.9616 - val_loss: 0.1162 - val_accuracy: 0.9573\n",
            "Epoch 52/100\n",
            "12972/12972 [==============================] - 2s 129us/step - loss: 0.1073 - accuracy: 0.9618 - val_loss: 0.1151 - val_accuracy: 0.9582\n",
            "Epoch 53/100\n",
            "12972/12972 [==============================] - 2s 132us/step - loss: 0.1066 - accuracy: 0.9612 - val_loss: 0.1142 - val_accuracy: 0.9587\n",
            "Epoch 54/100\n",
            "12972/12972 [==============================] - 2s 129us/step - loss: 0.1049 - accuracy: 0.9619 - val_loss: 0.1136 - val_accuracy: 0.9588\n",
            "Epoch 55/100\n",
            "12972/12972 [==============================] - 2s 127us/step - loss: 0.1015 - accuracy: 0.9634 - val_loss: 0.1126 - val_accuracy: 0.9592\n",
            "Epoch 56/100\n",
            "12972/12972 [==============================] - 2s 129us/step - loss: 0.1003 - accuracy: 0.9639 - val_loss: 0.1119 - val_accuracy: 0.9593\n",
            "Epoch 57/100\n",
            "12972/12972 [==============================] - 2s 128us/step - loss: 0.1006 - accuracy: 0.9639 - val_loss: 0.1114 - val_accuracy: 0.9592\n",
            "Epoch 58/100\n",
            "12972/12972 [==============================] - 2s 129us/step - loss: 0.0988 - accuracy: 0.9639 - val_loss: 0.1105 - val_accuracy: 0.9596\n",
            "Epoch 59/100\n",
            "12972/12972 [==============================] - 2s 129us/step - loss: 0.0994 - accuracy: 0.9642 - val_loss: 0.1099 - val_accuracy: 0.9597\n",
            "Epoch 60/100\n",
            "12972/12972 [==============================] - 2s 131us/step - loss: 0.0964 - accuracy: 0.9643 - val_loss: 0.1091 - val_accuracy: 0.9599\n",
            "Epoch 61/100\n",
            "12972/12972 [==============================] - 2s 128us/step - loss: 0.0961 - accuracy: 0.9650 - val_loss: 0.1086 - val_accuracy: 0.9597\n",
            "Epoch 62/100\n",
            "12972/12972 [==============================] - 2s 129us/step - loss: 0.0956 - accuracy: 0.9654 - val_loss: 0.1078 - val_accuracy: 0.9598\n",
            "Epoch 63/100\n",
            "12972/12972 [==============================] - 2s 128us/step - loss: 0.0935 - accuracy: 0.9662 - val_loss: 0.1071 - val_accuracy: 0.9601\n",
            "Epoch 64/100\n",
            "12972/12972 [==============================] - 2s 128us/step - loss: 0.0933 - accuracy: 0.9665 - val_loss: 0.1066 - val_accuracy: 0.9604\n",
            "Epoch 65/100\n",
            "12972/12972 [==============================] - 2s 128us/step - loss: 0.0913 - accuracy: 0.9671 - val_loss: 0.1060 - val_accuracy: 0.9605\n",
            "Epoch 66/100\n",
            "12972/12972 [==============================] - 2s 135us/step - loss: 0.0908 - accuracy: 0.9671 - val_loss: 0.1054 - val_accuracy: 0.9608\n",
            "Epoch 67/100\n",
            "12972/12972 [==============================] - 2s 136us/step - loss: 0.0903 - accuracy: 0.9677 - val_loss: 0.1050 - val_accuracy: 0.9610\n",
            "Epoch 68/100\n",
            "12972/12972 [==============================] - 2s 136us/step - loss: 0.0882 - accuracy: 0.9682 - val_loss: 0.1044 - val_accuracy: 0.9613\n",
            "Epoch 69/100\n",
            "12972/12972 [==============================] - 2s 136us/step - loss: 0.0872 - accuracy: 0.9676 - val_loss: 0.1038 - val_accuracy: 0.9616\n",
            "Epoch 70/100\n",
            "12972/12972 [==============================] - 2s 136us/step - loss: 0.0855 - accuracy: 0.9690 - val_loss: 0.1033 - val_accuracy: 0.9620\n",
            "Epoch 71/100\n",
            "12972/12972 [==============================] - 2s 139us/step - loss: 0.0866 - accuracy: 0.9679 - val_loss: 0.1028 - val_accuracy: 0.9621\n",
            "Epoch 72/100\n",
            "12972/12972 [==============================] - 2s 133us/step - loss: 0.0862 - accuracy: 0.9689 - val_loss: 0.1023 - val_accuracy: 0.9623\n",
            "Epoch 73/100\n",
            "12972/12972 [==============================] - 2s 128us/step - loss: 0.0839 - accuracy: 0.9692 - val_loss: 0.1018 - val_accuracy: 0.9623\n",
            "Epoch 74/100\n",
            "12972/12972 [==============================] - 2s 128us/step - loss: 0.0833 - accuracy: 0.9699 - val_loss: 0.1014 - val_accuracy: 0.9624\n",
            "Epoch 75/100\n",
            "12972/12972 [==============================] - 2s 128us/step - loss: 0.0830 - accuracy: 0.9692 - val_loss: 0.1010 - val_accuracy: 0.9623\n",
            "Epoch 76/100\n",
            "12972/12972 [==============================] - 2s 127us/step - loss: 0.0812 - accuracy: 0.9706 - val_loss: 0.1008 - val_accuracy: 0.9623\n",
            "Epoch 77/100\n",
            "12972/12972 [==============================] - 2s 127us/step - loss: 0.0824 - accuracy: 0.9700 - val_loss: 0.1003 - val_accuracy: 0.9631\n",
            "Epoch 78/100\n",
            "12972/12972 [==============================] - 2s 128us/step - loss: 0.0789 - accuracy: 0.9711 - val_loss: 0.0998 - val_accuracy: 0.9634\n",
            "Epoch 79/100\n",
            "12972/12972 [==============================] - 2s 127us/step - loss: 0.0807 - accuracy: 0.9713 - val_loss: 0.0993 - val_accuracy: 0.9639\n",
            "Epoch 80/100\n",
            "12972/12972 [==============================] - 2s 127us/step - loss: 0.0781 - accuracy: 0.9716 - val_loss: 0.0988 - val_accuracy: 0.9643\n",
            "Epoch 81/100\n",
            "12972/12972 [==============================] - 2s 128us/step - loss: 0.0777 - accuracy: 0.9723 - val_loss: 0.0984 - val_accuracy: 0.9640\n",
            "Epoch 82/100\n",
            "12972/12972 [==============================] - 2s 127us/step - loss: 0.0769 - accuracy: 0.9722 - val_loss: 0.0981 - val_accuracy: 0.9645\n",
            "Epoch 83/100\n",
            "12972/12972 [==============================] - 2s 129us/step - loss: 0.0765 - accuracy: 0.9721 - val_loss: 0.0978 - val_accuracy: 0.9646\n",
            "Epoch 84/100\n",
            "12972/12972 [==============================] - 2s 129us/step - loss: 0.0753 - accuracy: 0.9724 - val_loss: 0.0976 - val_accuracy: 0.9647\n",
            "Epoch 85/100\n",
            "12972/12972 [==============================] - 2s 128us/step - loss: 0.0744 - accuracy: 0.9734 - val_loss: 0.0971 - val_accuracy: 0.9650\n",
            "Epoch 86/100\n",
            "12972/12972 [==============================] - 2s 129us/step - loss: 0.0747 - accuracy: 0.9725 - val_loss: 0.0967 - val_accuracy: 0.9650\n",
            "Epoch 87/100\n",
            "12972/12972 [==============================] - 2s 131us/step - loss: 0.0730 - accuracy: 0.9734 - val_loss: 0.0963 - val_accuracy: 0.9650\n",
            "Epoch 88/100\n",
            "12972/12972 [==============================] - 2s 131us/step - loss: 0.0732 - accuracy: 0.9737 - val_loss: 0.0960 - val_accuracy: 0.9651\n",
            "Epoch 89/100\n",
            "12972/12972 [==============================] - 2s 132us/step - loss: 0.0723 - accuracy: 0.9739 - val_loss: 0.0958 - val_accuracy: 0.9653\n",
            "Epoch 90/100\n",
            "12972/12972 [==============================] - 2s 128us/step - loss: 0.0732 - accuracy: 0.9728 - val_loss: 0.0953 - val_accuracy: 0.9654\n",
            "Epoch 91/100\n",
            "12972/12972 [==============================] - 2s 130us/step - loss: 0.0705 - accuracy: 0.9738 - val_loss: 0.0951 - val_accuracy: 0.9660\n",
            "Epoch 92/100\n",
            "12972/12972 [==============================] - 2s 132us/step - loss: 0.0708 - accuracy: 0.9737 - val_loss: 0.0946 - val_accuracy: 0.9662\n",
            "Epoch 93/100\n",
            "12972/12972 [==============================] - 2s 129us/step - loss: 0.0698 - accuracy: 0.9744 - val_loss: 0.0945 - val_accuracy: 0.9657\n",
            "Epoch 94/100\n",
            "12972/12972 [==============================] - 2s 129us/step - loss: 0.0693 - accuracy: 0.9751 - val_loss: 0.0941 - val_accuracy: 0.9658\n",
            "Epoch 95/100\n",
            "12972/12972 [==============================] - 2s 129us/step - loss: 0.0688 - accuracy: 0.9749 - val_loss: 0.0938 - val_accuracy: 0.9661\n",
            "Epoch 96/100\n",
            "12972/12972 [==============================] - 2s 125us/step - loss: 0.0678 - accuracy: 0.9750 - val_loss: 0.0936 - val_accuracy: 0.9663\n",
            "Epoch 97/100\n",
            "12972/12972 [==============================] - 2s 127us/step - loss: 0.0683 - accuracy: 0.9745 - val_loss: 0.0932 - val_accuracy: 0.9663\n",
            "Epoch 98/100\n",
            "12972/12972 [==============================] - 2s 126us/step - loss: 0.0669 - accuracy: 0.9763 - val_loss: 0.0930 - val_accuracy: 0.9669\n",
            "Epoch 99/100\n",
            "12972/12972 [==============================] - 2s 129us/step - loss: 0.0664 - accuracy: 0.9756 - val_loss: 0.0928 - val_accuracy: 0.9669\n",
            "Epoch 100/100\n",
            "12972/12972 [==============================] - 2s 128us/step - loss: 0.0659 - accuracy: 0.9759 - val_loss: 0.0925 - val_accuracy: 0.9674\n"
          ],
          "name": "stdout"
        }
      ]
    },
    {
      "cell_type": "code",
      "metadata": {
        "id": "aLqeo-Rj4tUt",
        "colab_type": "code",
        "outputId": "27e5d7d2-ab51-40ca-e01f-2c2fdcd24ce9",
        "colab": {
          "base_uri": "https://localhost:8080/",
          "height": 34
        }
      },
      "source": [
        "# evaluate \n",
        "loss, acc = model.evaluate(x_test, y_test, verbose=0)\n",
        "print('Test Accuracy: %f' % (acc*100)) "
      ],
      "execution_count": 151,
      "outputs": [
        {
          "output_type": "stream",
          "text": [
            "Test Accuracy: 96.737593\n"
          ],
          "name": "stdout"
        }
      ]
    },
    {
      "cell_type": "code",
      "metadata": {
        "id": "CdHTyVkK_xFy",
        "colab_type": "code",
        "colab": {}
      },
      "source": [
        "LABEL_ENCODE_PATH=\"/content/drive/My Drive/ML_CUONG/NLP/model/mlb.pkl\"\n",
        "ESTIMATE_PATH=\"/content/drive/My Drive/ML_CUONG/NLP/model/estimator.h5\"\n",
        "FileStore(file_path=LABEL_ENCODE_PATH).save_pickle(obj=mlb)\n",
        "FileStore(file_path=ESTIMATE_PATH).save_pickle(obj=model)\n",
        "\n",
        "from keras.models import save_model, load_model\n",
        "\n",
        "# Creates a HDF5 file 'ESTIMATE_PATH.h5' \n",
        "save_model(model, ESTIMATE_PATH)"
      ],
      "execution_count": 0,
      "outputs": []
    },
    {
      "cell_type": "code",
      "metadata": {
        "id": "Mq_MZ4NtVSR5",
        "colab_type": "code",
        "outputId": "e2cea117-4f6a-4c73-f217-96d9b3ec7620",
        "colab": {
          "base_uri": "https://localhost:8080/",
          "height": 312
        }
      },
      "source": [
        "import matplotlib.pyplot as plt\n",
        "# plt.plot(hist.history[\"acc\"])\n",
        "# plt.plot(hist.history['val_acc'])\n",
        "plt.figure()\n",
        "plt.plot(H.history['loss'])\n",
        "plt.plot(H.history['val_loss'])\n",
        "plt.title(\"model loss\")\n",
        "plt.ylabel(\"Loss\")\n",
        "plt.xlabel(\"Epoch\")\n",
        "plt.legend([\"Loss\",\"Validation Loss\"])\n",
        "plt.show()\n",
        "plt.savefig('chart loss.png')"
      ],
      "execution_count": 153,
      "outputs": [
        {
          "output_type": "display_data",
          "data": {
            "image/png": "[encoded data removed]",
            "text/plain": [
              "<Figure size 432x288 with 1 Axes>"
            ]
          },
          "metadata": {
            "tags": [],
            "needs_background": "light"
          }
        },
        {
          "output_type": "display_data",
          "data": {
            "text/plain": [
              "<Figure size 432x288 with 0 Axes>"
            ]
          },
          "metadata": {
            "tags": []
          }
        }
      ]
    },
    {
      "cell_type": "code",
      "metadata": {
        "id": "NLVvF1Nl4tXV",
        "colab_type": "code",
        "outputId": "56f9b797-c945-4923-e948-a0edf60a744e",
        "colab": {
          "base_uri": "https://localhost:8080/",
          "height": 158
        }
      },
      "source": [
        "# print(x_test.shape)\n",
        "print(\"[INFO] classifying...\")\n",
        "# print(x_test[221].shape)\n",
        "# print(y_test[221])\n",
        "proba = model.predict(x_test)[221]\n",
        "print(proba)\n",
        "idxs = np.argsort(proba)[::-1] \n",
        "# loop over the indexes of the high confidence class labels\n",
        " \n",
        "for (i, j) in enumerate(idxs):\n",
        "\t# build the label and draw the label on the image\n",
        "\tlabel = \"{}: {:.2f}%\".format(mlb.classes_[j], proba[j] * 100) \n",
        "\n",
        "# show the probabilities for each of the individual labels\n",
        "for (label, p) in zip(mlb.classes_, proba): \n",
        "\tprint(\"{}: {:.2f}%\".format(label, p * 100, p))\n",
        " "
      ],
      "execution_count": 154,
      "outputs": [
        {
          "output_type": "stream",
          "text": [
            "[INFO] classifying...\n",
            "[5.29506178e-06 1.07348395e-04 6.59088244e-07 9.87287045e-01\n",
            " 1.25996126e-02]\n",
            "Du_lich: 0.00%\n",
            "Giao_duc: 0.01%\n",
            "Khoa_hoc: 0.00%\n",
            "Phap_luat: 98.73%\n",
            "Thoi_su: 1.26%\n"
          ],
          "name": "stdout"
        }
      ]
    },
    {
      "cell_type": "code",
      "metadata": {
        "id": "LRBe-xBomzd-",
        "colab_type": "code",
        "colab": {}
      },
      "source": [
        ""
      ],
      "execution_count": 0,
      "outputs": []
    },
    {
      "cell_type": "code",
      "metadata": {
        "id": "WCeOAiMjmzjC",
        "colab_type": "code",
        "colab": {}
      },
      "source": [
        ""
      ],
      "execution_count": 0,
      "outputs": []
    },
    {
      "cell_type": "code",
      "metadata": {
        "id": "QDIUHc4Rmzoi",
        "colab_type": "code",
        "outputId": "51d9256c-db13-479a-df2f-2acde1b6b655",
        "colab": {
          "base_uri": "https://localhost:8080/",
          "height": 34
        }
      },
      "source": [
        ""
      ],
      "execution_count": 0,
      "outputs": [
        {
          "output_type": "execute_result",
          "data": {
            "text/plain": [
              "(12972,)"
            ]
          },
          "metadata": {
            "tags": []
          },
          "execution_count": 15
        }
      ]
    },
    {
      "cell_type": "code",
      "metadata": {
        "id": "92i-PQr2NtKQ",
        "colab_type": "code",
        "colab": {}
      },
      "source": [
        ""
      ],
      "execution_count": 0,
      "outputs": []
    },
    {
      "cell_type": "markdown",
      "metadata": {
        "id": "mCCNvTMWNtiv",
        "colab_type": "text"
      },
      "source": [
        " TF-IDF LINEAR SVC "
      ]
    },
    {
      "cell_type": "code",
      "metadata": {
        "id": "NZwPXaSWODuG",
        "colab_type": "code",
        "colab": {}
      },
      "source": [
        "from sklearn.model_selection import train_test_split \n",
        "from sklearn.feature_extraction.text import CountVectorizer, TfidfVectorizer\n",
        "from sklearn.model_selection import GridSearchCV\n",
        "from sklearn.pipeline import Pipeline\n",
        "from sklearn.svm import LinearSVC\n",
        "import time \n",
        "from sklearn import metrics\n",
        "from sklearn import svm \n",
        "from sklearn.svm import SVC"
      ],
      "execution_count": 0,
      "outputs": []
    },
    {
      "cell_type": "code",
      "metadata": {
        "id": "bKuhr7BxN99n",
        "colab_type": "code",
        "outputId": "bd9efa83-3616-4817-b1b5-60cd09e56eec",
        "colab": {
          "base_uri": "https://localhost:8080/",
          "height": 34
        }
      },
      "source": [
        "# đọc file train\n",
        "train_loader = FileReader(file_path=DATA_TRAIN_JSON) \n",
        "data_train = train_loader.read_json()\n",
        "print('Total data train: %d' %len(data_train))"
      ],
      "execution_count": 31,
      "outputs": [
        {
          "output_type": "stream",
          "text": [
            "Total data train: 16215\n"
          ],
          "name": "stdout"
        }
      ]
    },
    {
      "cell_type": "code",
      "metadata": {
        "id": "KY2kTgXsmzmg",
        "colab_type": "code",
        "colab": {}
      },
      "source": [
        "X, y = [], []\n",
        "for item in data_train:\n",
        "  X.append(item['content'])\n",
        "  y.append(item['category'])\n",
        "\n",
        "file_sw = FileReader(STOP_WORDS).read_stopwords()\n",
        "# [word for word in split_words if word.encode('utf-8') not in self.stopwords] \n",
        "stop_word = [char for char in SPECIAL_CHARACTER]\n",
        "for item in file_sw:\n",
        "  words = item.split('_')\n",
        "  if len(words) > 1:\n",
        "    stop_word.extend(words)\n",
        "  else:\n",
        "    stop_word.append(item)\n",
        "vectorizer = TfidfVectorizer(stop_words=stop_word)\n",
        "X_train = vectorizer.fit_transform(X) "
      ],
      "execution_count": 0,
      "outputs": []
    },
    {
      "cell_type": "code",
      "metadata": {
        "id": "azTXKizVmzhA",
        "colab_type": "code",
        "colab": {}
      },
      "source": [
        "(x_train,x_test, y_train, y_test) = train_test_split(X_train, np.array(y), test_size=0.2, random_state=42)"
      ],
      "execution_count": 0,
      "outputs": []
    },
    {
      "cell_type": "code",
      "metadata": {
        "id": "BjjiRgRwTyk8",
        "colab_type": "code",
        "outputId": "17f64511-22f2-450e-8b12-0de6654a8702",
        "colab": {
          "base_uri": "https://localhost:8080/",
          "height": 87
        }
      },
      "source": [
        "print('Shape features:',\"Total document\",y_train.shape[0] + y_test.shape[0],\"- Size matrix train (size dictionary)\",x_train.shape)\n",
        "print('Train set',y_train.shape[0],'docs') \n",
        "print('Test set',y_test.shape[0],'docs') \n",
        "print(\"Shape\",x_train.shape,x_test.shape)\n",
        "SIZE_TRAIN = x_train.shape[1] "
      ],
      "execution_count": 34,
      "outputs": [
        {
          "output_type": "stream",
          "text": [
            "Shape features: Total document 16215 - Size matrix train (size dictionary) (12972, 31422)\n",
            "Train set 12972 docs\n",
            "Test set 3243 docs\n",
            "Shape (12972, 31422) (3243, 31422)\n"
          ],
          "name": "stdout"
        }
      ]
    },
    {
      "cell_type": "code",
      "metadata": {
        "id": "jHDYFvrvxHH1",
        "colab_type": "code",
        "outputId": "60ab5146-d37e-45ed-ba9e-8aa73ad552f2",
        "colab": {
          "base_uri": "https://localhost:8080/",
          "height": 87
        }
      },
      "source": [
        "# ví dụ về sử dụng Linear SVC\n",
        "svm_classifier = LinearSVC(random_state=42, tol=1e-5)\n",
        "svm_classifier.fit(X=x_train,y=y_train)\n"
      ],
      "execution_count": 35,
      "outputs": [
        {
          "output_type": "execute_result",
          "data": {
            "text/plain": [
              "LinearSVC(C=1.0, class_weight=None, dual=True, fit_intercept=True,\n",
              "          intercept_scaling=1, loss='squared_hinge', max_iter=1000,\n",
              "          multi_class='ovr', penalty='l2', random_state=42, tol=1e-05,\n",
              "          verbose=0)"
            ]
          },
          "metadata": {
            "tags": []
          },
          "execution_count": 35
        }
      ]
    },
    {
      "cell_type": "code",
      "metadata": {
        "id": "YFGfFqgOnKdY",
        "colab_type": "code",
        "outputId": "e293cc31-7ae1-487c-dfe2-9ddfe64c580e",
        "colab": {
          "base_uri": "https://localhost:8080/",
          "height": 301
        }
      },
      "source": [
        "from sklearn.metrics import classification_report\n",
        "# predict\n",
        "y_pred_svm = svm_classifier.predict(x_test)\n",
        "print('predict:\\n',y_pred_svm)\n",
        "print(classification_report(y_test,y_pred_svm))\n",
        "\n",
        "# tính accuracy \n",
        "acc_score_svm = metrics.accuracy_score(y_pred_svm,y_test) \n",
        "print('accuracy:\\n',acc_score_svm) "
      ],
      "execution_count": 36,
      "outputs": [
        {
          "output_type": "stream",
          "text": [
            "predict:\n",
            " ['Phap_luat' 'Khoa_hoc' 'Du_lich' ... 'Du_lich' 'Phap_luat' 'Du_lich']\n",
            "              precision    recall  f1-score   support\n",
            "\n",
            "     Du_lich       0.92      0.93      0.92       537\n",
            "    Giao_duc       0.92      0.85      0.88       480\n",
            "    Khoa_hoc       0.94      0.98      0.96       966\n",
            "   Phap_luat       0.94      0.96      0.95       960\n",
            "     Thoi_su       0.87      0.81      0.84       300\n",
            "\n",
            "    accuracy                           0.93      3243\n",
            "   macro avg       0.92      0.90      0.91      3243\n",
            "weighted avg       0.93      0.93      0.93      3243\n",
            "\n",
            "accuracy:\n",
            " 0.9290780141843972\n"
          ],
          "name": "stdout"
        }
      ]
    },
    {
      "cell_type": "code",
      "metadata": {
        "id": "2f7VN6g2nKnv",
        "colab_type": "code",
        "colab": {}
      },
      "source": [
        ""
      ],
      "execution_count": 0,
      "outputs": []
    },
    {
      "cell_type": "markdown",
      "metadata": {
        "id": "oyu8IUxDN3WT",
        "colab_type": "text"
      },
      "source": [
        " COUNT LINEAR SVC "
      ]
    },
    {
      "cell_type": "code",
      "metadata": {
        "id": "G3Db8QDtN6rd",
        "colab_type": "code",
        "colab": {}
      },
      "source": [
        "from sklearn.model_selection import train_test_split \n",
        "from sklearn.feature_extraction.text import CountVectorizer\n",
        "from sklearn.svm import LinearSVC\n",
        "import time \n",
        "from sklearn import metrics\n",
        "from sklearn import svm "
      ],
      "execution_count": 0,
      "outputs": []
    },
    {
      "cell_type": "code",
      "metadata": {
        "id": "hYL4so5wN6fz",
        "colab_type": "code",
        "outputId": "858dd1ff-f4b7-49aa-8f86-70491ebf1074",
        "colab": {
          "base_uri": "https://localhost:8080/",
          "height": 34
        }
      },
      "source": [
        "# đọc file train\n",
        "train_loader = FileReader(file_path=DATA_TRAIN_JSON) \n",
        "data_train = train_loader.read_json()\n",
        "print('Total data train: %d' %len(data_train))\n"
      ],
      "execution_count": 52,
      "outputs": [
        {
          "output_type": "stream",
          "text": [
            "Total data train: 16215\n"
          ],
          "name": "stdout"
        }
      ]
    },
    {
      "cell_type": "code",
      "metadata": {
        "id": "o1BO0x_nN6pv",
        "colab_type": "code",
        "colab": {}
      },
      "source": [
        "\n",
        "X, y = [], []\n",
        "for item in data_train:\n",
        "  X.append(item['content'])\n",
        "  y.append(item['category'])\n",
        "\n",
        "file_sw = FileReader(STOP_WORDS).read_stopwords()\n",
        "# [word for word in split_words if word.encode('utf-8') not in self.stopwords] \n",
        "stop_word = [char for char in SPECIAL_CHARACTER]\n",
        "for item in file_sw:\n",
        "  words = item.split('_')\n",
        "  if len(words) > 1:\n",
        "    stop_word.extend(words)\n",
        "  else:\n",
        "    stop_word.append(item)  \n",
        "vectorizer = CountVectorizer()\n",
        "X_train = vectorizer.fit_transform(X)"
      ],
      "execution_count": 0,
      "outputs": []
    },
    {
      "cell_type": "code",
      "metadata": {
        "id": "Yho3_0jYN6nX",
        "colab_type": "code",
        "colab": {}
      },
      "source": [
        "(x_train,x_test, y_train, y_test) = train_test_split(X_train, np.array(y), test_size=0.2, random_state=42)"
      ],
      "execution_count": 0,
      "outputs": []
    },
    {
      "cell_type": "code",
      "metadata": {
        "id": "cQtusZ03N6lR",
        "colab_type": "code",
        "outputId": "6065c6b5-b97c-4e90-c286-f5fb3401f3ab",
        "colab": {
          "base_uri": "https://localhost:8080/",
          "height": 123
        }
      },
      "source": [
        "# ví dụ về sử dụng Linear SVC\n",
        "svm_classifier = svm.LinearSVC(random_state=42, tol=1e-5)\n",
        "svm_classifier.fit(X=x_train,y=y_train)\n"
      ],
      "execution_count": 41,
      "outputs": [
        {
          "output_type": "stream",
          "text": [
            "/usr/local/lib/python3.6/dist-packages/sklearn/svm/_base.py:947: ConvergenceWarning: Liblinear failed to converge, increase the number of iterations.\n",
            "  \"the number of iterations.\", ConvergenceWarning)\n"
          ],
          "name": "stderr"
        },
        {
          "output_type": "execute_result",
          "data": {
            "text/plain": [
              "LinearSVC(C=1.0, class_weight=None, dual=True, fit_intercept=True,\n",
              "          intercept_scaling=1, loss='squared_hinge', max_iter=1000,\n",
              "          multi_class='ovr', penalty='l2', random_state=42, tol=1e-05,\n",
              "          verbose=0)"
            ]
          },
          "metadata": {
            "tags": []
          },
          "execution_count": 41
        }
      ]
    },
    {
      "cell_type": "code",
      "metadata": {
        "id": "9OaD0aNJN6i4",
        "colab_type": "code",
        "outputId": "eb2b8f39-c618-4625-d689-1dfc0949c9d6",
        "colab": {
          "base_uri": "https://localhost:8080/",
          "height": 301
        }
      },
      "source": [
        "from sklearn.metrics import classification_report\n",
        "# predict\n",
        "y_pred_svm = svm_classifier.predict(x_test)\n",
        "print('predict:\\n',y_pred_svm)\n",
        "print(classification_report(y_test,y_pred_svm))\n",
        "\n",
        "# tính accuracy \n",
        "acc_score_svm = metrics.accuracy_score(y_pred_svm,y_test) \n",
        "print('accuracy:\\n',acc_score_svm) "
      ],
      "execution_count": 42,
      "outputs": [
        {
          "output_type": "stream",
          "text": [
            "predict:\n",
            " ['Phap_luat' 'Khoa_hoc' 'Du_lich' ... 'Du_lich' 'Phap_luat' 'Du_lich']\n",
            "              precision    recall  f1-score   support\n",
            "\n",
            "     Du_lich       0.92      0.92      0.92       537\n",
            "    Giao_duc       0.92      0.89      0.91       480\n",
            "    Khoa_hoc       0.96      0.97      0.96       966\n",
            "   Phap_luat       0.94      0.95      0.95       960\n",
            "     Thoi_su       0.81      0.80      0.80       300\n",
            "\n",
            "    accuracy                           0.93      3243\n",
            "   macro avg       0.91      0.91      0.91      3243\n",
            "weighted avg       0.93      0.93      0.93      3243\n",
            "\n",
            "accuracy:\n",
            " 0.9284613012642615\n"
          ],
          "name": "stdout"
        }
      ]
    },
    {
      "cell_type": "code",
      "metadata": {
        "id": "SD5mwinWN6dd",
        "colab_type": "code",
        "colab": {}
      },
      "source": [
        ""
      ],
      "execution_count": 0,
      "outputs": []
    },
    {
      "cell_type": "code",
      "metadata": {
        "id": "QAHFcrymN6bY",
        "colab_type": "code",
        "colab": {}
      },
      "source": [
        ""
      ],
      "execution_count": 0,
      "outputs": []
    },
    {
      "cell_type": "code",
      "metadata": {
        "id": "ovCtEGWcN6ZM",
        "colab_type": "code",
        "colab": {}
      },
      "source": [
        ""
      ],
      "execution_count": 0,
      "outputs": []
    },
    {
      "cell_type": "markdown",
      "metadata": {
        "id": "SziY5gEi0wQ2",
        "colab_type": "text"
      },
      "source": [
        "TRAIN COUNT - TF-IDF LINEAR SVC "
      ]
    },
    {
      "cell_type": "code",
      "metadata": {
        "id": "U5pYLTYlGCaq",
        "colab_type": "code",
        "outputId": "36ba1864-6d9b-4028-be5d-657994e8abfb",
        "colab": {
          "base_uri": "https://localhost:8080/",
          "height": 34
        }
      },
      "source": [
        "# đọc file train\n",
        "train_loader = FileReader(file_path=DATA_TRAIN_JSON) \n",
        "data_train = train_loader.read_json()\n",
        "print('Total data train: %d' %len(data_train))\n"
      ],
      "execution_count": 43,
      "outputs": [
        {
          "output_type": "stream",
          "text": [
            "Total data train: 16215\n"
          ],
          "name": "stdout"
        }
      ]
    },
    {
      "cell_type": "code",
      "metadata": {
        "id": "SsX1WxELGCf_",
        "colab_type": "code",
        "outputId": "0ee761d9-6052-449f-f53e-ae7388bf71ad",
        "colab": {
          "base_uri": "https://localhost:8080/",
          "height": 90
        }
      },
      "source": [
        "print(data_train[10])\n",
        "print(data_train[3000])\n",
        "print(data_train[12000]) "
      ],
      "execution_count": 44,
      "outputs": [
        {
          "output_type": "stream",
          "text": [
            "{'category': 'Du_lich', 'content': 'Chính phủ đề xuất tiếp tục cấp visa điện tử thêm hai năm\\n\\nSáng 5/11,\\xa0\\n\\xa0từ tháng 2/2017 đến tháng 10/2018, Bộ Công an đã cấp 336.932 thị thực điện tử. \\nĐể bảo đảm hoạt động cấp thị thực điện tử cho người nước ngoài nhập cảnh Việt Nam không bị gián đoạn, không ảnh hưởng đến đối ngoại, Chính phủ kiến nghị Quốc hội cho phép kéo dài thời gian thực hiện thí điểm thêm 2 năm, kể từ ngày 1/2/2019.\\xa0\\nBộ trưởng Bộ Công an khẳng định, trong hai năm qua, chưa phát hiện người nước ngoài nhập cảnh bằng thị thực điện tử có hoạt động xâm phạm an ninh, quốc gia hoặc có vấn đề phức tạp về an ninh trật tự.\\nKiến nghị trên được các đại biểu Quốc hội tán thành và Ủy ban Quốc phòng và An ninh (thuộc Quốc hội) nhất trí. Phó chủ tịch Quốc hội Đỗ Bá Tỵ cho biết, nội dung cho phép kéo dài thí điểm sẽ được quy định trong nghị quyết chung của kỳ họp thứ 6.\\nViệt Nam đang thí điểm cấp visa điện tử cho công dân của 46 nước. Người nước ngoài được cấp thị thực điện tử có thể nhập cảnh tại 28 cửa khẩu quốc tế gồm 8 cửa khẩu đường không, 13 cửa khẩu đường bộ, 7 cửa khẩu đường biển.\\nCấp thị thực điện tử cho người nước ngoài nhập cảnh Việt Nam là chính sách mới, thể hiện quyết tâm cải cách thủ tục hành chính của Chính phủ giai đoạn 2016 - 2020.\\nViệc cấp visa điện tử là một bước đi đột phá giúp giảm bớt phiền hà cho du khách trong quá trình xin visa, được các chuyên gia đánh giá là một yếu tố thu hút khách du lịch nước ngoài tới Việt Nam.\\nSau gần hai năm thí điểm, việc cấp thị thực điện tử cho khách nước ngoài vào Việt Nam sẽ hết hạn vào 31/1/2019 theo\\xa0\\n'}\n",
            "{'category': 'Phap_luat', 'content': 'Chồng rạch mặt, cắt gân chân vợ trong cơn cuồng ghen\\n\\n\\nTheo cảnh sát, Vương và chị Vũ từng có gia đình riêng. Năm 2016, hai người\\xa0\\n\\n\\nKhoảng 17h30 ngày 10/7, Vương khống chế rồi lấy dao rạch mặt và làm đứt gân chân chị Vũ sau đó bỏ trốn khỏi hiện trường.\\nQua giám định, người vợ bị tổn thương 20% sức khỏe nhưng nạn nhân không đồng tình kết luận này và đề nghị giám định lại.'}\n",
            "{'category': 'Khoa_hoc', 'content': 'Hòn đảo bị đại dương \\'nuốt chửng\\' ngoài khơi Pakistan\\n\\nNhững bức ảnh của NASA hé lộ hòn đảo mang tên Earthquake Mountain hay còn gọi là Zalzala Koh đã bị đại dương \"nuốt chửng\" chưa đầy 7 năm sau khi hình thành bởi một trận động đất mạnh ở Pakistan. Ảnh tổng hợp trong 6 năm qua của hòn đảo sinh ra bởi núi lửa bùn được chụp qua nhiều giai đoạn khác nhau trước khi Earthquake Mountain chìm nghỉm dưới nước biển.\\nLúc đầu, Earthquake Mountain cao 20 m, rộng 90 m và dài 40 m, khiến các chuyên gia cho rằng hòn đảo sẽ không tồn tại lâu và cuối cùng dự đoán này đã được chứng minh. \"Hiện nay, Earthquake Mountain có thể nằm khuất tầm mắt nhưng điều đó không có nghĩa là nó đã biến mất hoàn toàn. Năm 2019, dấu vết của hòn đảo vẫn còn lưu lại trong ảnh vệ tinh Landsat. Vào tháng 6/2019, Landsat quan sát vệt trầm tích bao quanh chân hòn đảo chìm dưới nước\", NASA cho biết.\\nTheo NASA, những núi lửa bùn dọc vùng ven biển Pakistan là kết quả từ sự dịch chuyển của các mảng kiến tạo Trái Đất trong khu vực, đáng chú ý là mảng kiến tạo Arab chìm dưới mảng kiến tạo Á Âu vài centimet mỗi năm. Điều đó khiến trầm tích mềm đi dồn lên mảng kiến tạo Á Âu, hình thành núi lửa bùn trong quá trình đá nóng chảy trở thành magma và khí gas nóng phun ra ngoài.\\nEarthquake Mountain không phải đảo núi lửa bùn duy nhất hình thành và biến mất trong khu vực. Một đảo khác tương tự tên Malan cũng mọc lên và bị xói mòn 4 lần trong thế kỷ qua, vào các năm 1945, 1999, 2010 và 2013.\\n (Theo )'}\n"
          ],
          "name": "stdout"
        }
      ]
    },
    {
      "cell_type": "code",
      "metadata": {
        "id": "EBSZpQKjGCjc",
        "colab_type": "code",
        "colab": {}
      },
      "source": [
        "X, y = [], []\n",
        "for item in data_train:\n",
        "  X.append(item['content'])\n",
        "  y.append(item['category'])"
      ],
      "execution_count": 0,
      "outputs": []
    },
    {
      "cell_type": "code",
      "metadata": {
        "id": "WNk1ghubGCdy",
        "colab_type": "code",
        "colab": {}
      },
      "source": [
        "from sklearn.model_selection import train_test_split\n",
        "# chia tập train, test theo tỉ lệ 8:2\n",
        "# load data hơi lâu nên để hai biến giữ lại data ban dầu \n",
        "# a, b = np.array(features_train),np.array(labels_train) \n",
        "x_arr, y_arr = np.array(X),np.array(y)\n",
        " \n",
        "(x_train,x_test, y_train, y_test) = train_test_split(x_arr, y_arr, test_size=0.2, random_state=42) "
      ],
      "execution_count": 0,
      "outputs": []
    },
    {
      "cell_type": "code",
      "metadata": {
        "id": "Ev9GW4NU4tbx",
        "colab_type": "code",
        "colab": {}
      },
      "source": [
        "\n",
        "from sklearn.feature_extraction.text import CountVectorizer, TfidfVectorizer\n",
        "from sklearn.model_selection import GridSearchCV\n",
        "from sklearn.pipeline import Pipeline\n",
        "from sklearn.svm import LinearSVC\n",
        "import time\n",
        "def grid_search(pipeline, X_train, y_train, X_test, y_test): \n",
        "    target_names = list(set([i[0] for i in y_train]))\n",
        "    print(\"%d documents (training set)\" % len(X_train))\n",
        "    print(\"%d documents (test set)\" % len(X_test))\n",
        "    print(\"%d categories\" % len(target_names))\n",
        "    print()\n",
        "\n",
        "    gridsearch = GridSearchCV(pipeline, parameters, cv=2,\n",
        "                              n_jobs=-1, verbose=1)  \n",
        "    print(\"Performing grid search...\")\n",
        "    print(\"pipeline:\", [name for name, _ in pipeline.steps])\n",
        "    print(\"parameters:\")\n",
        "    print(parameters)\n",
        "    t0 = time.time()\n",
        "    gridsearch.fit(X_train, y_train)\n",
        "    print(\"done in %0.3fs\" % (time.time() - t0))\n",
        "    print(\"Best dev score: %0.3f\" % gridsearch.best_score_)\n",
        "    print(\"Best parameters set:\")\n",
        "    best_parameters = gridsearch.best_estimator_.get_params()\n",
        "    for param_name in sorted(parameters.keys()):\n",
        "        print(\"\\t%s: %r\" % (param_name, best_parameters[param_name]))\n",
        "    print(\"Best test score: %0.3f\" % gridsearch.score(X_test, y_test))\n",
        "\n",
        "\n",
        "if __name__ == '__main__':\n",
        "    print(\"Loading from dataset\")\n",
        "\n",
        "    pipeline_tfidf = Pipeline([\n",
        "        (\"vect\", TfidfVectorizer()),\n",
        "        (\"clf\", LinearSVC()),\n",
        "    ])\n",
        "    pipeline_count = Pipeline([\n",
        "        (\"vect\", CountVectorizer()),\n",
        "        (\"clf\", LinearSVC()),\n",
        "    ])\n",
        "    parameters = {\n",
        "        'vect__max_df': (0.5, 0.6, 0.7, 0.8),\n",
        "        'vect__ngram_range': ((1, 2), (1, 3)),\n",
        "    }\n",
        "\n",
        "    # if args.trans == \"tfidf\":\n",
        "    grid_search(pipeline_tfidf, x_train, y_train, x_test, y_test)\n",
        "\n",
        "    # # if args.trans == \"count\":\n",
        "    # grid_search(pipeline_count, x_train, y_train, x_test, y_test)"
      ],
      "execution_count": 0,
      "outputs": []
    },
    {
      "cell_type": "code",
      "metadata": {
        "id": "KBbiloO9G0bO",
        "colab_type": "code",
        "colab": {}
      },
      "source": [
        ""
      ],
      "execution_count": 0,
      "outputs": []
    },
    {
      "cell_type": "code",
      "metadata": {
        "id": "P8kE74KnG0h3",
        "colab_type": "code",
        "colab": {}
      },
      "source": [
        ""
      ],
      "execution_count": 0,
      "outputs": []
    },
    {
      "cell_type": "code",
      "metadata": {
        "id": "Zrfph-klG0fX",
        "colab_type": "code",
        "colab": {}
      },
      "source": [
        ""
      ],
      "execution_count": 0,
      "outputs": []
    },
    {
      "cell_type": "code",
      "metadata": {
        "id": "3ZFcvnhlG0YF",
        "colab_type": "code",
        "colab": {}
      },
      "source": [
        ""
      ],
      "execution_count": 0,
      "outputs": []
    },
    {
      "cell_type": "markdown",
      "metadata": {
        "id": "efId2PhrG1Rn",
        "colab_type": "text"
      },
      "source": [
        "Visualization\n"
      ]
    },
    {
      "cell_type": "code",
      "metadata": {
        "id": "FtYtW40nG0VZ",
        "colab_type": "code",
        "colab": {
          "base_uri": "https://localhost:8080/",
          "height": 34
        },
        "outputId": "36a0039d-7b97-40ef-8744-407664712a77"
      },
      "source": [
        "import random\n",
        "# đọc file train\n",
        "train_loader = FileReader(file_path=DATA_TRAIN_JSON) \n",
        "data_train = train_loader.read_json()\n",
        "print('Total data train: %d' %len(data_train))\n",
        "\n",
        "random.shuffle(data_train)\n",
        "\n",
        "\n",
        "X, y = [], []\n",
        "for item in data_train:\n",
        "  X.append(item['content'])\n",
        "  y.append(item['category'])\n",
        "\n",
        "file_sw = FileReader(STOP_WORDS).read_stopwords()\n",
        "# [word for word in split_words if word.encode('utf-8') not in self.stopwords] \n",
        "stop_word = [char for char in SPECIAL_CHARACTER]\n",
        "for item in file_sw:\n",
        "  words = item.split('_')\n",
        "  if len(words) > 1:\n",
        "    stop_word.extend(words)\n",
        "  else:\n",
        "    stop_word.append(item)  \n",
        "vectorizer = CountVectorizer()\n",
        "X_train = vectorizer.fit_transform(X)\n",
        "\n",
        "# encode label \n",
        "mlb = LabelEncoder() \n",
        "y = mlb.fit_transform(y)"
      ],
      "execution_count": 62,
      "outputs": [
        {
          "output_type": "stream",
          "text": [
            "Total data train: 16215\n"
          ],
          "name": "stdout"
        }
      ]
    },
    {
      "cell_type": "code",
      "metadata": {
        "id": "nwWsGufB4te5",
        "colab_type": "code",
        "colab": {}
      },
      "source": [
        "from sklearn.manifold import TSNE\n",
        "import matplotlib.pyplot as plt\n",
        "X_draw = TSNE(n_components=2).fit_transform(X_train[:500]) "
      ],
      "execution_count": 0,
      "outputs": []
    },
    {
      "cell_type": "code",
      "metadata": {
        "id": "p-jfFWVEI0Qw",
        "colab_type": "code",
        "colab": {
          "base_uri": "https://localhost:8080/",
          "height": 282
        },
        "outputId": "3af4d526-2341-4395-a3c5-39bf842dc0ed"
      },
      "source": [
        "plt.scatter(X_draw[:,0],X_draw[:,1],c=y[:500])\n",
        "plt.legend()\n",
        "plt.grid(True)"
      ],
      "execution_count": 78,
      "outputs": [
        {
          "output_type": "stream",
          "text": [
            "No handles with labels found to put in legend.\n"
          ],
          "name": "stderr"
        },
        {
          "output_type": "display_data",
          "data": {
            "image/png": "[encoded data removed]",
            "text/plain": [
              "<Figure size 432x288 with 1 Axes>"
            ]
          },
          "metadata": {
            "tags": [],
            "needs_background": "light"
          }
        }
      ]
    },
    {
      "cell_type": "code",
      "metadata": {
        "id": "mFScmi3PHkuW",
        "colab_type": "code",
        "colab": {}
      },
      "source": [
        "from sklearn.decomposition import PCA\n",
        "from sklearn.decomposition import SparsePCA\n",
        "import matplotlib.pyplot as plt\n",
        "X_draw_PCA = PCA(n_components=2).fit(np.array(X_train[:1000])\n",
        "plt.scatter(X_draw_PCA[:,0],X_draw_PCA[:,1],c=y[:1000], cmap=\"RdYlGn\",label=['Du_lich','Giao_duc','Khoa_hoc','Phap_luat','Thoi_su'])\n",
        "print(y)"
      ],
      "execution_count": 0,
      "outputs": []
    },
    {
      "cell_type": "code",
      "metadata": {
        "id": "QfSqAPLc4thK",
        "colab_type": "code",
        "colab": {}
      },
      "source": [
        "print(x_test.shape)\n",
        "print(y_test.shape)\n",
        "# x = TSNE(n_components=2).fit_transform(features_test)\n",
        "# plt.scatter(x[:,0],x[:,1],c=labels_test)"
      ],
      "execution_count": 0,
      "outputs": []
    },
    {
      "cell_type": "code",
      "metadata": {
        "id": "54lUAfnh4tjz",
        "colab_type": "code",
        "colab": {}
      },
      "source": [
        "# TRAIN BY LinearSVC => output not multi"
      ],
      "execution_count": 0,
      "outputs": []
    },
    {
      "cell_type": "code",
      "metadata": {
        "id": "19tsxI2w4tZo",
        "colab_type": "code",
        "colab": {}
      },
      "source": [
        "from sklearn.svm import LinearSVC\n",
        "from sklearn.metrics import classification_report\n",
        "estimator = LinearSVC(verbose=1,random_state=42,tol=1e-05)"
      ],
      "execution_count": 0,
      "outputs": []
    },
    {
      "cell_type": "code",
      "metadata": {
        "id": "LBHSCFcR1IGa",
        "colab_type": "code",
        "colab": {}
      },
      "source": [
        "# chia tập train, test theo tỉ lệ 8:2\n",
        "(x_train, x_test,y_train, y_test) = train_test_split(a, b, test_size=0.2, random_state=42)"
      ],
      "execution_count": 0,
      "outputs": []
    },
    {
      "cell_type": "code",
      "metadata": {
        "id": "YyL0oDAd5jde",
        "colab_type": "code",
        "colab": {}
      },
      "source": [
        "print(y_test)"
      ],
      "execution_count": 0,
      "outputs": []
    },
    {
      "cell_type": "code",
      "metadata": {
        "id": "l8cDjerqlWZ0",
        "colab_type": "code",
        "colab": {}
      },
      "source": [
        "estimator.fit(x_train, y_train)"
      ],
      "execution_count": 0,
      "outputs": []
    },
    {
      "cell_type": "code",
      "metadata": {
        "id": "pc-g9gZTl8Ua",
        "colab_type": "code",
        "colab": {}
      },
      "source": [
        "y_pred = estimator.predict(x_test) \n",
        "print(classification_report(y_test, y_pred)) "
      ],
      "execution_count": 0,
      "outputs": []
    },
    {
      "cell_type": "markdown",
      "metadata": {
        "id": "ABaYErlLw9oB",
        "colab_type": "text"
      },
      "source": [
        "#BERT"
      ]
    },
    {
      "cell_type": "code",
      "metadata": {
        "id": "hu801-jwmCr8",
        "colab_type": "code",
        "colab": {}
      },
      "source": [
        "import os\n",
        "import numpy as np\n",
        "import pandas as pd\n",
        "import re\n",
        "from tqdm import tqdm\n",
        "import warnings\n",
        "warnings.filterwarnings('ignore')\n",
        "from sklearn.model_selection import train_test_split\n",
        "import torch\n",
        "from keras.preprocessing.sequence import pad_sequences\n",
        "from torch.utils.data import TensorDataset, DataLoader, RandomSampler, SequentialSampler\n",
        "from tqdm import  tqdm_notebook\n",
        "# !pip install pytorch_transformers\n",
        "# from pytorch_transformers import *\n",
        "import shutil\n",
        "%cd /content/drive/My Drive/NLP/nlp_classifiication_bert"
      ],
      "execution_count": 0,
      "outputs": []
    },
    {
      "cell_type": "code",
      "metadata": {
        "id": "NKgc7sM2emFj",
        "colab_type": "code",
        "colab": {}
      },
      "source": [
        "directory_path = '/content/drive/My Drive/NLP/nlp_classifiication_bert'## we will store our data in this drive"
      ],
      "execution_count": 0,
      "outputs": []
    },
    {
      "cell_type": "code",
      "metadata": {
        "id": "uZz6otNZemK_",
        "colab_type": "code",
        "colab": {}
      },
      "source": [
        "train_df = pd.read_csv(os.path.join(directory_path,'labeledTrainData.tsv'),delimiter='\\t')\n",
        "test_df = pd.read_csv(os.path.join(directory_path,'testData.tsv'),delimiter='\\t')"
      ],
      "execution_count": 0,
      "outputs": []
    },
    {
      "cell_type": "code",
      "metadata": {
        "id": "NJqK8P7-emI1",
        "colab_type": "code",
        "colab": {}
      },
      "source": [
        "train_df.shape,test_df.shape"
      ],
      "execution_count": 0,
      "outputs": []
    },
    {
      "cell_type": "code",
      "metadata": {
        "id": "gDSAVkKHemDM",
        "colab_type": "code",
        "colab": {}
      },
      "source": [
        "train_df.head(n=2)"
      ],
      "execution_count": 0,
      "outputs": []
    },
    {
      "cell_type": "code",
      "metadata": {
        "id": "ayIQsmf1eUa-",
        "colab_type": "code",
        "colab": {}
      },
      "source": [
        "lm_df = pd.concat([train_df[['review']],test_df[['review']]])"
      ],
      "execution_count": 0,
      "outputs": []
    },
    {
      "cell_type": "code",
      "metadata": {
        "id": "ZpcIvMpKeUeo",
        "colab_type": "code",
        "colab": {}
      },
      "source": [
        "lm_df.review = lm_df.review.str.lower()"
      ],
      "execution_count": 0,
      "outputs": []
    },
    {
      "cell_type": "code",
      "metadata": {
        "id": "6WyMQo-HeUXi",
        "colab_type": "code",
        "colab": {}
      },
      "source": [
        "train_df.review = train_df.review.str.lower()\n",
        "sentences = train_df.review.values\n",
        "\n",
        "# We need to add special tokens at the beginning and end of each sentence for BERT to work properly\n",
        "sentences = [\"[CLS] \" + sentence + \" [SEP]\" for sentence in sentences]\n",
        "labels = train_df.sentiment.values"
      ],
      "execution_count": 0,
      "outputs": []
    },
    {
      "cell_type": "code",
      "metadata": {
        "id": "59-ZbLVPfEYJ",
        "colab_type": "code",
        "colab": {}
      },
      "source": [
        "# %%time\n",
        "# tokenizer = BertTokenizer.from_pretrained('bert-base-uncased')\n",
        "# tokenized_texts = [tokenizer.tokenize(sent) for sent in sentences]\n",
        "# print (\"Tokenize the first sentence:\")\n"
      ],
      "execution_count": 0,
      "outputs": []
    },
    {
      "cell_type": "code",
      "metadata": {
        "id": "OdYQc0B_f55B",
        "colab_type": "code",
        "colab": {}
      },
      "source": [
        "print(labels[:10])"
      ],
      "execution_count": 0,
      "outputs": []
    },
    {
      "cell_type": "code",
      "metadata": {
        "id": "bniYGg4LfoeD",
        "colab_type": "code",
        "colab": {}
      },
      "source": [
        "# input_ids=[]\n",
        "# for i in tqdm_notebook(range(len(tokenized_texts))):\n",
        "#   input_ids.append(tokenizer.convert_tokens_to_ids(tokenized_texts[i]))"
      ],
      "execution_count": 0,
      "outputs": []
    },
    {
      "cell_type": "code",
      "metadata": {
        "id": "oIEW3p-cfEdi",
        "colab_type": "code",
        "colab": {}
      },
      "source": [
        "MAX_LEN = 256\n",
        "input_ids = pad_sequences(input_ids, maxlen=MAX_LEN, dtype=\"long\", truncating=\"post\", padding=\"post\")"
      ],
      "execution_count": 0,
      "outputs": []
    },
    {
      "cell_type": "code",
      "metadata": {
        "id": "5DoRtSyefEbg",
        "colab_type": "code",
        "colab": {}
      },
      "source": [
        "input_ids[:10]"
      ],
      "execution_count": 0,
      "outputs": []
    },
    {
      "cell_type": "code",
      "metadata": {
        "id": "hK784nBefEVs",
        "colab_type": "code",
        "colab": {}
      },
      "source": [
        ""
      ],
      "execution_count": 0,
      "outputs": []
    },
    {
      "cell_type": "code",
      "metadata": {
        "id": "Xjeq8fSieUiM",
        "colab_type": "code",
        "colab": {}
      },
      "source": [
        "## Define model\n",
        "device = torch.device('cuda' if torch.cuda.is_available() else 'cpu')\n",
        "# device ='cpu'\n",
        "model = BertForSequenceClassification.from_pretrained('bert-base-uncased',num_labels=2)\n",
        "model.to(device)"
      ],
      "execution_count": 0,
      "outputs": []
    },
    {
      "cell_type": "code",
      "metadata": {
        "id": "IC3ZEYHHd-TJ",
        "colab_type": "code",
        "colab": {}
      },
      "source": [
        "#Create attention masks\n",
        "attention_masks = []\n",
        "# Create a mask of 1s for each token followed by 0s for padding\n",
        "for seq in input_ids:\n",
        "  seq_mask = [float(i>0) for i in seq]\n",
        "  attention_masks.append(seq_mask)"
      ],
      "execution_count": 0,
      "outputs": []
    },
    {
      "cell_type": "code",
      "metadata": {
        "id": "dp7Y1KhJeAYQ",
        "colab_type": "code",
        "colab": {}
      },
      "source": [
        "# Use train_test_split to split our data into train and validation sets for training\n",
        "\n",
        "train_inputs, validation_inputs, train_labels, validation_labels = train_test_split(input_ids, labels,random_state=56, test_size=0.2)\n",
        "train_masks, validation_masks, _, _ = train_test_split(attention_masks, input_ids,random_state=56, test_size=0.2)"
      ],
      "execution_count": 0,
      "outputs": []
    },
    {
      "cell_type": "code",
      "metadata": {
        "id": "HaVhBHQqeAc_",
        "colab_type": "code",
        "colab": {}
      },
      "source": [
        "#Convert all of our data into torch tensors, the required datatype for our model\n",
        "\n",
        "train_inputs = torch.tensor(train_inputs)\n",
        "validation_inputs = torch.tensor(validation_inputs)\n",
        "train_labels = torch.tensor(train_labels)\n",
        "validation_labels = torch.tensor(validation_labels)\n",
        "train_masks = torch.tensor(train_masks)\n",
        "validation_masks = torch.tensor(validation_masks)"
      ],
      "execution_count": 0,
      "outputs": []
    },
    {
      "cell_type": "code",
      "metadata": {
        "id": "1GT2y2baeAhr",
        "colab_type": "code",
        "colab": {}
      },
      "source": [
        "batch_size = 16\n",
        "\n",
        "# Create an iterator of our data with torch DataLoader. This helps save on memory during training because, unlike a for loop, \n",
        "# with an iterator the entire dataset does not need to be loaded into memory\n",
        "\n",
        "train_data = TensorDataset(train_inputs, train_masks, train_labels)\n",
        "train_sampler = RandomSampler(train_data)\n",
        "train_dataloader = DataLoader(train_data, sampler=train_sampler, batch_size=batch_size)\n",
        "\n",
        "validation_data = TensorDataset(validation_inputs, validation_masks, validation_labels)\n",
        "validation_sampler = SequentialSampler(validation_data)\n",
        "validation_dataloader = DataLoader(validation_data, sampler=validation_sampler, batch_size=batch_size)\n"
      ],
      "execution_count": 0,
      "outputs": []
    },
    {
      "cell_type": "code",
      "metadata": {
        "id": "ml-G9N5BeAkV",
        "colab_type": "code",
        "colab": {}
      },
      "source": [
        ""
      ],
      "execution_count": 0,
      "outputs": []
    },
    {
      "cell_type": "code",
      "metadata": {
        "id": "5TkkU3RYeAfY",
        "colab_type": "code",
        "colab": {}
      },
      "source": [
        ""
      ],
      "execution_count": 0,
      "outputs": []
    },
    {
      "cell_type": "code",
      "metadata": {
        "id": "aw-5VMNEeAa8",
        "colab_type": "code",
        "colab": {}
      },
      "source": [
        ""
      ],
      "execution_count": 0,
      "outputs": []
    },
    {
      "cell_type": "code",
      "metadata": {
        "id": "pM1Ec4Zwd-WV",
        "colab_type": "code",
        "colab": {}
      },
      "source": [
        ""
      ],
      "execution_count": 0,
      "outputs": []
    },
    {
      "cell_type": "code",
      "metadata": {
        "id": "j3eqpoPJd-Zm",
        "colab_type": "code",
        "colab": {}
      },
      "source": [
        ""
      ],
      "execution_count": 0,
      "outputs": []
    },
    {
      "cell_type": "code",
      "metadata": {
        "id": "Kk2AqN8kmnQq",
        "colab_type": "code",
        "colab": {}
      },
      "source": [
        "lr = 2e-5\n",
        "max_grad_norm = 1.0\n",
        "num_total_steps = 1000\n",
        "num_warmup_steps = 100\n",
        "warmup_proportion = float(num_warmup_steps) / float(num_total_steps)  # 0.1\n",
        "\n",
        "\n",
        "### In PyTorch-Transformers, optimizer and schedules are splitted and instantiated like this:\n",
        "optimizer = AdamW(model.parameters(), lr=lr, correct_bias=False)  # To reproduce BertAdam specific behavior set correct_bias=False\n",
        "scheduler = WarmupLinearSchedule(optimizer, warmup_steps=num_warmup_steps, t_total=num_total_steps)  # PyTorch scheduler"
      ],
      "execution_count": 0,
      "outputs": []
    },
    {
      "cell_type": "code",
      "metadata": {
        "id": "LtmNBfe6mnOs",
        "colab_type": "code",
        "colab": {}
      },
      "source": [
        "total_step = len(train_dataloader)\n",
        "# Store our loss and accuracy for plotting\n",
        "train_loss_set = []\n",
        "\n",
        "\n",
        "epochs = 2\n",
        "\n",
        "# trange is a tqdm wrapper around the normal python range\n",
        "for epoch in tqdm_notebook(range(epochs)):\n",
        "  \n",
        "  \n",
        "\n",
        "    # Training\n",
        "    # Set our model to training mode (as opposed to evaluation mode)\n",
        "    model.train()\n",
        "\n",
        "    # Tracking variables\n",
        "    tr_loss = 0\n",
        "    nb_tr_examples, nb_tr_steps = 0, 0\n",
        "\n",
        "    # Train the data for one epoch\n",
        "    for i, batch in enumerate(train_dataloader):\n",
        "      # Add batch to GPU\n",
        "      batch = tuple(t.to(device) for t in batch)\n",
        "      # Unpack the inputs from our dataloader\n",
        "      b_input_ids, b_input_mask, b_labels = batch\n",
        "      # Forward pass\n",
        "      outputs = model(b_input_ids, token_type_ids=None, attention_mask=b_input_mask, labels=b_labels)\n",
        "      loss = outputs[0]\n",
        "      train_loss_set.append(loss.item())    \n",
        "      # Backward pass\n",
        "      loss.backward()\n",
        "      # Update parameters and take a step using the computed gradient\n",
        "      optimizer.step()\n",
        "      scheduler.step()\n",
        "      optimizer.zero_grad()\n",
        "      if (i) % 50 == 0:\n",
        "        print ('Epoch [{}/{}], Step [{}/{}], Loss: {:.4f}' \n",
        "                   .format(epoch+1, epochs, i+1, total_step, loss.item()))"
      ],
      "execution_count": 0,
      "outputs": []
    },
    {
      "cell_type": "code",
      "metadata": {
        "id": "uaK3bm1Bnb7B",
        "colab_type": "code",
        "colab": {}
      },
      "source": [
        "torch.save(model.state_dict(), directory_path+'/model_without_language_model.ckpt')"
      ],
      "execution_count": 0,
      "outputs": []
    },
    {
      "cell_type": "code",
      "metadata": {
        "id": "KCJ3gnF6inCf",
        "colab_type": "code",
        "colab": {}
      },
      "source": [
        "# Test the model\n",
        "with torch.no_grad():\n",
        "    correct = 0\n",
        "    total = 0\n",
        "    for i, batch in enumerate(validation_dataloader):\n",
        "      batch = tuple(t.to(device) for t in batch)\n",
        "      # Unpack the inputs from our dataloader\n",
        "      b_input_ids, b_input_mask, b_labels = batch\n",
        "      # Forward pass\n",
        "      outputs = model(b_input_ids, token_type_ids=None, attention_mask=b_input_mask)\n",
        "      # print (outputs)\n",
        "      prediction = torch.argmax(outputs[0],dim=1)\n",
        "      total += b_labels.size(0)\n",
        "      correct+=(prediction==b_labels).sum().item()"
      ],
      "execution_count": 0,
      "outputs": []
    },
    {
      "cell_type": "code",
      "metadata": {
        "id": "Mw01ygHAin2w",
        "colab_type": "code",
        "colab": {}
      },
      "source": [
        "print('Test Accuracy of the model on val data is: {} %'.format(100 * correct / total)) "
      ],
      "execution_count": 0,
      "outputs": []
    },
    {
      "cell_type": "code",
      "metadata": {
        "id": "b_PlvdnejD4l",
        "colab_type": "code",
        "colab": {}
      },
      "source": [
        ""
      ],
      "execution_count": 0,
      "outputs": []
    }
  ]
}