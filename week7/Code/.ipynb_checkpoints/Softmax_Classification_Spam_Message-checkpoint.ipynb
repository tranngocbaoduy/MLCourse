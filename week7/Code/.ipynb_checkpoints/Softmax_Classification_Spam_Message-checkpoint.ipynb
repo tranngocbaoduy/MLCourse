{
 "cells": [
  {
   "cell_type": "code",
   "execution_count": 1,
   "metadata": {
    "colab": {},
    "colab_type": "code",
    "id": "71YXfMJqRjOj"
   },
   "outputs": [],
   "source": [
    "import pandas as pd\n",
    "import numpy as np  \n",
    "import matplotlib.pyplot as plt\n",
    "%matplotlib inline\n",
    "import scipy.sparse\n",
    "from sklearn.metrics import classification_report\n",
    "from sklearn.preprocessing import LabelEncoder\n",
    "from sklearn.model_selection import train_test_split"
   ]
  },
  {
   "cell_type": "code",
   "execution_count": 2,
   "metadata": {
    "colab": {
     "base_uri": "https://localhost:8080/",
     "height": 221
    },
    "colab_type": "code",
    "id": "9hg1xNf2RsYS",
    "outputId": "92ca53c2-9604-441d-9656-42a5c630eb1b"
   },
   "outputs": [
    {
     "data": {
      "text/html": [
       "<div>\n",
       "<style scoped>\n",
       "    .dataframe tbody tr th:only-of-type {\n",
       "        vertical-align: middle;\n",
       "    }\n",
       "\n",
       "    .dataframe tbody tr th {\n",
       "        vertical-align: top;\n",
       "    }\n",
       "\n",
       "    .dataframe thead th {\n",
       "        text-align: right;\n",
       "    }\n",
       "</style>\n",
       "<table border=\"1\" class=\"dataframe\">\n",
       "  <thead>\n",
       "    <tr style=\"text-align: right;\">\n",
       "      <th></th>\n",
       "      <th>Category</th>\n",
       "      <th>Message</th>\n",
       "    </tr>\n",
       "  </thead>\n",
       "  <tbody>\n",
       "    <tr>\n",
       "      <th>0</th>\n",
       "      <td>ham</td>\n",
       "      <td>Go until jurong point, crazy.. Available only ...</td>\n",
       "    </tr>\n",
       "    <tr>\n",
       "      <th>1</th>\n",
       "      <td>ham</td>\n",
       "      <td>Ok lar... Joking wif u oni...</td>\n",
       "    </tr>\n",
       "    <tr>\n",
       "      <th>2</th>\n",
       "      <td>spam</td>\n",
       "      <td>Free entry in 2 a wkly comp to win FA Cup fina...</td>\n",
       "    </tr>\n",
       "    <tr>\n",
       "      <th>3</th>\n",
       "      <td>ham</td>\n",
       "      <td>U dun say so early hor... U c already then say...</td>\n",
       "    </tr>\n",
       "    <tr>\n",
       "      <th>4</th>\n",
       "      <td>ham</td>\n",
       "      <td>Nah I don't think he goes to usf, he lives aro...</td>\n",
       "    </tr>\n",
       "  </tbody>\n",
       "</table>\n",
       "</div>"
      ],
      "text/plain": [
       "  Category                                            Message\n",
       "0      ham  Go until jurong point, crazy.. Available only ...\n",
       "1      ham                      Ok lar... Joking wif u oni...\n",
       "2     spam  Free entry in 2 a wkly comp to win FA Cup fina...\n",
       "3      ham  U dun say so early hor... U c already then say...\n",
       "4      ham  Nah I don't think he goes to usf, he lives aro..."
      ]
     },
     "execution_count": 2,
     "metadata": {},
     "output_type": "execute_result"
    }
   ],
   "source": [
    "#%cd /content/drive/My Drive/Colab Notebooks\n",
    "df_train = pd.read_csv(\"SPAM text message 20170820 - Data 2.csv\")\n",
    "df_train.head()"
   ]
  },
  {
   "cell_type": "code",
   "execution_count": 3,
   "metadata": {
    "colab": {
     "base_uri": "https://localhost:8080/",
     "height": 34
    },
    "colab_type": "code",
    "id": "5q3H5XiCRupW",
    "outputId": "888b2a90-cdbe-43f6-ceaa-5f70da71e021"
   },
   "outputs": [
    {
     "name": "stdout",
     "output_type": "stream",
     "text": [
      "x: (5572,) y: (5572,)\n"
     ]
    }
   ],
   "source": [
    "list(df_train.columns.values)\n",
    "\n",
    "x = df_train['Message']\n",
    "y = df_train['Category']\n",
    "\n",
    "# label encoder nhãn y để dễ xử lý ['ham','spam'] [0,1]\n",
    "LE = LabelEncoder() \n",
    "label = LE.fit_transform(df_train['Category'])\n",
    "y = label\n",
    "print('x:', x.shape,'y:',y.shape)"
   ]
  },
  {
   "cell_type": "code",
   "execution_count": 4,
   "metadata": {
    "colab": {},
    "colab_type": "code",
    "id": "h3iimjRbTxSx"
   },
   "outputs": [],
   "source": [
    "\n",
    "from gensim import corpora, matutils\n",
    "# handle text bag of word -> text\n",
    "SPECIAL_CHARACTER = '0123456789%@$.,=+-!;/()*\"&^:#|\\n\\t\\''\n",
    "\n",
    "# bỏ những kí tự đặc biệt trong message \n",
    "def remove_special_character(text): \n",
    "    try:\n",
    "        return [x.strip(SPECIAL_CHARACTER).lower() for x in text.split()]\n",
    "    except TypeError:\n",
    "        return []\n",
    "\n",
    "# xây dựng dictionary từ những message đang có \n",
    "def build_dic(x): \n",
    "    corpus = []\n",
    "    for item in x:\n",
    "        corpus.append(remove_special_character(item))\n",
    "    dct = corpora.Dictionary(corpus)\n",
    "    dct.filter_extremes(no_below=5, no_above=0.76)\n",
    "    return dct\n",
    "\n",
    "dct = build_dic(x)"
   ]
  },
  {
   "cell_type": "code",
   "execution_count": 5,
   "metadata": {
    "colab": {
     "base_uri": "https://localhost:8080/",
     "height": 71
    },
    "colab_type": "code",
    "id": "TCopKBUBXu-R",
    "outputId": "28c8db65-248c-4afa-addb-bba4d7c6b2be"
   },
   "outputs": [],
   "source": [
    "\n",
    "# chuyển doc to vector\n",
    "def get_dense(text, dictionary): \n",
    "    words = remove_special_character(text)\n",
    "    # Bag of words\n",
    "    vec = dct.doc2bow(words)  \n",
    "    dense = list(matutils.corpus2dense([vec], num_terms=len(dictionary)).T[0])\n",
    "    return dense\n",
    "\n",
    "X_train = []\n",
    "y_train = y\n",
    "for item in x:\n",
    "    X_train.append(get_dense(item,dct))"
   ]
  },
  {
   "cell_type": "code",
   "execution_count": 6,
   "metadata": {
    "colab": {
     "base_uri": "https://localhost:8080/",
     "height": 51
    },
    "colab_type": "code",
    "id": "S0XVHLOrYWq0",
    "outputId": "47a9fc7a-1a6b-460e-a8c8-2a7cb5c9ffd4"
   },
   "outputs": [
    {
     "name": "stdout",
     "output_type": "stream",
     "text": [
      "X_train (4457, 1767) y_train (4457,)\n",
      "X_test (1115, 1767) y_test (1115,)\n"
     ]
    }
   ],
   "source": [
    "X_train = np.array(X_train)\n",
    "y_train = np.array(y_train)\n",
    "(X_train,X_test, y_train, y_test) = train_test_split(X_train, y_train, test_size=0.2, random_state=42)\n",
    "\n",
    "print('X_train',X_train.shape,'y_train',y_train.shape) \n",
    "print('X_test',X_test.shape,'y_test',y_test.shape) "
   ]
  },
  {
   "cell_type": "markdown",
   "metadata": {},
   "source": [
    "Hàm loss softmax<br> \n",
    "![losss](losss.png \"Title\")\n",
    "Hàm đạo hàm theo w <br>\n",
    "![derative](derative.png \"Title\")\n",
    "Cross entropy\n",
    "<img src=\"https://cdn-images-1.medium.com/max/1000/1*lUUmNbjMNS1rfX4El9i5VA.png\" width=\"30%\">"
   ]
  },
  {
   "cell_type": "markdown",
   "metadata": {},
   "source": [
    "Soft max function <br>\n",
    "![softmax](softmax.png \"Soft max thông thường\")\n",
    "Tối ưu soft max function <br>\n",
    "![softmax_toiuu](softmax_toiuu.png \"Soft max stable hơn\")"
   ]
  },
  {
   "cell_type": "code",
   "execution_count": 7,
   "metadata": {
    "colab": {},
    "colab_type": "code",
    "id": "zNWWTAPgUzzx"
   },
   "outputs": [],
   "source": [
    "# hàm softmax trả về xác suất xuất hiện của từng giá trị trên tập dự liệu z \n",
    "# hàm softmax stable cũng như hàm z \n",
    "# hay còn gọi là sự phân phối của mỗi dữ liệu trong dòng dữ liệu đó\n",
    "def softmax_stable(z): \n",
    "    z -= np.max(z) \n",
    "    sm_stable = (np.exp(z).T / np.sum(np.exp(z),axis=1)).T\n",
    "    return sm_stable\n",
    "\n",
    "def softmax(z): \n",
    "    sm = (np.exp(z).T / np.sum(np.exp(z),axis=1)).T\n",
    "    return sm"
   ]
  },
  {
   "cell_type": "code",
   "execution_count": 8,
   "metadata": {
    "colab": {},
    "colab_type": "code",
    "id": "MKf_P9egRur8"
   },
   "outputs": [],
   "source": [
    "def oneHotIt(Y):\n",
    "    m = Y.shape[0]\n",
    "    OHX = scipy.sparse.csr_matrix((np.ones(m), (Y, np.array(range(m)))))\n",
    "    OHX = np.array(OHX.todense()).T \n",
    "    return OHX"
   ]
  },
  {
   "cell_type": "code",
   "execution_count": 9,
   "metadata": {
    "colab": {},
    "colab_type": "code",
    "id": "MVNHNZNvRuuB"
   },
   "outputs": [],
   "source": [
    "def getLoss(w,x,y):\n",
    "    m = x.shape[0] # Lấy độ dài document\n",
    "    y_mat = oneHotIt(y) # OneHot encoding y\n",
    "    scores = np.dot(x,w) # tính z = x*w \n",
    "    prob = softmax_stable(scores) # tính xác suất của mỗi tài liệu theo hàm softmax stable \n",
    "    loss = (-1 / m) *np.sum(np.multiply(y_mat,prob)) + np.log(np.sum(np.exp(prob))) # công thức loss của hàm soft max theo entropy\n",
    "    grad = (-1 / m) * np.dot(x.T,(y_mat - prob)) # tính đạo hàm của loss theo w \n",
    "    return loss,grad"
   ]
  },
  {
   "cell_type": "code",
   "execution_count": 148,
   "metadata": {
    "colab": {
     "base_uri": "https://localhost:8080/",
     "height": 306
    },
    "colab_type": "code",
    "id": "OZzhVH9zRuwH",
    "outputId": "c4262aa0-641c-4304-8596-960738f44f91"
   },
   "outputs": [
    {
     "name": "stdout",
     "output_type": "stream",
     "text": [
      "with i: 0  - loss: 9.0953783535065\n",
      "with i: 100  - loss: 8.890092687259338\n",
      "with i: 200  - loss: 8.858431863291024\n",
      "with i: 300  - loss: 8.841741920454634\n",
      "with i: 400  - loss: 8.830807157527243\n",
      "with i: 500  - loss: 8.822873759990326\n",
      "with i: 600  - loss: 8.816733945201543\n",
      "with i: 700  - loss: 8.811772244661046\n",
      "with i: 800  - loss: 8.80763775681634\n",
      "with i: 900  - loss: 8.804113464184603\n",
      "8.80108501446126 [[ 0.0260534  -0.0260534 ]\n",
      " [ 0.02765465 -0.02765465]\n",
      " [ 0.01615836 -0.01615836]\n",
      " ...\n",
      " [ 0.02219393 -0.02219393]\n",
      " [ 0.00358244 -0.00358244]\n",
      " [ 0.00701706 -0.00701706]]\n"
     ]
    }
   ],
   "source": [
    "w = np.zeros([X_train.shape[1],len(np.unique(y_train))])\n",
    "lam = 1\n",
    "iterations = 1000\n",
    "learningRate = 0.1\n",
    "losses = []\n",
    "# cập nhật w theo gradient descent\n",
    "for i in range(0,iterations):\n",
    "    loss,grad = getLoss(w,X_train,y_train)\n",
    "    losses.append(loss)\n",
    "    if i % 100 == 0:\n",
    "        print('with i:',i,' - loss:',loss)\n",
    "    w = w - (learningRate * grad) \n",
    "print(loss,w)"
   ]
  },
  {
   "cell_type": "code",
   "execution_count": 149,
   "metadata": {
    "colab": {
     "base_uri": "https://localhost:8080/",
     "height": 282
    },
    "colab_type": "code",
    "id": "BusgKMIgRuym",
    "outputId": "447aa792-cf02-4b71-bb6f-58c0dc7b87ae"
   },
   "outputs": [
    {
     "data": {
      "text/plain": [
       "[<matplotlib.lines.Line2D at 0x7f7cb0f33518>]"
      ]
     },
     "execution_count": 149,
     "metadata": {
      "tags": []
     },
     "output_type": "execute_result"
    },
    {
     "data": {
      "image/png": "[encoded data removed]",
      "text/plain": [
       "<Figure size 432x288 with 1 Axes>"
      ]
     },
     "metadata": {
      "tags": []
     },
     "output_type": "display_data"
    }
   ],
   "source": [
    "#so sánh dự đoán giữa tập predict và đúng \n",
    "def getAccuracy(someX,someY):\n",
    "    prob,prede = getProbsAndPreds(someX)\n",
    "    accuracy = sum(prede == someY)/(float(len(someY)))\n",
    "    return accuracy\n",
    "plt.plot(losses)"
   ]
  },
  {
   "cell_type": "code",
   "execution_count": 0,
   "metadata": {
    "colab": {},
    "colab_type": "code",
    "id": "HMLvBUVNZ_D5"
   },
   "outputs": [],
   "source": [
    "# predict và xác suất sinh ra class đó \n",
    "def getProbsAndPreds(someX):\n",
    "    probs = softmax(np.dot(someX,w))\n",
    "    preds = np.argmax(probs,axis=1)\n",
    "    return probs,preds"
   ]
  },
  {
   "cell_type": "code",
   "execution_count": 126,
   "metadata": {
    "colab": {
     "base_uri": "https://localhost:8080/",
     "height": 51
    },
    "colab_type": "code",
    "id": "R4J0sYOhRu09",
    "outputId": "94751484-684c-4ec4-f47f-6cb6841aabf6"
   },
   "outputs": [
    {
     "name": "stdout",
     "output_type": "stream",
     "text": [
      "Training Accuracy:  0.9398698676239623\n",
      "Test Accuracy:  0.9345291479820628\n"
     ]
    }
   ],
   "source": [
    "print('Training Accuracy: ', getAccuracy(X_train,y_train))\n",
    "print('Test Accuracy: ', getAccuracy(X_test,y_test))"
   ]
  },
  {
   "cell_type": "code",
   "execution_count": 131,
   "metadata": {
    "colab": {
     "base_uri": "https://localhost:8080/",
     "height": 88
    },
    "colab_type": "code",
    "id": "7KTltrGQZwgu",
    "outputId": "92efccdb-ac6a-4b81-8d7e-a982464c915d"
   },
   "outputs": [
    {
     "name": "stdout",
     "output_type": "stream",
     "text": [
      "Free entry in 2 a wkly comp to win FA Cup final tkts 21st May 2005. Text FA to 87121 to receive entry question(std txt rate)T&C's apply 08452810075over18's 1\n"
     ]
    },
    {
     "name": "stderr",
     "output_type": "stream",
     "text": [
      "/usr/local/lib/python3.6/dist-packages/gensim/matutils.py:502: FutureWarning: arrays to stack must be passed as a \"sequence\" type such as list or tuple. Support for non-sequence iterables such as generators is deprecated as of NumPy 1.16 and will raise an error in the future.\n",
      "  result = np.column_stack(sparse2full(doc, num_terms) for doc in corpus)\n"
     ]
    }
   ],
   "source": [
    "# test trên 1 tài liệu\n",
    "probs = softmax(np.dot([get_dense(x[2],dct)],w))\n",
    "# probs => 19% thuộc class 1 , gần 81% thuộc class 2\n"
   ]
  },
  {
   "cell_type": "code",
   "execution_count": 141,
   "metadata": {
    "colab": {
     "base_uri": "https://localhost:8080/",
     "height": 921
    },
    "colab_type": "code",
    "id": "KVcgc-nDakxb",
    "outputId": "359e0f5e-080c-4883-ffff-ccc20464f5eb"
   },
   "outputs": [
    {
     "name": "stdout",
     "output_type": "stream",
     "text": [
      "Tin nhắn dùng để test: Go until jurong point, crazy.. Available only in bugis n great world la e buffet... Cine there got amore wat...\n",
      "Mong muốn: ham\n",
      "Kết quả classify: ham\n",
      "\n",
      "\n",
      "Tin nhắn dùng để test: Ok lar... Joking wif u oni...\n",
      "Mong muốn: ham\n",
      "Kết quả classify: ham\n",
      "\n",
      "\n",
      "Tin nhắn dùng để test: Free entry in 2 a wkly comp to win FA Cup final tkts 21st May 2005. Text FA to 87121 to receive entry question(std txt rate)T&C's apply 08452810075over18's\n",
      "Mong muốn: spam\n",
      "Kết quả classify: spam\n",
      "\n",
      "\n",
      "Tin nhắn dùng để test: U dun say so early hor... U c already then say...\n",
      "Mong muốn: ham\n",
      "Kết quả classify: ham\n",
      "\n",
      "\n",
      "Tin nhắn dùng để test: Nah I don't think he goes to usf, he lives around here though\n",
      "Mong muốn: ham\n",
      "Kết quả classify: ham\n",
      "\n",
      "\n",
      "Tin nhắn dùng để test: FreeMsg Hey there darling it's been 3 week's now and no word back! I'd like some fun you up for it still? Tb ok! XxX std chgs to send, £1.50 to rcv\n",
      "Mong muốn: spam\n",
      "Kết quả classify: ham\n",
      "\n",
      "\n",
      "Tin nhắn dùng để test: Even my brother is not like to speak with me. They treat me like aids patent.\n",
      "Mong muốn: ham\n",
      "Kết quả classify: ham\n",
      "\n",
      "\n",
      "Tin nhắn dùng để test: As per your request 'Melle Melle (Oru Minnaminunginte Nurungu Vettam)' has been set as your callertune for all Callers. Press *9 to copy your friends Callertune\n",
      "Mong muốn: ham\n",
      "Kết quả classify: spam\n",
      "\n",
      "\n",
      "Tin nhắn dùng để test: WINNER!! As a valued network customer you have been selected to receivea £900 prize reward! To claim call 09061701461. Claim code KL341. Valid 12 hours only.\n",
      "Mong muốn: spam\n",
      "Kết quả classify: spam\n",
      "\n",
      "\n",
      "Tin nhắn dùng để test: Had your mobile 11 months or more? U R entitled to Update to the latest colour mobiles with camera for Free! Call The Mobile Update Co FREE on 08002986030\n",
      "Mong muốn: spam\n",
      "Kết quả classify: spam\n",
      "\n",
      "\n"
     ]
    },
    {
     "name": "stderr",
     "output_type": "stream",
     "text": [
      "/usr/local/lib/python3.6/dist-packages/gensim/matutils.py:502: FutureWarning: arrays to stack must be passed as a \"sequence\" type such as list or tuple. Support for non-sequence iterables such as generators is deprecated as of NumPy 1.16 and will raise an error in the future.\n",
      "  result = np.column_stack(sparse2full(doc, num_terms) for doc in corpus)\n"
     ]
    }
   ],
   "source": [
    "# test trên 10 tài liệu\n",
    "for index,text in enumerate(x[:10]):\n",
    "    probs = softmax(np.dot([get_dense(text,dct)],w))\n",
    "    print(\"Tin nhắn dùng để test:\",text)\n",
    "    print(\"Mong muốn:\",LE.classes_[y[index]])\n",
    "    print(\"Kết quả classify:\",LE.classes_[np.argmax(probs,axis=1)][0])\n",
    "    print()\n",
    "    print()"
   ]
  },
  {
   "cell_type": "code",
   "execution_count": 0,
   "metadata": {
    "colab": {},
    "colab_type": "code",
    "id": "JVbfYGVxdz8p"
   },
   "outputs": [],
   "source": []
  }
 ],
 "metadata": {
  "colab": {
   "collapsed_sections": [],
   "name": "Softmax Classification Nasa",
   "provenance": []
  },
  "kernelspec": {
   "display_name": "Python 3",
   "language": "python",
   "name": "python3"
  },
  "language_info": {
   "codemirror_mode": {
    "name": "ipython",
    "version": 3
   },
   "file_extension": ".py",
   "mimetype": "text/x-python",
   "name": "python",
   "nbconvert_exporter": "python",
   "pygments_lexer": "ipython3",
   "version": "3.7.5"
  }
 },
 "nbformat": 4,
 "nbformat_minor": 1
}
