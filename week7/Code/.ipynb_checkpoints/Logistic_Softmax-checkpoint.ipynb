{
 "cells": [
  {
   "cell_type": "code",
   "execution_count": 1,
   "metadata": {},
   "outputs": [],
   "source": [
    "import pandas as pd\n",
    "import numpy as np\n",
    "import matplotlib.pyplot as plt\n",
    "%matplotlib inline\n",
    "import scipy.sparse"
   ]
  },
  {
   "cell_type": "code",
   "execution_count": 2,
   "metadata": {},
   "outputs": [
    {
     "name": "stdout",
     "output_type": "stream",
     "text": [
      "WARNING:tensorflow:From <ipython-input-2-fb425b2ca85e>:2: read_data_sets (from input_data) is deprecated and will be removed in a future version.\n",
      "Instructions for updating:\n",
      "Please use alternatives such as: tensorflow_datasets.load('mnist')\n",
      "WARNING:tensorflow:From /Users/macintoshhd/Tamaki/Document/ML/week7/51702091_TranNgocBaoDuy/Code/input_data.py:284: _maybe_download (from input_data) is deprecated and will be removed in a future version.\n",
      "Instructions for updating:\n",
      "Please write your own downloading logic.\n",
      "Successfully downloaded train-images-idx3-ubyte.gz 9912422 bytes.\n",
      "WARNING:tensorflow:From /Users/macintoshhd/Tamaki/Document/ML/week7/51702091_TranNgocBaoDuy/Code/input_data.py:286: _extract_images (from input_data) is deprecated and will be removed in a future version.\n",
      "Instructions for updating:\n",
      "Please use tf.data to implement this functionality.\n",
      "Extracting MNIST_data/train-images-idx3-ubyte.gz\n",
      "Successfully downloaded train-labels-idx1-ubyte.gz 28881 bytes.\n",
      "WARNING:tensorflow:From /Users/macintoshhd/Tamaki/Document/ML/week7/51702091_TranNgocBaoDuy/Code/input_data.py:291: _extract_labels (from input_data) is deprecated and will be removed in a future version.\n",
      "Instructions for updating:\n",
      "Please use tf.data to implement this functionality.\n",
      "Extracting MNIST_data/train-labels-idx1-ubyte.gz\n",
      "Successfully downloaded t10k-images-idx3-ubyte.gz 1648877 bytes.\n",
      "Extracting MNIST_data/t10k-images-idx3-ubyte.gz\n",
      "Successfully downloaded t10k-labels-idx1-ubyte.gz 4542 bytes.\n",
      "Extracting MNIST_data/t10k-labels-idx1-ubyte.gz\n",
      "WARNING:tensorflow:From /Users/macintoshhd/Tamaki/Document/ML/week7/51702091_TranNgocBaoDuy/Code/input_data.py:315: _DataSet.__init__ (from input_data) is deprecated and will be removed in a future version.\n",
      "Instructions for updating:\n",
      "Please use alternatives such as official/mnist/_DataSet.py from tensorflow/models.\n"
     ]
    }
   ],
   "source": [
    "import input_data\n",
    "mnist = input_data.read_data_sets(\"MNIST_data/\", one_hot=False)\n",
    "batch = mnist.train.next_batch(500)\n",
    "tb = mnist.train.next_batch(100)"
   ]
  },
  {
   "cell_type": "code",
   "execution_count": 3,
   "metadata": {},
   "outputs": [
    {
     "data": {
      "text/plain": [
       "<matplotlib.image.AxesImage at 0x14e3029d0>"
      ]
     },
     "execution_count": 3,
     "metadata": {},
     "output_type": "execute_result"
    },
    {
     "data": {
      "image/png": "[encoded data removed]",
      "text/plain": [
       "<Figure size 432x288 with 1 Axes>"
      ]
     },
     "metadata": {
      "needs_background": "light"
     },
     "output_type": "display_data"
    }
   ],
   "source": [
    "exampleNumber = 2 #Pick the example we want to visualize\n",
    "example = batch[0][exampleNumber,:] #Then we load that example.\n",
    "plt.imshow(np.reshape(example,[28,28])) #Next we reshape it to 28x28 and display it."
   ]
  },
  {
   "cell_type": "code",
   "execution_count": 5,
   "metadata": {},
   "outputs": [],
   "source": [
    "y = batch[1]\n",
    "x = batch[0]\n",
    "testY = tb[1]\n",
    "testX = tb[0]"
   ]
  },
  {
   "cell_type": "code",
   "execution_count": 22,
   "metadata": {},
   "outputs": [],
   "source": [
    "# hàm tính loss và tính đạo hàm \n",
    "# m là số lượng training \n",
    "# scores là biến chứa kết quả của tham số w hiện tại và input x\n",
    "# y_mat chuyển y về dạng one hot encoding\n",
    "# hàm softmax sẽ trả về tần suất xuất hiện của mỗi dữ liệu input \n",
    "# loss của tác giả làm theo công thức cross entropy \n",
    "# em sửa lại loss theo cập nhật hàm cross entropy theo hình bên dưới \n",
    "def getLoss(w,x,y,lam):\n",
    "    m = x.shape[0] #First we get the number of training examples\n",
    "    y_mat = oneHotIt(y) #Next we convert the integer class coding into a one-hot representation\n",
    "    scores = np.dot(x,w) #Then we compute raw class scores given our input and current weights\n",
    "    prob = softmax(scores) #Next we perform a softmax on these scores to get their probabilities\n",
    "\n",
    "    #loss = (-1 / m) * np.sum(y_mat * np.log(prob)) #+ (lam/2)*np.sum(w*w) #We then find the loss of the probabilities\n",
    "    \n",
    "    loss = (-1 / m) *np.sum(np.multiply(y_mat,prob)) + np.log(np.sum(np.exp(prob))) \n",
    "    grad = (-1 / m) * np.dot(x.T,(y_mat - prob)) #+ lam*w #And compute the gradient for that loss\n",
    "    return loss,grad"
   ]
  },
  {
   "cell_type": "markdown",
   "metadata": {},
   "source": [
    "Hàm loss softmax<br> \n",
    "![losss](losss.png \"Title\")\n",
    "Hàm đạo hàm theo w <br>\n",
    "![derative](derative.png \"Title\")\n",
    "Cross entropy\n",
    "<img src=\"https://cdn-images-1.medium.com/max/1000/1*lUUmNbjMNS1rfX4El9i5VA.png\" width=\"30%\">"
   ]
  },
  {
   "cell_type": "code",
   "execution_count": 23,
   "metadata": {},
   "outputs": [],
   "source": [
    "# chuyển y_true về dạng one hot encoding:\n",
    "# ví dụ có 4 class: với các tập dữ liệu y bao gồm [0,0,1,2,3,2] tương ứng với các class 0 1 2 3\n",
    "# y[0] = [1,0,0,0]                    y[3] = [0,0,1,0]\n",
    "# y[1] = [1,0,0,0]                    y[4] = [0,0,0,1] \n",
    "# y[2] = [0,1,0,0]                    y[5] = [0,0,1,0]\n",
    "def oneHotIt(Y):\n",
    "    m = Y.shape[0]\n",
    "    OHX = scipy.sparse.csr_matrix((np.ones(m), (Y, np.array(range(m)))))\n",
    "    OHX = np.array(OHX.todense()).T\n",
    "#     print(OHX.shape)\n",
    "    return OHX"
   ]
  },
  {
   "cell_type": "markdown",
   "metadata": {},
   "source": [
    "Here we perform the softmax transformation:\n",
    "This allows us to get probabilities for each class score that sum to 100%.\n",
    "\n",
    "\n",
    "<img src=\"https://upload.wikimedia.org/math/0/9/9/0991837b7d5a522ebc156f51dadbed0e.png\"> "
   ]
  },
  {
   "cell_type": "code",
   "execution_count": 24,
   "metadata": {},
   "outputs": [],
   "source": [
    "# hàm softmax trả về xác suất xuất hiện của từng giá trị trên tập dự liệu z \n",
    "# hay còn gọi là sự phân phối của mỗi dữ liệu trong dòng dữ liệu đó\n",
    "def softmax(z): \n",
    "    z -= np.max(z) \n",
    "    sm = (np.exp(z).T / np.sum(np.exp(z),axis=1)).T\n",
    "    return sm"
   ]
  },
  {
   "cell_type": "code",
   "execution_count": 25,
   "metadata": {},
   "outputs": [],
   "source": [
    "# predict và xác suất sinh ra class đó \n",
    "def getProbsAndPreds(someX):\n",
    "    probs = softmax(np.dot(someX,w))\n",
    "    preds = np.argmax(probs,axis=1)\n",
    "    return probs,preds"
   ]
  },
  {
   "cell_type": "code",
   "execution_count": 26,
   "metadata": {},
   "outputs": [
    {
     "name": "stdout",
     "output_type": "stream",
     "text": [
      "with i: 0  - loss: 8.517193191416238\n",
      "with i: 500  - loss: 8.445823863401806\n",
      "with i: 1000  - loss: 8.374303657673634\n",
      "with i: 1500  - loss: 8.313021662176672\n",
      "with i: 2000  - loss: 8.26249341268544\n",
      "with i: 2500  - loss: 8.22099726767565\n",
      "with i: 3000  - loss: 8.186643170786613\n",
      "with i: 3500  - loss: 8.157840425279336\n",
      "with i: 4000  - loss: 8.133360619347311\n",
      "with i: 4500  - loss: 8.112282056239854\n",
      "with i: 5000  - loss: 8.093915499375486\n",
      "with i: 5500  - loss: 8.077741534339905\n",
      "with i: 6000  - loss: 8.063363949050888\n",
      "with i: 6500  - loss: 8.050476419884955\n",
      "with i: 7000  - loss: 8.038838921382332\n",
      "with i: 7500  - loss: 8.028260952490811\n",
      "with i: 8000  - loss: 8.018589493273346\n",
      "with i: 8500  - loss: 8.009700254387662\n",
      "with i: 9000  - loss: 8.001491238765428\n",
      "with i: 9500  - loss: 7.993877945135564\n",
      "7.986803444932584\n"
     ]
    }
   ],
   "source": [
    "w = np.zeros([x.shape[1],len(np.unique(y))])\n",
    "lam = 1\n",
    "iterations = 10000\n",
    "learningRate = 1e-3\n",
    "losses = []\n",
    "for i in range(0,iterations):\n",
    "    loss,grad = getLoss(w,x,y,lam)\n",
    "    losses.append(loss)\n",
    "    if i % 500 == 0:\n",
    "        print('with i:',i,' - loss:',loss)\n",
    "    w = w - (learningRate * grad)\n",
    "#     break\n",
    "print(loss)"
   ]
  },
  {
   "cell_type": "code",
   "execution_count": 27,
   "metadata": {},
   "outputs": [
    {
     "data": {
      "text/plain": [
       "[<matplotlib.lines.Line2D at 0x143903a10>]"
      ]
     },
     "execution_count": 27,
     "metadata": {},
     "output_type": "execute_result"
    },
    {
     "data": {
      "image/png": "[encoded data removed]",
      "text/plain": [
       "<Figure size 432x288 with 1 Axes>"
      ]
     },
     "metadata": {
      "needs_background": "light"
     },
     "output_type": "display_data"
    }
   ],
   "source": [
    "plt.plot(losses)"
   ]
  },
  {
   "cell_type": "code",
   "execution_count": 19,
   "metadata": {},
   "outputs": [],
   "source": [
    "#so sánh dự đoán giữa tập predict và đúng \n",
    "def getAccuracy(someX,someY):\n",
    "    prob,prede = getProbsAndPreds(someX)\n",
    "    accuracy = sum(prede == someY)/(float(len(someY)))\n",
    "    return accuracy"
   ]
  },
  {
   "cell_type": "code",
   "execution_count": 20,
   "metadata": {},
   "outputs": [
    {
     "name": "stdout",
     "output_type": "stream",
     "text": [
      "Training Accuracy:  0.898\n",
      "Test Accuracy:  0.84\n"
     ]
    }
   ],
   "source": [
    "print('Training Accuracy: ', getAccuracy(x,y))\n",
    "print('Test Accuracy: ', getAccuracy(testX,testY))"
   ]
  },
  {
   "cell_type": "code",
   "execution_count": 21,
   "metadata": {},
   "outputs": [
    {
     "data": {
      "text/plain": [
       "<matplotlib.image.AxesImage at 0x143894750>"
      ]
     },
     "execution_count": 21,
     "metadata": {},
     "output_type": "execute_result"
    },
    {
     "data": {
      "image/png": "[encoded data removed]",
      "text/plain": [
       "<Figure size 432x288 with 1 Axes>"
      ]
     },
     "metadata": {
      "needs_background": "light"
     },
     "output_type": "display_data"
    }
   ],
   "source": [
    "classWeightsToVisualize = 3\n",
    "plt.imshow(scipy.reshape(w[:,classWeightsToVisualize],[28,28]))"
   ]
  },
  {
   "cell_type": "code",
   "execution_count": null,
   "metadata": {},
   "outputs": [],
   "source": []
  },
  {
   "cell_type": "code",
   "execution_count": null,
   "metadata": {},
   "outputs": [],
   "source": []
  }
 ],
 "metadata": {
  "kernelspec": {
   "display_name": "Python 3",
   "language": "python",
   "name": "python3"
  },
  "language_info": {
   "codemirror_mode": {
    "name": "ipython",
    "version": 3
   },
   "file_extension": ".py",
   "mimetype": "text/x-python",
   "name": "python",
   "nbconvert_exporter": "python",
   "pygments_lexer": "ipython3",
   "version": "3.7.5"
  }
 },
 "nbformat": 4,
 "nbformat_minor": 2
}
