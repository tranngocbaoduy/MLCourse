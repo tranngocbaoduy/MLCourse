{
 "cells": [
  {
   "cell_type": "code",
   "execution_count": 37,
   "metadata": {},
   "outputs": [],
   "source": [
    "import pandas as pd\n",
    "import numpy as np \n",
    "\n",
    "from sklearn.metrics import classification_report"
   ]
  },
  {
   "cell_type": "code",
   "execution_count": 2,
   "metadata": {},
   "outputs": [
    {
     "data": {
      "text/html": [
       "<div>\n",
       "<style scoped>\n",
       "    .dataframe tbody tr th:only-of-type {\n",
       "        vertical-align: middle;\n",
       "    }\n",
       "\n",
       "    .dataframe tbody tr th {\n",
       "        vertical-align: top;\n",
       "    }\n",
       "\n",
       "    .dataframe thead th {\n",
       "        text-align: right;\n",
       "    }\n",
       "</style>\n",
       "<table border=\"1\" class=\"dataframe\">\n",
       "  <thead>\n",
       "    <tr style=\"text-align: right;\">\n",
       "      <th></th>\n",
       "      <th>Col1</th>\n",
       "      <th>Col2</th>\n",
       "      <th>Col3</th>\n",
       "      <th>Col4</th>\n",
       "      <th>Col5</th>\n",
       "      <th>Col6</th>\n",
       "      <th>Col7</th>\n",
       "      <th>Col8</th>\n",
       "      <th>Col9</th>\n",
       "      <th>Col10</th>\n",
       "      <th>Label</th>\n",
       "    </tr>\n",
       "  </thead>\n",
       "  <tbody>\n",
       "    <tr>\n",
       "      <th>0</th>\n",
       "      <td>0.266074</td>\n",
       "      <td>-0.165620</td>\n",
       "      <td>0.320980</td>\n",
       "      <td>0.483299</td>\n",
       "      <td>0.172340</td>\n",
       "      <td>0.273364</td>\n",
       "      <td>0.371178</td>\n",
       "      <td>0.929823</td>\n",
       "      <td>0.251173</td>\n",
       "      <td>0.159345</td>\n",
       "      <td>A</td>\n",
       "    </tr>\n",
       "    <tr>\n",
       "      <th>1</th>\n",
       "      <td>0.130292</td>\n",
       "      <td>0.870736</td>\n",
       "      <td>-3.210528</td>\n",
       "      <td>0.062493</td>\n",
       "      <td>0.261718</td>\n",
       "      <td>1.436060</td>\n",
       "      <td>1.465940</td>\n",
       "      <td>0.636203</td>\n",
       "      <td>0.282354</td>\n",
       "      <td>0.515587</td>\n",
       "      <td>A</td>\n",
       "    </tr>\n",
       "    <tr>\n",
       "      <th>2</th>\n",
       "      <td>-0.116585</td>\n",
       "      <td>0.069915</td>\n",
       "      <td>0.068476</td>\n",
       "      <td>-0.783147</td>\n",
       "      <td>0.261718</td>\n",
       "      <td>0.439463</td>\n",
       "      <td>-0.081827</td>\n",
       "      <td>-0.888236</td>\n",
       "      <td>-0.123005</td>\n",
       "      <td>0.582939</td>\n",
       "      <td>A</td>\n",
       "    </tr>\n",
       "    <tr>\n",
       "      <th>3</th>\n",
       "      <td>0.031541</td>\n",
       "      <td>0.297600</td>\n",
       "      <td>-3.210528</td>\n",
       "      <td>-0.583590</td>\n",
       "      <td>-0.721442</td>\n",
       "      <td>-0.307984</td>\n",
       "      <td>0.710932</td>\n",
       "      <td>1.051693</td>\n",
       "      <td>0.594169</td>\n",
       "      <td>-0.533994</td>\n",
       "      <td>A</td>\n",
       "    </tr>\n",
       "    <tr>\n",
       "      <th>4</th>\n",
       "      <td>0.229043</td>\n",
       "      <td>0.807926</td>\n",
       "      <td>-0.052442</td>\n",
       "      <td>0.082634</td>\n",
       "      <td>0.261718</td>\n",
       "      <td>0.148790</td>\n",
       "      <td>0.635431</td>\n",
       "      <td>0.051062</td>\n",
       "      <td>0.032902</td>\n",
       "      <td>-0.086652</td>\n",
       "      <td>F</td>\n",
       "    </tr>\n",
       "  </tbody>\n",
       "</table>\n",
       "</div>"
      ],
      "text/plain": [
       "       Col1      Col2      Col3      Col4      Col5      Col6      Col7  \\\n",
       "0  0.266074 -0.165620  0.320980  0.483299  0.172340  0.273364  0.371178   \n",
       "1  0.130292  0.870736 -3.210528  0.062493  0.261718  1.436060  1.465940   \n",
       "2 -0.116585  0.069915  0.068476 -0.783147  0.261718  0.439463 -0.081827   \n",
       "3  0.031541  0.297600 -3.210528 -0.583590 -0.721442 -0.307984  0.710932   \n",
       "4  0.229043  0.807926 -0.052442  0.082634  0.261718  0.148790  0.635431   \n",
       "\n",
       "       Col8      Col9     Col10 Label  \n",
       "0  0.929823  0.251173  0.159345     A  \n",
       "1  0.636203  0.282354  0.515587     A  \n",
       "2 -0.888236 -0.123005  0.582939     A  \n",
       "3  1.051693  0.594169 -0.533994     A  \n",
       "4  0.051062  0.032902 -0.086652     F  "
      ]
     },
     "execution_count": 2,
     "metadata": {},
     "output_type": "execute_result"
    }
   ],
   "source": [
    "# iris_data = pd.read_csv('https://raw.githubusercontent.com/uiuc-cse/data-fa14/gh-pages/data/iris.csv')\n",
    "df_train = pd.read_csv(\"avila/avila-tr.txt\", sep=\",\", header=None, names=['Col1', 'Col2', 'Col3', 'Col4', 'Col5', 'Col6', \\\n",
    "                                                  'Col7', 'Col8', 'Col9', 'Col10', 'Label'])\n",
    "df_train.head()\n",
    "\n",
    "# iris_data = pd.read_csv('https://raw.githubusercontent.com/uiuc-cse/data-fa14/gh-pages/data/iris.csv')\n",
    "df_test = pd.read_csv(\"avila/avila-ts.txt\", sep=\",\", header=None, names=['Col1', 'Col2', 'Col3', 'Col4', 'Col5', 'Col6', \\\n",
    "                                                  'Col7', 'Col8', 'Col9', 'Col10', 'Label'])\n",
    "df_train.head()"
   ]
  },
  {
   "cell_type": "code",
   "execution_count": 5,
   "metadata": {},
   "outputs": [
    {
     "data": {
      "text/plain": [
       "(10430,)"
      ]
     },
     "execution_count": 5,
     "metadata": {},
     "output_type": "execute_result"
    }
   ],
   "source": [
    "df_train['Label'].shape"
   ]
  },
  {
   "cell_type": "code",
   "execution_count": 36,
   "metadata": {},
   "outputs": [
    {
     "name": "stdout",
     "output_type": "stream",
     "text": [
      "       Col1      Col2      Col3      Col4      Col5      Col6      Col7  \\\n",
      "0  0.266074 -0.165620  0.320980  0.483299  0.172340  0.273364  0.371178   \n",
      "1  0.130292  0.870736 -3.210528  0.062493  0.261718  1.436060  1.465940   \n",
      "2 -0.116585  0.069915  0.068476 -0.783147  0.261718  0.439463 -0.081827   \n",
      "3  0.031541  0.297600 -3.210528 -0.583590 -0.721442 -0.307984  0.710932   \n",
      "4  0.229043  0.807926 -0.052442  0.082634  0.261718  0.148790  0.635431   \n",
      "\n",
      "       Col8      Col9     Col10  \n",
      "0  0.929823  0.251173  0.159345  \n",
      "1  0.636203  0.282354  0.515587  \n",
      "2 -0.888236 -0.123005  0.582939  \n",
      "3  1.051693  0.594169 -0.533994  \n",
      "4  0.051062  0.032902 -0.086652  \n",
      "       Col1      Col2      Col3      Col4      Col5      Col6      Col7  \\\n",
      "0 -3.498799  0.250492  0.232070  1.224178 -4.922215  1.145386  0.182426   \n",
      "1  0.204355 -0.354049  0.320980  0.410166 -0.989576 -2.218127  0.220177   \n",
      "2  0.759828 -1.304042 -0.023991 -0.973663 -0.006417 -0.349509 -0.421580   \n",
      "3 -0.005490  0.360409  0.281860 -0.213479 -1.168333 -1.013906 -0.346080   \n",
      "4  0.080916  0.101320  0.104040  0.140490  0.261718  0.480988  0.710932   \n",
      "\n",
      "       Col8      Col9     Col10  \n",
      "0 -0.165983 -0.123005  1.087144  \n",
      "1  0.181844  2.090879 -2.009758  \n",
      "2 -0.450127  0.469443  0.060952  \n",
      "3  1.176165  0.968347 -0.627999  \n",
      "4 -0.253430 -0.497183  0.155681   0    9\n",
      "1    0\n",
      "2    8\n",
      "3    4\n",
      "4    0\n",
      "Name: Label, dtype: int64\n"
     ]
    }
   ],
   "source": [
    "from sklearn.preprocessing import LabelEncoder\n",
    "LE = LabelEncoder() \n",
    "df_train['Label'] = LE.fit_transform(df_train['Label'])\n",
    "y_train = df_train['Label']\n",
    "X_train = df_train.drop(columns=['Label'])\n",
    "print(X_train[:5]) \n",
    "\n",
    "LE = LabelEncoder() \n",
    "df_test['Label'] = LE.fit_transform(df_test['Label'])\n",
    "y_test = df_test['Label']\n",
    "X_test = df_test.drop(columns=['Label'])\n",
    "print(X_test[:5],y_test[:5]) \n"
   ]
  },
  {
   "cell_type": "code",
   "execution_count": 10,
   "metadata": {},
   "outputs": [],
   "source": [
    "# iris.data chứa dữ liệu X \n",
    "# print(iris.data.shape) # shape của X \n",
    "# print(iris.target.shape) # shape của labels \n",
    "# print(iris.data[:10])\n",
    "# print(iris.feature_names)\n",
    "# print(iris.target) # có 3 labels: 0, 1, 2\n",
    "# print(iris.target_names)"
   ]
  },
  {
   "cell_type": "code",
   "execution_count": 3,
   "metadata": {},
   "outputs": [
    {
     "name": "stdout",
     "output_type": "stream",
     "text": [
      "(8344, 10) (8344,)\n",
      "(2086, 10) (2086,)\n"
     ]
    }
   ],
   "source": [
    "# from sklearn.model_selection import train_test_split  \n",
    "# X_train, X_test,y_train,y_test = train_test_split(X,y,test_size=0.2,random_state=9)\n",
    "# print(X_train.shape,y_train.shape)\n",
    "# print(X_test.shape,y_test.shape)"
   ]
  },
  {
   "cell_type": "code",
   "execution_count": null,
   "metadata": {},
   "outputs": [],
   "source": []
  },
  {
   "cell_type": "markdown",
   "metadata": {},
   "source": [
    "# linear"
   ]
  },
  {
   "cell_type": "code",
   "execution_count": 39,
   "metadata": {},
   "outputs": [
    {
     "name": "stderr",
     "output_type": "stream",
     "text": [
      "//anaconda3/envs/nlp/lib/python3.7/site-packages/sklearn/svm/_base.py:231: ConvergenceWarning: Solver terminated early (max_iter=200000).  Consider pre-processing your data with StandardScaler or MinMaxScaler.\n",
      "  % self.max_iter, ConvergenceWarning)\n"
     ]
    },
    {
     "data": {
      "text/plain": [
       "SVC(C=100.0, break_ties=False, cache_size=200, class_weight=None, coef0=0.0,\n",
       "    decision_function_shape='ovr', degree=3, gamma=0.01, kernel='linear',\n",
       "    max_iter=200000, probability=False, random_state=None, shrinking=True,\n",
       "    tol=0.001, verbose=False)"
      ]
     },
     "execution_count": 39,
     "metadata": {},
     "output_type": "execute_result"
    }
   ],
   "source": [
    "# ví dụ về sử dụng SVM \n",
    "from sklearn import metrics\n",
    "from sklearn import svm \n",
    "svm_classifier = svm.SVC(kernel='linear',gamma=0.01, C=100., max_iter= 200000)\n",
    "svm_classifier.fit(X_train,y_train)"
   ]
  },
  {
   "cell_type": "code",
   "execution_count": 40,
   "metadata": {},
   "outputs": [
    {
     "name": "stdout",
     "output_type": "stream",
     "text": [
      "predict:\n",
      " [ 0 10  8 ...  5  5  5]\n",
      "              precision    recall  f1-score   support\n",
      "\n",
      "           0       0.57      0.29      0.38      4286\n",
      "           1       1.00      1.00      1.00         5\n",
      "           2       0.00      0.00      0.00       103\n",
      "           3       0.00      0.00      0.00       353\n",
      "           4       0.50      0.56      0.53      1095\n",
      "           5       0.30      0.80      0.44      1962\n",
      "           6       0.54      0.10      0.17       447\n",
      "           7       0.64      0.37      0.47       520\n",
      "           8       0.89      0.88      0.88       832\n",
      "           9       0.00      0.00      0.00        45\n",
      "          10       0.85      0.66      0.74       522\n",
      "          11       0.72      0.67      0.69       267\n",
      "\n",
      "    accuracy                           0.47     10437\n",
      "   macro avg       0.50      0.44      0.44     10437\n",
      "weighted avg       0.53      0.47      0.45     10437\n",
      "\n",
      "accuracy:\n",
      " 0.4704416978058829\n"
     ]
    },
    {
     "name": "stderr",
     "output_type": "stream",
     "text": [
      "//anaconda3/envs/nlp/lib/python3.7/site-packages/sklearn/metrics/_classification.py:1268: UndefinedMetricWarning: Precision and F-score are ill-defined and being set to 0.0 in labels with no predicted samples. Use `zero_division` parameter to control this behavior.\n",
      "  _warn_prf(average, modifier, msg_start, len(result))\n"
     ]
    }
   ],
   "source": [
    "# predict\n",
    "y_pred_svm = svm_classifier.predict(X_test)\n",
    "print('predict:\\n',y_pred_svm)\n",
    "print(classification_report(y_test,y_pred_svm))\n",
    "\n",
    "# tính accuracy \n",
    "acc_score_svm = metrics.accuracy_score(y_pred_svm,y_test) \n",
    "print('accuracy:\\n',acc_score_svm) "
   ]
  },
  {
   "cell_type": "markdown",
   "metadata": {},
   "source": [
    "# sigmoid"
   ]
  },
  {
   "cell_type": "code",
   "execution_count": 41,
   "metadata": {},
   "outputs": [
    {
     "name": "stdout",
     "output_type": "stream",
     "text": [
      "predict:\n",
      " [0 8 8 ... 0 0 5]\n",
      "              precision    recall  f1-score   support\n",
      "\n",
      "           0       0.50      0.72      0.59      4286\n",
      "           1       0.31      1.00      0.48         5\n",
      "           2       0.00      0.00      0.00       103\n",
      "           3       0.00      0.00      0.00       353\n",
      "           4       0.51      0.29      0.37      1095\n",
      "           5       0.37      0.41      0.39      1962\n",
      "           6       0.00      0.00      0.00       447\n",
      "           7       0.54      0.18      0.27       520\n",
      "           8       0.88      0.82      0.85       832\n",
      "           9       0.00      0.00      0.00        45\n",
      "          10       0.73      0.56      0.63       522\n",
      "          11       0.73      0.51      0.60       267\n",
      "\n",
      "    accuracy                           0.52     10437\n",
      "   macro avg       0.38      0.37      0.35     10437\n",
      "weighted avg       0.48      0.52      0.48     10437\n",
      "\n",
      "accuracy:\n",
      " 0.5171026156941649\n"
     ]
    },
    {
     "name": "stderr",
     "output_type": "stream",
     "text": [
      "//anaconda3/envs/nlp/lib/python3.7/site-packages/sklearn/metrics/_classification.py:1268: UndefinedMetricWarning: Precision and F-score are ill-defined and being set to 0.0 in labels with no predicted samples. Use `zero_division` parameter to control this behavior.\n",
      "  _warn_prf(average, modifier, msg_start, len(result))\n"
     ]
    }
   ],
   "source": [
    "# ví dụ về sử dụng SVM \n",
    "from sklearn import metrics\n",
    "from sklearn import svm \n",
    "svm_classifier = svm.SVC(kernel='sigmoid',gamma=0.001, C=1000., max_iter= 2000000)\n",
    "svm_classifier.fit(X_train,y_train)\n",
    "# predict\n",
    "y_pred_svm = svm_classifier.predict(X_test)\n",
    "print('predict:\\n',y_pred_svm)\n",
    "print(classification_report(y_test,y_pred_svm))\n",
    "\n",
    "# tính accuracy \n",
    "acc_score_svm = metrics.accuracy_score(y_pred_svm,y_test) \n",
    "print('accuracy:\\n',acc_score_svm) "
   ]
  },
  {
   "cell_type": "code",
   "execution_count": null,
   "metadata": {},
   "outputs": [],
   "source": []
  },
  {
   "cell_type": "markdown",
   "metadata": {},
   "source": [
    "# rbf"
   ]
  },
  {
   "cell_type": "code",
   "execution_count": 42,
   "metadata": {},
   "outputs": [
    {
     "name": "stdout",
     "output_type": "stream",
     "text": [
      "predict:\n",
      " [ 9 10  0 ...  0  0  0]\n",
      "              precision    recall  f1-score   support\n",
      "\n",
      "           0       0.59      0.95      0.73      4286\n",
      "           1       1.00      1.00      1.00         5\n",
      "           2       1.00      0.04      0.07       103\n",
      "           3       0.75      0.03      0.05       353\n",
      "           4       0.67      0.62      0.64      1095\n",
      "           5       0.60      0.06      0.11      1962\n",
      "           6       0.57      0.41      0.48       447\n",
      "           7       0.71      0.46      0.56       520\n",
      "           8       0.98      0.97      0.98       832\n",
      "           9       1.00      0.64      0.78        45\n",
      "          10       0.90      0.82      0.86       522\n",
      "          11       0.83      0.81      0.82       267\n",
      "\n",
      "    accuracy                           0.65     10437\n",
      "   macro avg       0.80      0.57      0.59     10437\n",
      "weighted avg       0.67      0.65      0.58     10437\n",
      "\n",
      "accuracy:\n",
      " 0.6514324039474945\n"
     ]
    }
   ],
   "source": [
    "# ví dụ về sử dụng SVM \n",
    "from sklearn import metrics\n",
    "from sklearn import svm \n",
    "svm_classifier = svm.SVC(kernel='rbf',gamma=0.001, C=1000., max_iter= 2000000)\n",
    "svm_classifier.fit(X_train,y_train)\n",
    "# predict\n",
    "y_pred_svm = svm_classifier.predict(X_test)\n",
    "print('predict:\\n',y_pred_svm)\n",
    "print(classification_report(y_test,y_pred_svm))\n",
    "\n",
    "# tính accuracy \n",
    "acc_score_svm = metrics.accuracy_score(y_pred_svm,y_test) \n",
    "print('accuracy:\\n',acc_score_svm) "
   ]
  },
  {
   "cell_type": "markdown",
   "metadata": {},
   "source": [
    "# poly"
   ]
  },
  {
   "cell_type": "code",
   "execution_count": 43,
   "metadata": {},
   "outputs": [
    {
     "name": "stdout",
     "output_type": "stream",
     "text": [
      "predict:\n",
      " [0 0 0 ... 0 0 0]\n",
      "              precision    recall  f1-score   support\n",
      "\n",
      "           0       0.41      1.00      0.58      4286\n",
      "           1       0.00      0.00      0.00         5\n",
      "           2       0.00      0.00      0.00       103\n",
      "           3       0.00      0.00      0.00       353\n",
      "           4       0.00      0.00      0.00      1095\n",
      "           5       0.00      0.00      0.00      1962\n",
      "           6       0.00      0.00      0.00       447\n",
      "           7       0.00      0.00      0.00       520\n",
      "           8       0.00      0.00      0.00       832\n",
      "           9       0.00      0.00      0.00        45\n",
      "          10       0.00      0.00      0.00       522\n",
      "          11       0.00      0.00      0.00       267\n",
      "\n",
      "    accuracy                           0.41     10437\n",
      "   macro avg       0.03      0.08      0.05     10437\n",
      "weighted avg       0.17      0.41      0.24     10437\n",
      "\n",
      "accuracy:\n",
      " 0.41065440260611286\n"
     ]
    },
    {
     "name": "stderr",
     "output_type": "stream",
     "text": [
      "//anaconda3/envs/nlp/lib/python3.7/site-packages/sklearn/metrics/_classification.py:1268: UndefinedMetricWarning: Precision and F-score are ill-defined and being set to 0.0 in labels with no predicted samples. Use `zero_division` parameter to control this behavior.\n",
      "  _warn_prf(average, modifier, msg_start, len(result))\n"
     ]
    }
   ],
   "source": [
    "# ví dụ về sử dụng SVM \n",
    "from sklearn import metrics\n",
    "from sklearn import svm \n",
    "svm_classifier = svm.SVC(kernel='poly',gamma=0.001, C=100., max_iter= 2000000)\n",
    "svm_classifier.fit(X_train,y_train)\n",
    "# predict\n",
    "y_pred_svm = svm_classifier.predict(X_test)\n",
    "print('predict:\\n',y_pred_svm)\n",
    "print(classification_report(y_test,y_pred_svm))\n",
    "\n",
    "# tính accuracy \n",
    "acc_score_svm = metrics.accuracy_score(y_pred_svm,y_test) \n",
    "print('accuracy:\\n',acc_score_svm) "
   ]
  },
  {
   "cell_type": "code",
   "execution_count": null,
   "metadata": {},
   "outputs": [],
   "source": []
  },
  {
   "cell_type": "code",
   "execution_count": null,
   "metadata": {},
   "outputs": [],
   "source": []
  }
 ],
 "metadata": {
  "kernelspec": {
   "display_name": "Python 3",
   "language": "python",
   "name": "python3"
  },
  "language_info": {
   "codemirror_mode": {
    "name": "ipython",
    "version": 3
   },
   "file_extension": ".py",
   "mimetype": "text/x-python",
   "name": "python",
   "nbconvert_exporter": "python",
   "pygments_lexer": "ipython3",
   "version": "3.7.5"
  }
 },
 "nbformat": 4,
 "nbformat_minor": 2
}
